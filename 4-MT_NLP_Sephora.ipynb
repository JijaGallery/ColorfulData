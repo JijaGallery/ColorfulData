{
  "cells": [
    {
      "cell_type": "markdown",
      "metadata": {
        "id": "SLsU4eCca7lN"
      },
      "source": [
        "![image.png](data:image/png;base64,iVBORw0KGgoAAAANSUhEUgAAAR4AAACwCAIAAABWyparAAAYTUlEQVR4Ae1dv08bzdaeggIo+CFhCzAI/5AtOnxJRaokRShckIZ0SKQlVRKFLkmT5A9IpPdKrkkTCtIjhT+AtEG4NNU2SbbETfbifXaPD7Nr4/d+nvey+R5kofEyc2b2mfPMOXPm7GKqpTI/RIAIjBwBM3KJFEgEiEC1VCa1aLSJgBMESC0nsHLZJgKkFqlFBJwgQGo5gZVrNhEgtUgtIuAEAVLLCaxcs4kAqUVqEQEnCJBaTmDlmk0ESC1Siwg4QYDUcgIr12wiQGqRWkTACQKklhNYuWYTAVKL1CICThAgtZzAyjWbCJBapBYRcIIAqeUEVq7ZRIDUIrWIgBMESC0nsHLNJgKkFqlFBJwgQGo5gZVrNhEgtUgtIuAEAVLLCaxcs4kAqUVqEQEnCJBaTmDlmk0ESC1Siwg4QcBUVorRpxgX5AoKqddTL64UK6nXUy86rWzdgnxNHUnqRafDS+0x9eL/h2HI7FiFVEBSL95KlAx/iAARcIJA67zFDxEgAiNHwAT8IQJEwAECpJYDUCmSCAQBqUUtIAJOECC1nMBKoUSA1KIOEAEnCJBaTmClUCJAalEHiIATBEgtJ7BSKBEgtagDRMAJAqSWE1gplAiQWtQBIuAEAVLLCawUSgRILeoAEXCCAKnlBFYKJQKkFnWACDhBgNRyAiuFEgFSizpABJwgQGo5gZVCiQCpRR0gAk4QILWcwEqhRIDUog4QAScIkFpOYKVQIkBqUQeIgBMESC0nsFIoESC1qANEwAkCpJYTWCmUCJBa1AEi4AQBUssJrBRKBEgt6gARcIIAqeUEVgolAqQWdYAIOEGA1HICK4USAVKLOkAEnCBAajmBlUKJAKlFHSACThAgtZzASqFEgNSiDhABJwiQWk5gpVAiQGpRB4iAEwRMkz9EgAg4QMDwhwgQAScIVMuVzHxK5Wry02/8pXJ0X1YTqS8V5Mr/sQCBVnf4OkCyrj+g2gj/pHtMLd/Yl27Vr7LUiSuUi6VquYLf3amRCiOfiLjH/61im2t3qO820+VwCsvFkvWRGa2sFCsrRfnrjSDUimmsVhDpClYZX3sXE2O7sfeRV6gVy73xqLsYviNIGErO9fudnZ4B7JWV4vDdZbHmn0OtykpxanxCW/ap8QlZKTGdQq1qqbxcWCosLBYWFpcLS4M/hYVFS5OS9cHVaqmrsv0+6FTaJoekG1ZLZQwPI+ynWz0FhR0oVyorxdnpGY2DMWY+l6+sFIVO0lE/sQKOQBR1BIOgbrOfBH1dlrD5XP7Nq9dgV2/k/xW3tfzbWc42tWS+J83Y7PTM0729w8+HJ19PTr6efDk62n+5DyVLGihcWa3VhvxAL6GRlZVifa2uG8LxEGLP5/J6ssVqVVaK0qq+Vl8uLEXeUaxbovG1Yln3Ul+ra2JEwmMuSV/5uZwxplquPNnd/fjh4+Hnw8PPh58ODt6/ffd4exvDWy4sVUP6SatkYbmwJONEoVquzOfyoGu0YIXs0ktVUk50JXYC83O5B/fudy47d9bXMYy+TWJAMl0h29SqlsrlYskY83Rvz/O8ZAzV87yne3vGmMhEQCFK5Ukz9ubV685lZ5jPRbtdLpZA41qxbIy5aLeTDT3PO/t+dvj5cPPhJnoUI1YtlfNzuSe7u2gVBMHx8bEeFXQI1IJxu7ux4fs+6p99P5udnukOQO0iurSMdynLhSVjzOPt7ZOvJ77vJ3EIgsDzvGazuVqrdenXZ1tYK5bnc/lHW1vJu/N9v3XeOj4+fvHsuTFmanwiGswQNAD4V/1+OjgIguDjh49YAoQ5Yk7lyh9QMHqlvOXlJNyVlaIx5uOHj6JMv4Pgd/gFv3H9/dt3ka6XK7jHSTP2/u07adWvACGe5y0XluDygVpCY+nOkvDp4ECYA8XKz+V2dnakmlArdeEvLCze3djoXHZQ/6LdtqSJi1UtV/Jzufxc7vj4GJVlSIKDhuJK5ptXrwWNCFIVVAC1ZJyQpiWApViwMPhUtelNVrzXmp2eAe0v2u2p8QntEKZKyPrFzFqtcP02xuy/3A9COlnTL8qBwtO9vdnpGdFjY4ym1uC2vu+L1aqWulYL1BIltvrCVyHPzdRSmt3VyHLFolbrvAU3TIfXxBQ8uHdfUz11MIBI/oSxFRYWBRAY2Gqpa7UajYbcmkbGoplQFBwQCT1SiUErVyzAXzx7ru/oz7RaKUAIIre4AMWanZ4RrQqCoHPZ+XRw8GR39/H29vu37/SfQA9hiGW1fvz62TpvJT8X7XbrvPXt9BT7E+iQRS20umi3k54YrGW3bbEbWki1WrgRreKg1p31dbFarfOW2JmofshAY0yj0ZBqoEHnsvPt9LTZbL559Xr/5f77t+++HB1dtNvCKxROvp4YY6L9XhyW0NRCtc5l5+z7Weu8BR/YErL5cNPaWKaqE5x2jAGDRO9YKSLP9hYrW+pN3Xgxm1Yr9DGmxidgskQJdnZ2sA1A9OLO+jrY5Xne+7fv9CJtLaLNZtMYMzs9MzU+kfzIPseiVhAEP379XK3VpsYn5nP5uxsbFp89z6uWK1DfkVALvIIuzk7P3N3Y+PHrp1b3k68nj7a2JDwokZXZ6Zn9l/tauYMg+HJ0FDFWqbVYLYg9+34GZJYLS41Go9ls6hUEDIGSDWDI1PjE0709Pc7OZSeiJYIcagA3qmxWKmSTWnH04vDzobg6enuDHT9m9CpaWF+rR/vmODhmWS1QSxQXOytQQgydxCTEaoFa9bU6QtuIoa3WatpEiOfTb6/1t6wWKldWisuFpanxiW+np6KvncsOjGR+Lgdr0LWE8T4HcY5ysXTy9UQQu2oLp05uLWm1xGAuF5YQgUQwBv3+DoL6Wl2vWSl6H3qDeqhoq+crpVX2yZZNasUbLa0oUGIdWS4XS/O5/KQZSzotqVZLqCVKec1Pi70mi1r/+lc3jF4pdsN3iL9pW3r4+RCsHp5a5WJpubCU6hAKD3XwBi4WSBJFEbVeIqgYb+GMMVrLPc8DN2S/lGq1hKJw7SRkEgSBbGJ1WAJUwWjzc7nNh5uyBAixPc9brdWwfiXb/gFkyyq1MMdfjo5kqqKQbqhDsi1OUbVQ7VKpZRGp3+xa1MKhU6UY5XYUFhZxegNlkk3F8A7hjdTCoZDeScIC3Dz+0DuVDSo4CYstiIFasn+DQyiLDmDXIdn3b991A/GazGFZmhhjME0ARA9bAiHJ5n/AlWxSK3YIEeWDinie9+De/a6JiA+vMD3WiggdSqdWrB9Ywq3fMtmDqbVcWMKR1N+jVtw1TuoGW62p8Yk3r17LmuL7vty1MERGiwLuBQflk2YMOx/BTZv6Yailg6vv376bNGNWd7iLcrFUWFisr9Vle+Z53qOtLbFgwttk8z/gSjapFW4hMG2dy45Eiq+mEAshYl8Dpsei1r//+ku2/snC1PiEVtl+1IJDODU+8WR3V7RHQgWpDuHs9AxOpeZzefnk53Kz0zP1tbqYDtnwwBRYTl0Uh4z91dS71uOH5Wmdt2SQT/f25B4HUAt+8hWNcfKL5pEfrpYGDAD7PWPMv//6SzqCe3z2/Uyu7OzsRFGihITUG8nQxWxSK54GY7rPm8k8oeB53scPHxG6KCwsInIV7SUQjypXrDDGt9PTjx8+9ntmBwlT0BXopXg1vu9jrwWlLywsGmOwA8RgJP4+n8vr4Pu309NHW1uPt7f7fZ7u7WHVCIKgdd6aNGO4EWRLiR24CvRFgYQYk1TlEwuMvwpuMFyRPxn60vm5nA7ow7DIXis/lyssLOL2saLd3dhIbmXhOCDcIkGd30Fwd2PDGAOTC3x0jDF15Nm9mFVqVYrdZFNkY2hVFpr9+PXz08EB5rJcLF2jVpjoJF4N1EsaJguyX4KGaavleR7IBlt3Z31d7ys6l527GxvYqVtWC6dwVl9yJqsLFrUKC4ta9SVRY7AKWtSanZ6BacW9fzs9hUuJXMFGoyEDA7UkiH9nfV1HQSLi9WG1nI7oXpYLS/W1uqxNncsO0inht2vrOviObv9fs0otbNklDP3p4EDcJ1GLIAjERUQ8A7alOjS1oBPRyhoHsjW1fN//dHDw6eDg8PPht9NTbUyCIID/A3OXpJYe5+CytlrIRZT6YAUM2gBti1aWmAPzufyDe/dlt9bLPArTcJGNgS4u2u0Xz56/efUaR8/WDT7Z3c3P5br9xqcaegxyPAAYn+zuIiHGGINTE3QBb/zmGEw8eN3FbS5nlVowWUBWJ6emEgwOj7BreGph7rXV0olOot+phdZ5a7VW6zpLISetCGFqk34XZa9VLVemxieudF1q9sZW6trwoVQt5I/OUfQ8Lz+XAz5wCEEG6UUX5E89NzJN6eV+UR/WFV1IBjDEep5njBl28Gl9DXXX/3jDrFIriSYONDcfbh5+PgTBRAmCIJA9D2yItdc6+XqCtflqG5D8PNnd1dsJbbW0zunyt9PTO+vrOL1Fj6Jqok9fjo6OB/7I+EEtrOt4dkb6GtJqCVyw2whjyl7O87yuPVF7LelaOrIKcsiepATymI0xOP6CKMEf7rEVidl/uY8wY1KajDxzhT+HWjAOSImor9V1ogY8QzmgtKxWEATwSabGJybNmDFm0oxNmjFsMKbGJyK1i5e9AdRCxt2bV6+nxieEV9Bmi1pIkE1GI+XKaq0mFlhTywqH/L34dezTIgxoOYQWtSTuimpgiO/7X46OkEuF47VUX7SyUtRWEQmcyHEBGrINA2Nlz8a91g1Ps/9PFhh5uhHHKZIUL8stzpRTrRbWYImDYfpRUx7akwVVU8v3/f2X+y+ePd9/ub+zs4OwZOoDIKnUSvYoViWZjQGrZZ2b+b4vzybeAHvMq3KxhJRCoVa0mbxutcCl1nlLHx4iIqpvUO+RNESI3EIIXEesVkjRNMbk53ISPAyC4NHWlnYNbriXeJm7zdUya7WQvxOnyXUnFTvp8Aq+ygkMJlhvSyyHUNwbIRUK8G1EYxAM0NRCei4MXX4u1+VhqKBdhVOqDG3WwXf9yIn0Ir33OzJGsu98Lq+V8vH2tn5epq+2xUOqhkl92lvTiSwwaGKyYE8QFQSM4oIia0RTqxru9/CGAgQ80MTv86PPJHEAKNKsuEvfm7rFHMsmtUItKSwsIsN9anwisi3y4FP4yON8Lv94e1t2FDpOnUotzGuqh6On1qIWYse6gi4LWyyrJTyHbUQTlGF1tUMlYQxUsFKH5FRa9FIPoFcOwQEfVms1rfqPt7cji5GIEIJaGAx4Iv4zbq0nP0yRAW/lYENchtSCnDHAYxckraMC3UWGytmkVvhKlrsbG0/39prN5rfTU6zckqWON0ksF5Ye3Lsv8eIetRJHxuIQYuYGL5maWnJk3G/K+1FLWy1pG9EszPTrRy0YQP2Mxu8geHDvfpTwPnAVx2AsY946b/XyIRLUAqut5BU8EtINu4eWWcaPr8YYSfUQNqZSy7ooxjPlRSAD76s3gNtULavUskJMkujZzUAHvuGzunjNAya4t+PvR62woSyZ/bbUmlo/fv1ENka/2b2RWl1To4wt2CURPCiftlpYPmanZ0R9caY8Oz3Tfbijn26hl9AV1HlYV/LfvHrdSwJMUEtAswCXIfV6DGkmh9EYOd6ocdFuJz94vFJ7thftdnQGcD0LtNdFv7u7ldezSa1QRXQmmzhF0cIfOv2y1oJaYiiqw1ErmlHR+3j+LGqJG5OqATdSSwbcbQ4jEFqtZBhDRGH8+nQrCIJvp6fzuXy06YqJpJsga+TR1pbv+2JMrpmscACy1wI3hFp4NkSClkEQ9Ex9PGx4gzpdA4ZI3g+nC3gNm6Tho7voERXsV2PAU4G9/RezSa1S2dq6+L4v71GCPiFuJgk1QRDsv9yPgml9qNUvU7YXuQpp9g9Qq7CwOIBaCKvoHZeYZeT+I3MSOCDygU3p/st9vcXqXHYajca1EEhstYRCoJZ4evpxkiAINh9u4qWCqIDXoYEksn3CexRhbIXqKOCsHzJxC1GsMi234/ZzyRphNqkVLpN4aZlMpOd5eIAfR0MP7t3XLpPv+1gyYSWmxif0VvvL0dHmw81+mbKPt7clSGhlY/z49dOF1RqGWsuFpdnpGWSRixXC20FAMDkig5MmxkQqixcte1TJIbSoJZSYGp/QeevYvsrj2Jrt+gUBGr1r+hc67au1mgQkO5edB/fu99ayLBuurFILTpHezYNjF+02XpMC5ZA5g8nC2ZflEEodYalV8H1/tVYT/fgHrFa/4LuoOFLLCwuL+bmcxS6NA6CQQI6+L6RHaIFdpR9otaqhs6CTgyVPEq/KKRdLwsnfQdBoNOTc/Bqjrm+lrGcFovyphB9uSbj9X7NJrXgx04meshhDgXRgV3Zi1TAor7MxBvMKMvH2GOTaW+8hvMpOgNXqGsN4VMmCPteCTNn4pTbsZ7Uk4IE1ApF0SSnSzLHKGg3f95/s7iZfOINhD3heC3EdeSAFXXQuO092d5G5ot1FyaaXJSkJC65YT7hhIbvhfRv9oe7Xyz9/PcPUklw1nUZtqVTnsqOPg0U1rXMtq5X1NfkeQrEDvu8P85plUEuH5uRcS4ak5x4RQhmGPjbQ1brlMOaB9wdrB1ja6kLnsnN8fIwXeMBe2dLC9xDqB4ElEoglAK10eB1v/Kyv1fNzOb2zffHseS/wOJAJlZXipBnTocLopQAZN1yZpFZ3IQxxRwGKhXcyyxuVf/z6eXx8jN2XJCuJJuXnck/39k6+ngzMj43+ePj5sLcbCZ2iw8+H+NuXo6MhrVZhYXHz4SZanXw9gfakmizkNNTX6jK2TwcH14INsabCjHR/hxnxSIo/Pj72PE9w6Fx2fN8/+37WbDaxB5vP5VdrNYHCKuDtotJ1s9nsvYszZDKWiUdbW4LeydeT/Zf7jUZDrnw5OsJbrizh/b7iPeHS/NPBwTDHdP2k3ZLrmaTWNezCkAbSautr9Uaj8Xh7e/PhJtbmrkZeV0RwEvohG/0bC10OxAdQ+tnH3lsyByyxcWwazyCjL4lVplotvPZdjyoyMqoX+/wtjKrBMcNZOZ5ibjQaktmI8ECPkDEyAhEKepx4uhlLABpKMFAPLz+Xk/+3gOs3+oFRp+EdlYsledoSb5LsZ1Stod7mr38CtTDZ2HjM5/KYZqTziVmQfzWCORvyt7ynKeJVSBLZ50i/2qalTvbg7oZvonkoKSNiw2HuNA4CheCAvoSWw3Rt1bnhXsIFCIBEVOxDYC1WZAJnfNU3qytnpfyHUMuekpADPY1Xi73M4sgLA6Z8QF/9WiWb4B51fbiCqKl5nnql11yhoaVJWXctF6Wg/zqgPKzVAvHi+dICM08tSbvOVkFmWg8byzau6EmCO5d6vUu/+BWCVpO/+1WGpIeBi4NF6VuQcr8mukLqHaUaVUtadAgR5qxAiB68rgyG6Dr4q/SiK+uyUEsGbBXQIy7qhlK26mfua/SPp+R+MlSQdTpaj+MtDb7ekhsZZjAyfl3oN37ctdx7v2ojua77+i96lCZyX3pU8q7Caxevm6/Uhrr+bS53/1cFP0SACIwcAXNnfZ0fIkAERo6A8flDBIiAAwRMwB8iQAQcIEBqOQCVIolAEBhJ3GSBCBCBESJAagUjRJOiiIAgQIeQvgsRcIIAqeUEVgolAqQWdYAIOEGA1HICK4USAVKLOkAEnCBAajmBlUKJAKlFHSACThAgtZzASqFEgNSiDhABJwiQWk5gpVAiQGpRB4iAEwRILSewUigRILWoA0TACQKklhNYKZQIkFrUASLgBAFSywmsFEoESC3qABFwggCp5QRWCiUCpBZ1gAg4QYDUcgIrhRIBUos6QAScIEBqOYGVQokAqUUdIAJOECC1nMBKoUSA1KIOEAEnCJBaTmClUCJAalEHiIATBEgtJ7BSKBEgtagDRMAJAqSWE1gplAiQWtQBIuAEAVLLCawUSgRILeoAEXCCAP8rJP8rJBFwggCtlpMVi0KJgHnx7Dk/RIAIjBwBMzU+wQ8RIAIjR8BUS2V+iAARGDkCpBZXFiLgBAFSywmsI18CKTBzCJBapBYRcIIAqeUE1swtsRzwyBEgtUgtIuAEAVLLCawjXwIpMHMIkFqkFhFwggCp5QTWzC2xHPDIESC1SC0i4AQBUssJrCNfAikwcwiQWqQWEXCCAKnlBNbMLbEc8MgRILVILSLgBAFSywmsI18CKTBzCJBapBYRcIIAqeUE1swtsRzwyBEgtUgtIuAEAVLLCawjXwIpMHMIkFqkFhFwggCp5QTWzC2xHPDIESC1SC0i4AQBUssJrCNfAikwcwiQWqQWEXCCwH8ALJvGnOjoZ3QAAAAASUVORK5CYII=)"
      ]
    },
    {
      "cell_type": "markdown",
      "source": [
        "# **Purpose**\n",
        "\n",
        "**Leveraging NLP for Enhanced Customer Insights at Sephora**"
      ],
      "metadata": {
        "id": "QCatTrU6OEPd"
      }
    },
    {
      "cell_type": "markdown",
      "source": [
        "#**Methodology**\n",
        "**1. Dataset Description**\n",
        "The dataset comprises information gathered from the Sephora online store and user reviews specifically focused on skincare products. It encompasses over 8,000 beauty products from Sephora, including product names, brand names, prices, ingredients, ratings, and additional features. Additionally, the dataset contains user reviews for skincare products, totaling more than 1 million reviews on over 2,000 skincare items. Each review includes details such as user appearances, review ratings, review text, and review titles. The dataset serves as the foundation for conducting sentiment analysis and exploring insights related to beauty product attributes and customer feedback.\n",
        "\n",
        "**2. Class Imbalance Handling**\n",
        "To address class imbalance in the dataset, a two-step approach was implemented. Initially, oversampling was performed by duplicating a portion of the minority class instances, thereby augmenting its representation in the dataset. Subsequently, undersampling was employed to downsize the majority class, reducing its dominance in the dataset. This combined strategy aimed to create a more balanced distribution of class instances, ensuring that the model is trained on a dataset with equitable representation of both classes. By mitigating the effects of class imbalance, the model's performance and generalization capabilities were enhanced, leading to more reliable predictions and evaluations.\n",
        "\n",
        "**3. Data Preprocessing**\n",
        "\n",
        "It involved several key steps to refine and optimize the dataset. This included tokenization, lowercasing, punctuation removal, stop word removal for text preprocessing, and......\n"
      ],
      "metadata": {
        "id": "U7-qgsocOJno"
      }
    },
    {
      "cell_type": "markdown",
      "source": [
        "**Results**"
      ],
      "metadata": {
        "id": "7e2ob7MaOOcg"
      }
    },
    {
      "cell_type": "markdown",
      "source": [
        "The NLP project at Sephora utilizing the \"prajjwal1/bert-tiny\" model yielded promising results across various evaluation metrics. With a carefully selected set of hyperparameters, including a batch size of 8, a learning rate of 1e-5, and training for 3 epochs, the model demonstrated robust performance in sentiment analysis tasks. Notably, the model achieved commendable accuracy, precision, recall, and F1 score, with values of 0.8888, 0.8865, 0.8922, and 0.8893 respectively. These results indicate the effectiveness of the model in classifying sentiment within textual data. The adoption of the AdamW optimizer facilitated efficient parameter optimization during training, contributing to the model's overall performance. These outcomes underscore the efficacy of employing state-of-the-art NLP techniques, to derive actionable insights from textual data, thereby empowering Sephora to make data-driven decisions and enhance customer experiences."
      ],
      "metadata": {
        "id": "lNyk0f3POPXn"
      }
    },
    {
      "cell_type": "markdown",
      "source": [
        "**Library import**"
      ],
      "metadata": {
        "id": "y-_lEO1SLdbO"
      }
    },
    {
      "cell_type": "code",
      "execution_count": null,
      "metadata": {
        "id": "R366ynRoh2pM"
      },
      "outputs": [],
      "source": [
        "import os\n",
        "import zipfile\n",
        "import pandas as pd\n",
        "from sklearn.utils import shuffle\n",
        "import numpy as np\n",
        "import re\n",
        "import string\n",
        "import matplotlib.pyplot as plt\n",
        "import seaborn as sns\n",
        "from transformers import pipeline\n",
        "from IPython.display import display, Markdown\n",
        "import torch\n",
        "from sklearn.model_selection import train_test_split\n",
        "from transformers import BertTokenizer, BertForSequenceClassification, AdamW\n",
        "from torch.utils.data import TensorDataset, DataLoader, RandomSampler, SequentialSampler\n",
        "from sklearn.metrics import accuracy_score, classification_report"
      ]
    },
    {
      "cell_type": "markdown",
      "source": [
        " **Data import from Google Drive**"
      ],
      "metadata": {
        "id": "Cb2jufJWLhbl"
      }
    },
    {
      "cell_type": "code",
      "execution_count": null,
      "metadata": {
        "colab": {
          "base_uri": "https://localhost:8080/"
        },
        "id": "51WL3zQoVLND",
        "outputId": "256f6720-e0cc-406b-c1bd-7d0aa2f49151"
      },
      "outputs": [
        {
          "output_type": "stream",
          "name": "stdout",
          "text": [
            "Drive already mounted at /content/drive; to attempt to forcibly remount, call drive.mount(\"/content/drive\", force_remount=True).\n"
          ]
        }
      ],
      "source": [
        "from google.colab import drive\n",
        "drive.mount('/content/drive')"
      ]
    },
    {
      "cell_type": "markdown",
      "source": [],
      "metadata": {
        "id": "lRXLW2b0LcWD"
      }
    },
    {
      "cell_type": "code",
      "execution_count": null,
      "metadata": {
        "colab": {
          "base_uri": "https://localhost:8080/"
        },
        "id": "i2cjlhUAVjXu",
        "outputId": "a900db9b-2569-4077-b93e-156d2050aa8b"
      },
      "outputs": [
        {
          "output_type": "stream",
          "name": "stdout",
          "text": [
            "'/content/drive/My Drive/Sephora.zip'\n"
          ]
        }
      ],
      "source": [
        "!ls \"/content/drive/My Drive/Sephora.zip\"\n",
        "\n"
      ]
    },
    {
      "cell_type": "code",
      "execution_count": null,
      "metadata": {
        "colab": {
          "base_uri": "https://localhost:8080/"
        },
        "id": "aG7a0YmYWn4l",
        "outputId": "ab7d48c0-1455-462e-895b-3cf85f4536eb"
      },
      "outputs": [
        {
          "output_type": "stream",
          "name": "stdout",
          "text": [
            "Archive:  /content/drive/My Drive/Sephora.zip\n",
            "replace /content/drive/My Drive/Sephora/product_info.csv? [y]es, [n]o, [A]ll, [N]one, [r]ename: "
          ]
        }
      ],
      "source": [
        "# Unzip the file\n",
        "!unzip \"/content/drive/My Drive/Sephora.zip\" -d \"/content/drive/My Drive/Sephora\"\n"
      ]
    },
    {
      "cell_type": "code",
      "execution_count": null,
      "metadata": {
        "colab": {
          "base_uri": "https://localhost:8080/"
        },
        "id": "TVzvbwFWrLph",
        "outputId": "c0c1e079-fb12-4798-d006-3050e630211e"
      },
      "outputs": [
        {
          "output_type": "stream",
          "name": "stderr",
          "text": [
            "<ipython-input-42-fc18b6e6cdc6>:9: DtypeWarning: Columns (1) have mixed types. Specify dtype option on import or set low_memory=False.\n",
            "  df_raw = pd.read_csv(os.path.join('/content/drive/My Drive/Sephora', csv_file))\n",
            "<ipython-input-42-fc18b6e6cdc6>:9: DtypeWarning: Columns (1) have mixed types. Specify dtype option on import or set low_memory=False.\n",
            "  df_raw = pd.read_csv(os.path.join('/content/drive/My Drive/Sephora', csv_file))\n",
            "<ipython-input-42-fc18b6e6cdc6>:9: DtypeWarning: Columns (1) have mixed types. Specify dtype option on import or set low_memory=False.\n",
            "  df_raw = pd.read_csv(os.path.join('/content/drive/My Drive/Sephora', csv_file))\n"
          ]
        },
        {
          "output_type": "stream",
          "name": "stdout",
          "text": [
            "Shape of merged DataFrame: (1094411, 19)\n"
          ]
        }
      ],
      "source": [
        "\n",
        "\n",
        "# List all CSV files in the 'Sephora' directory\n",
        "csv_files = [file for file in os.listdir('/content/drive/My Drive/Sephora') if file.startswith('reviews') and file.endswith('.csv')]\n",
        "\n",
        "# Initialize an empty list to store DataFrames\n",
        "dfs = []\n",
        "\n",
        "# Read each CSV file into a DataFrame and append to the list\n",
        "for csv_file in csv_files:\n",
        "    df_raw = pd.read_csv(os.path.join('/content/drive/My Drive/Sephora', csv_file))\n",
        "    dfs.append(df_raw)\n",
        "\n",
        "# Concatenate all DataFrames in the list along the rows axis (axis=0)\n",
        "df = pd.concat(dfs, ignore_index=True)\n",
        "\n",
        "# Print the shape of the merged DataFrame\n",
        "print(\"Shape of merged DataFrame:\", df.shape)\n",
        "\n"
      ]
    },
    {
      "cell_type": "code",
      "execution_count": null,
      "metadata": {
        "colab": {
          "base_uri": "https://localhost:8080/",
          "height": 1000
        },
        "id": "tlVitH31s3gY",
        "outputId": "45ee7b91-7375-46f1-fb85-e2a7d70bfdc5"
      },
      "outputs": [
        {
          "output_type": "execute_result",
          "data": {
            "text/plain": [
              "   Unnamed: 0    author_id  rating  is_recommended  helpfulness  \\\n",
              "0           0   1741593524       5             1.0          1.0   \n",
              "1           1  31423088263       1             0.0          NaN   \n",
              "2           2   5061282401       5             1.0          NaN   \n",
              "3           3   6083038851       5             1.0          NaN   \n",
              "4           4  47056667835       5             1.0          NaN   \n",
              "\n",
              "   total_feedback_count  total_neg_feedback_count  total_pos_feedback_count  \\\n",
              "0                     2                         0                         2   \n",
              "1                     0                         0                         0   \n",
              "2                     0                         0                         0   \n",
              "3                     0                         0                         0   \n",
              "4                     0                         0                         0   \n",
              "\n",
              "  submission_time  \\\n",
              "0      2023-02-01   \n",
              "1      2023-03-21   \n",
              "2      2023-03-21   \n",
              "3      2023-03-20   \n",
              "4      2023-03-20   \n",
              "\n",
              "                                                                                                                                                                                                                                                                                                                                                                                                                                                               review_text  \\\n",
              "0  I use this with the Nudestix “Citrus Clean Balm & Make-Up Melt“ to double cleanse and it has completely changed my skin (for the better). The make-up melt is oil based and removes all of your makeup super easily. I follow-up with this water based cleanser, and I also use this just by itself when I’m not wearing make-up. It leaves the skin gently cleansed, but without stripping the skin. 10/10 recommend combining with the make-up melt. It’s perfection!   \n",
              "1                                                                                                                                                                                                                                                                                                       I bought this lip mask after reading the reviews and the hype. Unfortunately, it did not meet my expectations as vaseline petroleum jelly works way better for me.   \n",
              "2                                                                                                                                                                                         My review title says it all! I get so excited to get into bed and apply this lip mask. I do see a difference because I suffer from dry cracked lips. I drink a lot of water and apply lip balm daily but nothing helped until I started using this. untiluntistafted usinf this.   \n",
              "3                                                                                                                                                                                                                                   I’ve always loved this formula for a long time. I honestly don’t even use it for night time. I use it as an everyday lip balm. I love the texture. Gummy Bear is my second most favourite scent. Grapefruit is the best in my opinion.   \n",
              "4                                                                                                                                                                                                                                                    If you have dry cracked lips, this is a must have. After a few weeks of use I have learned I will always have by my bedside. I thought it was a little expensive but a little goes a long way. It is worth the price.   \n",
              "\n",
              "                       review_title skin_tone eye_color    skin_type  \\\n",
              "0  Taught me how to double cleanse!       NaN     brown          dry   \n",
              "1                      Disappointed       NaN       NaN          NaN   \n",
              "2              New Favorite Routine     light     brown          dry   \n",
              "3   Can't go wrong with any of them       NaN     brown  combination   \n",
              "4                   A must have !!!     light     hazel  combination   \n",
              "\n",
              "  hair_color product_id                                        product_name  \\\n",
              "0      black    P504322                      Gentle Hydra-Gel Face Cleanser   \n",
              "1        NaN    P420652  Lip Sleeping Mask Intense Hydration with Vitamin C   \n",
              "2     blonde    P420652  Lip Sleeping Mask Intense Hydration with Vitamin C   \n",
              "3      black    P420652  Lip Sleeping Mask Intense Hydration with Vitamin C   \n",
              "4        NaN    P420652  Lip Sleeping Mask Intense Hydration with Vitamin C   \n",
              "\n",
              "  brand_name  price_usd  \n",
              "0   NUDESTIX       19.0  \n",
              "1    LANEIGE       24.0  \n",
              "2    LANEIGE       24.0  \n",
              "3    LANEIGE       24.0  \n",
              "4    LANEIGE       24.0  "
            ],
            "text/html": [
              "\n",
              "  <div id=\"df-9618e11d-8872-4517-a014-7859881ab2ed\" class=\"colab-df-container\">\n",
              "    <div>\n",
              "<style scoped>\n",
              "    .dataframe tbody tr th:only-of-type {\n",
              "        vertical-align: middle;\n",
              "    }\n",
              "\n",
              "    .dataframe tbody tr th {\n",
              "        vertical-align: top;\n",
              "    }\n",
              "\n",
              "    .dataframe thead th {\n",
              "        text-align: right;\n",
              "    }\n",
              "</style>\n",
              "<table border=\"1\" class=\"dataframe\">\n",
              "  <thead>\n",
              "    <tr style=\"text-align: right;\">\n",
              "      <th></th>\n",
              "      <th>Unnamed: 0</th>\n",
              "      <th>author_id</th>\n",
              "      <th>rating</th>\n",
              "      <th>is_recommended</th>\n",
              "      <th>helpfulness</th>\n",
              "      <th>total_feedback_count</th>\n",
              "      <th>total_neg_feedback_count</th>\n",
              "      <th>total_pos_feedback_count</th>\n",
              "      <th>submission_time</th>\n",
              "      <th>review_text</th>\n",
              "      <th>review_title</th>\n",
              "      <th>skin_tone</th>\n",
              "      <th>eye_color</th>\n",
              "      <th>skin_type</th>\n",
              "      <th>hair_color</th>\n",
              "      <th>product_id</th>\n",
              "      <th>product_name</th>\n",
              "      <th>brand_name</th>\n",
              "      <th>price_usd</th>\n",
              "    </tr>\n",
              "  </thead>\n",
              "  <tbody>\n",
              "    <tr>\n",
              "      <th>0</th>\n",
              "      <td>0</td>\n",
              "      <td>1741593524</td>\n",
              "      <td>5</td>\n",
              "      <td>1.0</td>\n",
              "      <td>1.0</td>\n",
              "      <td>2</td>\n",
              "      <td>0</td>\n",
              "      <td>2</td>\n",
              "      <td>2023-02-01</td>\n",
              "      <td>I use this with the Nudestix “Citrus Clean Balm &amp; Make-Up Melt“ to double cleanse and it has completely changed my skin (for the better). The make-up melt is oil based and removes all of your makeup super easily. I follow-up with this water based cleanser, and I also use this just by itself when I’m not wearing make-up. It leaves the skin gently cleansed, but without stripping the skin. 10/10 recommend combining with the make-up melt. It’s perfection!</td>\n",
              "      <td>Taught me how to double cleanse!</td>\n",
              "      <td>NaN</td>\n",
              "      <td>brown</td>\n",
              "      <td>dry</td>\n",
              "      <td>black</td>\n",
              "      <td>P504322</td>\n",
              "      <td>Gentle Hydra-Gel Face Cleanser</td>\n",
              "      <td>NUDESTIX</td>\n",
              "      <td>19.0</td>\n",
              "    </tr>\n",
              "    <tr>\n",
              "      <th>1</th>\n",
              "      <td>1</td>\n",
              "      <td>31423088263</td>\n",
              "      <td>1</td>\n",
              "      <td>0.0</td>\n",
              "      <td>NaN</td>\n",
              "      <td>0</td>\n",
              "      <td>0</td>\n",
              "      <td>0</td>\n",
              "      <td>2023-03-21</td>\n",
              "      <td>I bought this lip mask after reading the reviews and the hype. Unfortunately, it did not meet my expectations as vaseline petroleum jelly works way better for me.</td>\n",
              "      <td>Disappointed</td>\n",
              "      <td>NaN</td>\n",
              "      <td>NaN</td>\n",
              "      <td>NaN</td>\n",
              "      <td>NaN</td>\n",
              "      <td>P420652</td>\n",
              "      <td>Lip Sleeping Mask Intense Hydration with Vitamin C</td>\n",
              "      <td>LANEIGE</td>\n",
              "      <td>24.0</td>\n",
              "    </tr>\n",
              "    <tr>\n",
              "      <th>2</th>\n",
              "      <td>2</td>\n",
              "      <td>5061282401</td>\n",
              "      <td>5</td>\n",
              "      <td>1.0</td>\n",
              "      <td>NaN</td>\n",
              "      <td>0</td>\n",
              "      <td>0</td>\n",
              "      <td>0</td>\n",
              "      <td>2023-03-21</td>\n",
              "      <td>My review title says it all! I get so excited to get into bed and apply this lip mask. I do see a difference because I suffer from dry cracked lips. I drink a lot of water and apply lip balm daily but nothing helped until I started using this. untiluntistafted usinf this.</td>\n",
              "      <td>New Favorite Routine</td>\n",
              "      <td>light</td>\n",
              "      <td>brown</td>\n",
              "      <td>dry</td>\n",
              "      <td>blonde</td>\n",
              "      <td>P420652</td>\n",
              "      <td>Lip Sleeping Mask Intense Hydration with Vitamin C</td>\n",
              "      <td>LANEIGE</td>\n",
              "      <td>24.0</td>\n",
              "    </tr>\n",
              "    <tr>\n",
              "      <th>3</th>\n",
              "      <td>3</td>\n",
              "      <td>6083038851</td>\n",
              "      <td>5</td>\n",
              "      <td>1.0</td>\n",
              "      <td>NaN</td>\n",
              "      <td>0</td>\n",
              "      <td>0</td>\n",
              "      <td>0</td>\n",
              "      <td>2023-03-20</td>\n",
              "      <td>I’ve always loved this formula for a long time. I honestly don’t even use it for night time. I use it as an everyday lip balm. I love the texture. Gummy Bear is my second most favourite scent. Grapefruit is the best in my opinion.</td>\n",
              "      <td>Can't go wrong with any of them</td>\n",
              "      <td>NaN</td>\n",
              "      <td>brown</td>\n",
              "      <td>combination</td>\n",
              "      <td>black</td>\n",
              "      <td>P420652</td>\n",
              "      <td>Lip Sleeping Mask Intense Hydration with Vitamin C</td>\n",
              "      <td>LANEIGE</td>\n",
              "      <td>24.0</td>\n",
              "    </tr>\n",
              "    <tr>\n",
              "      <th>4</th>\n",
              "      <td>4</td>\n",
              "      <td>47056667835</td>\n",
              "      <td>5</td>\n",
              "      <td>1.0</td>\n",
              "      <td>NaN</td>\n",
              "      <td>0</td>\n",
              "      <td>0</td>\n",
              "      <td>0</td>\n",
              "      <td>2023-03-20</td>\n",
              "      <td>If you have dry cracked lips, this is a must have. After a few weeks of use I have learned I will always have by my bedside. I thought it was a little expensive but a little goes a long way. It is worth the price.</td>\n",
              "      <td>A must have !!!</td>\n",
              "      <td>light</td>\n",
              "      <td>hazel</td>\n",
              "      <td>combination</td>\n",
              "      <td>NaN</td>\n",
              "      <td>P420652</td>\n",
              "      <td>Lip Sleeping Mask Intense Hydration with Vitamin C</td>\n",
              "      <td>LANEIGE</td>\n",
              "      <td>24.0</td>\n",
              "    </tr>\n",
              "  </tbody>\n",
              "</table>\n",
              "</div>\n",
              "    <div class=\"colab-df-buttons\">\n",
              "\n",
              "  <div class=\"colab-df-container\">\n",
              "    <button class=\"colab-df-convert\" onclick=\"convertToInteractive('df-9618e11d-8872-4517-a014-7859881ab2ed')\"\n",
              "            title=\"Convert this dataframe to an interactive table.\"\n",
              "            style=\"display:none;\">\n",
              "\n",
              "  <svg xmlns=\"http://www.w3.org/2000/svg\" height=\"24px\" viewBox=\"0 -960 960 960\">\n",
              "    <path d=\"M120-120v-720h720v720H120Zm60-500h600v-160H180v160Zm220 220h160v-160H400v160Zm0 220h160v-160H400v160ZM180-400h160v-160H180v160Zm440 0h160v-160H620v160ZM180-180h160v-160H180v160Zm440 0h160v-160H620v160Z\"/>\n",
              "  </svg>\n",
              "    </button>\n",
              "\n",
              "  <style>\n",
              "    .colab-df-container {\n",
              "      display:flex;\n",
              "      gap: 12px;\n",
              "    }\n",
              "\n",
              "    .colab-df-convert {\n",
              "      background-color: #E8F0FE;\n",
              "      border: none;\n",
              "      border-radius: 50%;\n",
              "      cursor: pointer;\n",
              "      display: none;\n",
              "      fill: #1967D2;\n",
              "      height: 32px;\n",
              "      padding: 0 0 0 0;\n",
              "      width: 32px;\n",
              "    }\n",
              "\n",
              "    .colab-df-convert:hover {\n",
              "      background-color: #E2EBFA;\n",
              "      box-shadow: 0px 1px 2px rgba(60, 64, 67, 0.3), 0px 1px 3px 1px rgba(60, 64, 67, 0.15);\n",
              "      fill: #174EA6;\n",
              "    }\n",
              "\n",
              "    .colab-df-buttons div {\n",
              "      margin-bottom: 4px;\n",
              "    }\n",
              "\n",
              "    [theme=dark] .colab-df-convert {\n",
              "      background-color: #3B4455;\n",
              "      fill: #D2E3FC;\n",
              "    }\n",
              "\n",
              "    [theme=dark] .colab-df-convert:hover {\n",
              "      background-color: #434B5C;\n",
              "      box-shadow: 0px 1px 3px 1px rgba(0, 0, 0, 0.15);\n",
              "      filter: drop-shadow(0px 1px 2px rgba(0, 0, 0, 0.3));\n",
              "      fill: #FFFFFF;\n",
              "    }\n",
              "  </style>\n",
              "\n",
              "    <script>\n",
              "      const buttonEl =\n",
              "        document.querySelector('#df-9618e11d-8872-4517-a014-7859881ab2ed button.colab-df-convert');\n",
              "      buttonEl.style.display =\n",
              "        google.colab.kernel.accessAllowed ? 'block' : 'none';\n",
              "\n",
              "      async function convertToInteractive(key) {\n",
              "        const element = document.querySelector('#df-9618e11d-8872-4517-a014-7859881ab2ed');\n",
              "        const dataTable =\n",
              "          await google.colab.kernel.invokeFunction('convertToInteractive',\n",
              "                                                    [key], {});\n",
              "        if (!dataTable) return;\n",
              "\n",
              "        const docLinkHtml = 'Like what you see? Visit the ' +\n",
              "          '<a target=\"_blank\" href=https://colab.research.google.com/notebooks/data_table.ipynb>data table notebook</a>'\n",
              "          + ' to learn more about interactive tables.';\n",
              "        element.innerHTML = '';\n",
              "        dataTable['output_type'] = 'display_data';\n",
              "        await google.colab.output.renderOutput(dataTable, element);\n",
              "        const docLink = document.createElement('div');\n",
              "        docLink.innerHTML = docLinkHtml;\n",
              "        element.appendChild(docLink);\n",
              "      }\n",
              "    </script>\n",
              "  </div>\n",
              "\n",
              "\n",
              "<div id=\"df-400e6e8d-a4cd-4313-aa6e-81c3286f341b\">\n",
              "  <button class=\"colab-df-quickchart\" onclick=\"quickchart('df-400e6e8d-a4cd-4313-aa6e-81c3286f341b')\"\n",
              "            title=\"Suggest charts\"\n",
              "            style=\"display:none;\">\n",
              "\n",
              "<svg xmlns=\"http://www.w3.org/2000/svg\" height=\"24px\"viewBox=\"0 0 24 24\"\n",
              "     width=\"24px\">\n",
              "    <g>\n",
              "        <path d=\"M19 3H5c-1.1 0-2 .9-2 2v14c0 1.1.9 2 2 2h14c1.1 0 2-.9 2-2V5c0-1.1-.9-2-2-2zM9 17H7v-7h2v7zm4 0h-2V7h2v10zm4 0h-2v-4h2v4z\"/>\n",
              "    </g>\n",
              "</svg>\n",
              "  </button>\n",
              "\n",
              "<style>\n",
              "  .colab-df-quickchart {\n",
              "      --bg-color: #E8F0FE;\n",
              "      --fill-color: #1967D2;\n",
              "      --hover-bg-color: #E2EBFA;\n",
              "      --hover-fill-color: #174EA6;\n",
              "      --disabled-fill-color: #AAA;\n",
              "      --disabled-bg-color: #DDD;\n",
              "  }\n",
              "\n",
              "  [theme=dark] .colab-df-quickchart {\n",
              "      --bg-color: #3B4455;\n",
              "      --fill-color: #D2E3FC;\n",
              "      --hover-bg-color: #434B5C;\n",
              "      --hover-fill-color: #FFFFFF;\n",
              "      --disabled-bg-color: #3B4455;\n",
              "      --disabled-fill-color: #666;\n",
              "  }\n",
              "\n",
              "  .colab-df-quickchart {\n",
              "    background-color: var(--bg-color);\n",
              "    border: none;\n",
              "    border-radius: 50%;\n",
              "    cursor: pointer;\n",
              "    display: none;\n",
              "    fill: var(--fill-color);\n",
              "    height: 32px;\n",
              "    padding: 0;\n",
              "    width: 32px;\n",
              "  }\n",
              "\n",
              "  .colab-df-quickchart:hover {\n",
              "    background-color: var(--hover-bg-color);\n",
              "    box-shadow: 0 1px 2px rgba(60, 64, 67, 0.3), 0 1px 3px 1px rgba(60, 64, 67, 0.15);\n",
              "    fill: var(--button-hover-fill-color);\n",
              "  }\n",
              "\n",
              "  .colab-df-quickchart-complete:disabled,\n",
              "  .colab-df-quickchart-complete:disabled:hover {\n",
              "    background-color: var(--disabled-bg-color);\n",
              "    fill: var(--disabled-fill-color);\n",
              "    box-shadow: none;\n",
              "  }\n",
              "\n",
              "  .colab-df-spinner {\n",
              "    border: 2px solid var(--fill-color);\n",
              "    border-color: transparent;\n",
              "    border-bottom-color: var(--fill-color);\n",
              "    animation:\n",
              "      spin 1s steps(1) infinite;\n",
              "  }\n",
              "\n",
              "  @keyframes spin {\n",
              "    0% {\n",
              "      border-color: transparent;\n",
              "      border-bottom-color: var(--fill-color);\n",
              "      border-left-color: var(--fill-color);\n",
              "    }\n",
              "    20% {\n",
              "      border-color: transparent;\n",
              "      border-left-color: var(--fill-color);\n",
              "      border-top-color: var(--fill-color);\n",
              "    }\n",
              "    30% {\n",
              "      border-color: transparent;\n",
              "      border-left-color: var(--fill-color);\n",
              "      border-top-color: var(--fill-color);\n",
              "      border-right-color: var(--fill-color);\n",
              "    }\n",
              "    40% {\n",
              "      border-color: transparent;\n",
              "      border-right-color: var(--fill-color);\n",
              "      border-top-color: var(--fill-color);\n",
              "    }\n",
              "    60% {\n",
              "      border-color: transparent;\n",
              "      border-right-color: var(--fill-color);\n",
              "    }\n",
              "    80% {\n",
              "      border-color: transparent;\n",
              "      border-right-color: var(--fill-color);\n",
              "      border-bottom-color: var(--fill-color);\n",
              "    }\n",
              "    90% {\n",
              "      border-color: transparent;\n",
              "      border-bottom-color: var(--fill-color);\n",
              "    }\n",
              "  }\n",
              "</style>\n",
              "\n",
              "  <script>\n",
              "    async function quickchart(key) {\n",
              "      const quickchartButtonEl =\n",
              "        document.querySelector('#' + key + ' button');\n",
              "      quickchartButtonEl.disabled = true;  // To prevent multiple clicks.\n",
              "      quickchartButtonEl.classList.add('colab-df-spinner');\n",
              "      try {\n",
              "        const charts = await google.colab.kernel.invokeFunction(\n",
              "            'suggestCharts', [key], {});\n",
              "      } catch (error) {\n",
              "        console.error('Error during call to suggestCharts:', error);\n",
              "      }\n",
              "      quickchartButtonEl.classList.remove('colab-df-spinner');\n",
              "      quickchartButtonEl.classList.add('colab-df-quickchart-complete');\n",
              "    }\n",
              "    (() => {\n",
              "      let quickchartButtonEl =\n",
              "        document.querySelector('#df-400e6e8d-a4cd-4313-aa6e-81c3286f341b button');\n",
              "      quickchartButtonEl.style.display =\n",
              "        google.colab.kernel.accessAllowed ? 'block' : 'none';\n",
              "    })();\n",
              "  </script>\n",
              "</div>\n",
              "\n",
              "    </div>\n",
              "  </div>\n"
            ],
            "application/vnd.google.colaboratory.intrinsic+json": {
              "type": "dataframe",
              "variable_name": "df"
            }
          },
          "metadata": {},
          "execution_count": 43
        }
      ],
      "source": [
        "# Display the first few rows of the merged DataFrame\n",
        "df.head()"
      ]
    },
    {
      "cell_type": "code",
      "source": [
        "df.info()"
      ],
      "metadata": {
        "colab": {
          "base_uri": "https://localhost:8080/"
        },
        "id": "tO4RGP6fSaV5",
        "outputId": "420dd6b2-2199-40b2-9760-19f22adb131b"
      },
      "execution_count": null,
      "outputs": [
        {
          "output_type": "stream",
          "name": "stdout",
          "text": [
            "<class 'pandas.core.frame.DataFrame'>\n",
            "RangeIndex: 1094411 entries, 0 to 1094410\n",
            "Data columns (total 19 columns):\n",
            " #   Column                    Non-Null Count    Dtype  \n",
            "---  ------                    --------------    -----  \n",
            " 0   Unnamed: 0                1094411 non-null  int64  \n",
            " 1   author_id                 1094411 non-null  object \n",
            " 2   rating                    1094411 non-null  int64  \n",
            " 3   is_recommended            926423 non-null   float64\n",
            " 4   helpfulness               532819 non-null   float64\n",
            " 5   total_feedback_count      1094411 non-null  int64  \n",
            " 6   total_neg_feedback_count  1094411 non-null  int64  \n",
            " 7   total_pos_feedback_count  1094411 non-null  int64  \n",
            " 8   submission_time           1094411 non-null  object \n",
            " 9   review_text               1092967 non-null  object \n",
            " 10  review_title              783757 non-null   object \n",
            " 11  skin_tone                 923872 non-null   object \n",
            " 12  eye_color                 884783 non-null   object \n",
            " 13  skin_type                 982854 non-null   object \n",
            " 14  hair_color                867643 non-null   object \n",
            " 15  product_id                1094411 non-null  object \n",
            " 16  product_name              1094411 non-null  object \n",
            " 17  brand_name                1094411 non-null  object \n",
            " 18  price_usd                 1094411 non-null  float64\n",
            "dtypes: float64(3), int64(5), object(11)\n",
            "memory usage: 158.6+ MB\n"
          ]
        }
      ]
    },
    {
      "cell_type": "markdown",
      "metadata": {
        "id": "7VtxUx8LJbaF"
      },
      "source": [
        "**Data Preprocessing**\n",
        "\n",
        "Most unstructured text, such as reviews for products, are messy. They contain special characters which may not be necessary, extra spaces, irrelevant digits, and more. Therefore, it is common practice to process, or clean, the text before performing NLP tasks on it.\n",
        "\n"
      ]
    },
    {
      "cell_type": "code",
      "execution_count": null,
      "metadata": {
        "colab": {
          "base_uri": "https://localhost:8080/",
          "height": 645
        },
        "id": "wqYZbCKrCbfk",
        "outputId": "3dae21e7-1fad-49c2-dd58-0528c4341ef7"
      },
      "outputs": [
        {
          "output_type": "execute_result",
          "data": {
            "text/plain": [
              "                   variables  missing  unique     type\n",
              "4                helpfulness   561592    3767  float64\n",
              "10              review_title   310654  364105   object\n",
              "14                hair_color   226768       7   object\n",
              "12                 eye_color   209628       6   object\n",
              "11                 skin_tone   170539      14   object\n",
              "3             is_recommended   167988       2  float64\n",
              "13                 skin_type   111557       4   object\n",
              "9                review_text     1444  969419   object\n",
              "17                brand_name        0     142   object\n",
              "16              product_name        0    2334   object\n",
              "15                product_id        0    2351   object\n",
              "0                 Unnamed: 0        0  602130    int64\n",
              "1                  author_id        0  578653   object\n",
              "8            submission_time        0    5317   object\n",
              "7   total_pos_feedback_count        0     590    int64\n",
              "6   total_neg_feedback_count        0     259    int64\n",
              "5       total_feedback_count        0     676    int64\n",
              "2                     rating        0       5    int64\n",
              "18                 price_usd        0     221  float64"
            ],
            "text/html": [
              "\n",
              "  <div id=\"df-07684c5e-d549-421d-bacc-e7a78f26f4d9\" class=\"colab-df-container\">\n",
              "    <div>\n",
              "<style scoped>\n",
              "    .dataframe tbody tr th:only-of-type {\n",
              "        vertical-align: middle;\n",
              "    }\n",
              "\n",
              "    .dataframe tbody tr th {\n",
              "        vertical-align: top;\n",
              "    }\n",
              "\n",
              "    .dataframe thead th {\n",
              "        text-align: right;\n",
              "    }\n",
              "</style>\n",
              "<table border=\"1\" class=\"dataframe\">\n",
              "  <thead>\n",
              "    <tr style=\"text-align: right;\">\n",
              "      <th></th>\n",
              "      <th>variables</th>\n",
              "      <th>missing</th>\n",
              "      <th>unique</th>\n",
              "      <th>type</th>\n",
              "    </tr>\n",
              "  </thead>\n",
              "  <tbody>\n",
              "    <tr>\n",
              "      <th>4</th>\n",
              "      <td>helpfulness</td>\n",
              "      <td>561592</td>\n",
              "      <td>3767</td>\n",
              "      <td>float64</td>\n",
              "    </tr>\n",
              "    <tr>\n",
              "      <th>10</th>\n",
              "      <td>review_title</td>\n",
              "      <td>310654</td>\n",
              "      <td>364105</td>\n",
              "      <td>object</td>\n",
              "    </tr>\n",
              "    <tr>\n",
              "      <th>14</th>\n",
              "      <td>hair_color</td>\n",
              "      <td>226768</td>\n",
              "      <td>7</td>\n",
              "      <td>object</td>\n",
              "    </tr>\n",
              "    <tr>\n",
              "      <th>12</th>\n",
              "      <td>eye_color</td>\n",
              "      <td>209628</td>\n",
              "      <td>6</td>\n",
              "      <td>object</td>\n",
              "    </tr>\n",
              "    <tr>\n",
              "      <th>11</th>\n",
              "      <td>skin_tone</td>\n",
              "      <td>170539</td>\n",
              "      <td>14</td>\n",
              "      <td>object</td>\n",
              "    </tr>\n",
              "    <tr>\n",
              "      <th>3</th>\n",
              "      <td>is_recommended</td>\n",
              "      <td>167988</td>\n",
              "      <td>2</td>\n",
              "      <td>float64</td>\n",
              "    </tr>\n",
              "    <tr>\n",
              "      <th>13</th>\n",
              "      <td>skin_type</td>\n",
              "      <td>111557</td>\n",
              "      <td>4</td>\n",
              "      <td>object</td>\n",
              "    </tr>\n",
              "    <tr>\n",
              "      <th>9</th>\n",
              "      <td>review_text</td>\n",
              "      <td>1444</td>\n",
              "      <td>969419</td>\n",
              "      <td>object</td>\n",
              "    </tr>\n",
              "    <tr>\n",
              "      <th>17</th>\n",
              "      <td>brand_name</td>\n",
              "      <td>0</td>\n",
              "      <td>142</td>\n",
              "      <td>object</td>\n",
              "    </tr>\n",
              "    <tr>\n",
              "      <th>16</th>\n",
              "      <td>product_name</td>\n",
              "      <td>0</td>\n",
              "      <td>2334</td>\n",
              "      <td>object</td>\n",
              "    </tr>\n",
              "    <tr>\n",
              "      <th>15</th>\n",
              "      <td>product_id</td>\n",
              "      <td>0</td>\n",
              "      <td>2351</td>\n",
              "      <td>object</td>\n",
              "    </tr>\n",
              "    <tr>\n",
              "      <th>0</th>\n",
              "      <td>Unnamed: 0</td>\n",
              "      <td>0</td>\n",
              "      <td>602130</td>\n",
              "      <td>int64</td>\n",
              "    </tr>\n",
              "    <tr>\n",
              "      <th>1</th>\n",
              "      <td>author_id</td>\n",
              "      <td>0</td>\n",
              "      <td>578653</td>\n",
              "      <td>object</td>\n",
              "    </tr>\n",
              "    <tr>\n",
              "      <th>8</th>\n",
              "      <td>submission_time</td>\n",
              "      <td>0</td>\n",
              "      <td>5317</td>\n",
              "      <td>object</td>\n",
              "    </tr>\n",
              "    <tr>\n",
              "      <th>7</th>\n",
              "      <td>total_pos_feedback_count</td>\n",
              "      <td>0</td>\n",
              "      <td>590</td>\n",
              "      <td>int64</td>\n",
              "    </tr>\n",
              "    <tr>\n",
              "      <th>6</th>\n",
              "      <td>total_neg_feedback_count</td>\n",
              "      <td>0</td>\n",
              "      <td>259</td>\n",
              "      <td>int64</td>\n",
              "    </tr>\n",
              "    <tr>\n",
              "      <th>5</th>\n",
              "      <td>total_feedback_count</td>\n",
              "      <td>0</td>\n",
              "      <td>676</td>\n",
              "      <td>int64</td>\n",
              "    </tr>\n",
              "    <tr>\n",
              "      <th>2</th>\n",
              "      <td>rating</td>\n",
              "      <td>0</td>\n",
              "      <td>5</td>\n",
              "      <td>int64</td>\n",
              "    </tr>\n",
              "    <tr>\n",
              "      <th>18</th>\n",
              "      <td>price_usd</td>\n",
              "      <td>0</td>\n",
              "      <td>221</td>\n",
              "      <td>float64</td>\n",
              "    </tr>\n",
              "  </tbody>\n",
              "</table>\n",
              "</div>\n",
              "    <div class=\"colab-df-buttons\">\n",
              "\n",
              "  <div class=\"colab-df-container\">\n",
              "    <button class=\"colab-df-convert\" onclick=\"convertToInteractive('df-07684c5e-d549-421d-bacc-e7a78f26f4d9')\"\n",
              "            title=\"Convert this dataframe to an interactive table.\"\n",
              "            style=\"display:none;\">\n",
              "\n",
              "  <svg xmlns=\"http://www.w3.org/2000/svg\" height=\"24px\" viewBox=\"0 -960 960 960\">\n",
              "    <path d=\"M120-120v-720h720v720H120Zm60-500h600v-160H180v160Zm220 220h160v-160H400v160Zm0 220h160v-160H400v160ZM180-400h160v-160H180v160Zm440 0h160v-160H620v160ZM180-180h160v-160H180v160Zm440 0h160v-160H620v160Z\"/>\n",
              "  </svg>\n",
              "    </button>\n",
              "\n",
              "  <style>\n",
              "    .colab-df-container {\n",
              "      display:flex;\n",
              "      gap: 12px;\n",
              "    }\n",
              "\n",
              "    .colab-df-convert {\n",
              "      background-color: #E8F0FE;\n",
              "      border: none;\n",
              "      border-radius: 50%;\n",
              "      cursor: pointer;\n",
              "      display: none;\n",
              "      fill: #1967D2;\n",
              "      height: 32px;\n",
              "      padding: 0 0 0 0;\n",
              "      width: 32px;\n",
              "    }\n",
              "\n",
              "    .colab-df-convert:hover {\n",
              "      background-color: #E2EBFA;\n",
              "      box-shadow: 0px 1px 2px rgba(60, 64, 67, 0.3), 0px 1px 3px 1px rgba(60, 64, 67, 0.15);\n",
              "      fill: #174EA6;\n",
              "    }\n",
              "\n",
              "    .colab-df-buttons div {\n",
              "      margin-bottom: 4px;\n",
              "    }\n",
              "\n",
              "    [theme=dark] .colab-df-convert {\n",
              "      background-color: #3B4455;\n",
              "      fill: #D2E3FC;\n",
              "    }\n",
              "\n",
              "    [theme=dark] .colab-df-convert:hover {\n",
              "      background-color: #434B5C;\n",
              "      box-shadow: 0px 1px 3px 1px rgba(0, 0, 0, 0.15);\n",
              "      filter: drop-shadow(0px 1px 2px rgba(0, 0, 0, 0.3));\n",
              "      fill: #FFFFFF;\n",
              "    }\n",
              "  </style>\n",
              "\n",
              "    <script>\n",
              "      const buttonEl =\n",
              "        document.querySelector('#df-07684c5e-d549-421d-bacc-e7a78f26f4d9 button.colab-df-convert');\n",
              "      buttonEl.style.display =\n",
              "        google.colab.kernel.accessAllowed ? 'block' : 'none';\n",
              "\n",
              "      async function convertToInteractive(key) {\n",
              "        const element = document.querySelector('#df-07684c5e-d549-421d-bacc-e7a78f26f4d9');\n",
              "        const dataTable =\n",
              "          await google.colab.kernel.invokeFunction('convertToInteractive',\n",
              "                                                    [key], {});\n",
              "        if (!dataTable) return;\n",
              "\n",
              "        const docLinkHtml = 'Like what you see? Visit the ' +\n",
              "          '<a target=\"_blank\" href=https://colab.research.google.com/notebooks/data_table.ipynb>data table notebook</a>'\n",
              "          + ' to learn more about interactive tables.';\n",
              "        element.innerHTML = '';\n",
              "        dataTable['output_type'] = 'display_data';\n",
              "        await google.colab.output.renderOutput(dataTable, element);\n",
              "        const docLink = document.createElement('div');\n",
              "        docLink.innerHTML = docLinkHtml;\n",
              "        element.appendChild(docLink);\n",
              "      }\n",
              "    </script>\n",
              "  </div>\n",
              "\n",
              "\n",
              "<div id=\"df-f6b1e2f9-32ba-47b7-a7e1-882701dfdf54\">\n",
              "  <button class=\"colab-df-quickchart\" onclick=\"quickchart('df-f6b1e2f9-32ba-47b7-a7e1-882701dfdf54')\"\n",
              "            title=\"Suggest charts\"\n",
              "            style=\"display:none;\">\n",
              "\n",
              "<svg xmlns=\"http://www.w3.org/2000/svg\" height=\"24px\"viewBox=\"0 0 24 24\"\n",
              "     width=\"24px\">\n",
              "    <g>\n",
              "        <path d=\"M19 3H5c-1.1 0-2 .9-2 2v14c0 1.1.9 2 2 2h14c1.1 0 2-.9 2-2V5c0-1.1-.9-2-2-2zM9 17H7v-7h2v7zm4 0h-2V7h2v10zm4 0h-2v-4h2v4z\"/>\n",
              "    </g>\n",
              "</svg>\n",
              "  </button>\n",
              "\n",
              "<style>\n",
              "  .colab-df-quickchart {\n",
              "      --bg-color: #E8F0FE;\n",
              "      --fill-color: #1967D2;\n",
              "      --hover-bg-color: #E2EBFA;\n",
              "      --hover-fill-color: #174EA6;\n",
              "      --disabled-fill-color: #AAA;\n",
              "      --disabled-bg-color: #DDD;\n",
              "  }\n",
              "\n",
              "  [theme=dark] .colab-df-quickchart {\n",
              "      --bg-color: #3B4455;\n",
              "      --fill-color: #D2E3FC;\n",
              "      --hover-bg-color: #434B5C;\n",
              "      --hover-fill-color: #FFFFFF;\n",
              "      --disabled-bg-color: #3B4455;\n",
              "      --disabled-fill-color: #666;\n",
              "  }\n",
              "\n",
              "  .colab-df-quickchart {\n",
              "    background-color: var(--bg-color);\n",
              "    border: none;\n",
              "    border-radius: 50%;\n",
              "    cursor: pointer;\n",
              "    display: none;\n",
              "    fill: var(--fill-color);\n",
              "    height: 32px;\n",
              "    padding: 0;\n",
              "    width: 32px;\n",
              "  }\n",
              "\n",
              "  .colab-df-quickchart:hover {\n",
              "    background-color: var(--hover-bg-color);\n",
              "    box-shadow: 0 1px 2px rgba(60, 64, 67, 0.3), 0 1px 3px 1px rgba(60, 64, 67, 0.15);\n",
              "    fill: var(--button-hover-fill-color);\n",
              "  }\n",
              "\n",
              "  .colab-df-quickchart-complete:disabled,\n",
              "  .colab-df-quickchart-complete:disabled:hover {\n",
              "    background-color: var(--disabled-bg-color);\n",
              "    fill: var(--disabled-fill-color);\n",
              "    box-shadow: none;\n",
              "  }\n",
              "\n",
              "  .colab-df-spinner {\n",
              "    border: 2px solid var(--fill-color);\n",
              "    border-color: transparent;\n",
              "    border-bottom-color: var(--fill-color);\n",
              "    animation:\n",
              "      spin 1s steps(1) infinite;\n",
              "  }\n",
              "\n",
              "  @keyframes spin {\n",
              "    0% {\n",
              "      border-color: transparent;\n",
              "      border-bottom-color: var(--fill-color);\n",
              "      border-left-color: var(--fill-color);\n",
              "    }\n",
              "    20% {\n",
              "      border-color: transparent;\n",
              "      border-left-color: var(--fill-color);\n",
              "      border-top-color: var(--fill-color);\n",
              "    }\n",
              "    30% {\n",
              "      border-color: transparent;\n",
              "      border-left-color: var(--fill-color);\n",
              "      border-top-color: var(--fill-color);\n",
              "      border-right-color: var(--fill-color);\n",
              "    }\n",
              "    40% {\n",
              "      border-color: transparent;\n",
              "      border-right-color: var(--fill-color);\n",
              "      border-top-color: var(--fill-color);\n",
              "    }\n",
              "    60% {\n",
              "      border-color: transparent;\n",
              "      border-right-color: var(--fill-color);\n",
              "    }\n",
              "    80% {\n",
              "      border-color: transparent;\n",
              "      border-right-color: var(--fill-color);\n",
              "      border-bottom-color: var(--fill-color);\n",
              "    }\n",
              "    90% {\n",
              "      border-color: transparent;\n",
              "      border-bottom-color: var(--fill-color);\n",
              "    }\n",
              "  }\n",
              "</style>\n",
              "\n",
              "  <script>\n",
              "    async function quickchart(key) {\n",
              "      const quickchartButtonEl =\n",
              "        document.querySelector('#' + key + ' button');\n",
              "      quickchartButtonEl.disabled = true;  // To prevent multiple clicks.\n",
              "      quickchartButtonEl.classList.add('colab-df-spinner');\n",
              "      try {\n",
              "        const charts = await google.colab.kernel.invokeFunction(\n",
              "            'suggestCharts', [key], {});\n",
              "      } catch (error) {\n",
              "        console.error('Error during call to suggestCharts:', error);\n",
              "      }\n",
              "      quickchartButtonEl.classList.remove('colab-df-spinner');\n",
              "      quickchartButtonEl.classList.add('colab-df-quickchart-complete');\n",
              "    }\n",
              "    (() => {\n",
              "      let quickchartButtonEl =\n",
              "        document.querySelector('#df-f6b1e2f9-32ba-47b7-a7e1-882701dfdf54 button');\n",
              "      quickchartButtonEl.style.display =\n",
              "        google.colab.kernel.accessAllowed ? 'block' : 'none';\n",
              "    })();\n",
              "  </script>\n",
              "</div>\n",
              "\n",
              "    </div>\n",
              "  </div>\n"
            ],
            "application/vnd.google.colaboratory.intrinsic+json": {
              "type": "dataframe",
              "summary": "{\n  \"name\": \"output\",\n  \"rows\": 19,\n  \"fields\": [\n    {\n      \"column\": \"variables\",\n      \"properties\": {\n        \"dtype\": \"string\",\n        \"num_unique_values\": 19,\n        \"samples\": [\n          \"helpfulness\",\n          \"is_recommended\",\n          \"Unnamed: 0\"\n        ],\n        \"semantic_type\": \"\",\n        \"description\": \"\"\n      }\n    },\n    {\n      \"column\": \"missing\",\n      \"properties\": {\n        \"dtype\": \"number\",\n        \"std\": 151647,\n        \"min\": 0,\n        \"max\": 561592,\n        \"num_unique_values\": 9,\n        \"samples\": [\n          1444,\n          310654,\n          167988\n        ],\n        \"semantic_type\": \"\",\n        \"description\": \"\"\n      }\n    },\n    {\n      \"column\": \"unique\",\n      \"properties\": {\n        \"dtype\": \"number\",\n        \"std\": 282145,\n        \"min\": 2,\n        \"max\": 969419,\n        \"num_unique_values\": 19,\n        \"samples\": [\n          3767,\n          2,\n          602130\n        ],\n        \"semantic_type\": \"\",\n        \"description\": \"\"\n      }\n    },\n    {\n      \"column\": \"type\",\n      \"properties\": {\n        \"dtype\": \"category\",\n        \"num_unique_values\": 3,\n        \"samples\": [\n          \"float64\",\n          \"object\",\n          \"int64\"\n        ],\n        \"semantic_type\": \"\",\n        \"description\": \"\"\n      }\n    }\n  ]\n}"
            }
          },
          "metadata": {},
          "execution_count": 45
        }
      ],
      "source": [
        "missing = []\n",
        "unique=[]\n",
        "type=[]\n",
        "variables=[]\n",
        "\n",
        "for item in df.columns:\n",
        "    variables.append(item)\n",
        "    missing.append(df[item].isnull().sum())\n",
        "    unique.append(df[item].nunique())\n",
        "    type.append(df[item].dtype)\n",
        "\n",
        "output=pd.DataFrame({'variables':variables,'missing':missing,'unique':unique,'type':type})\n",
        "\n",
        "output.sort_values(by='missing',ascending=False)\n",
        "\n",
        "\n",
        "\n"
      ]
    },
    {
      "cell_type": "code",
      "source": [
        "# Check the number of occurrences of each unique value in the 'rating' column\n",
        "rating_counts = df['rating'].value_counts()\n",
        "\n",
        "# Print the number of occurrences of each rating\n",
        "print(\"Number of occurrences of each rating:\")\n",
        "print(rating_counts)\n"
      ],
      "metadata": {
        "colab": {
          "base_uri": "https://localhost:8080/"
        },
        "id": "Q509Q4cDfeDd",
        "outputId": "8f9d1f2a-30c1-46b8-af3c-451e966f1555"
      },
      "execution_count": null,
      "outputs": [
        {
          "output_type": "stream",
          "name": "stdout",
          "text": [
            "Number of occurrences of each rating:\n",
            "5    698951\n",
            "4    199389\n",
            "3     81816\n",
            "1     61223\n",
            "2     53032\n",
            "Name: rating, dtype: int64\n"
          ]
        }
      ]
    },
    {
      "cell_type": "code",
      "source": [
        "# Check the number of occurrences of each unique value in the 'rating' column\n",
        "is_recommended_counts = df['is_recommended'].value_counts()\n",
        "\n",
        "# Print the number of occurrences of each rating\n",
        "print(\"Number of occurrences of each is_recommended\t:\")\n",
        "print(is_recommended_counts)\n"
      ],
      "metadata": {
        "colab": {
          "base_uri": "https://localhost:8080/"
        },
        "id": "q0FB83GPfwoP",
        "outputId": "707e398d-8b5f-4eb2-e799-30b52794ace1"
      },
      "execution_count": null,
      "outputs": [
        {
          "output_type": "stream",
          "name": "stdout",
          "text": [
            "Number of occurrences of each is_recommended\t:\n",
            "1.0    778160\n",
            "0.0    148263\n",
            "Name: is_recommended, dtype: int64\n"
          ]
        }
      ]
    },
    {
      "cell_type": "code",
      "source": [
        "# ASSUME IS RECOMMENDED TARGET TABLE\n",
        "df = df[['review_text' , 'is_recommended' , 'rating']]\n",
        "# change column names\n",
        "df.rename(columns={'review_text':'text', 'is_recommended':'label'},  inplace=True)\n",
        "df.head()"
      ],
      "metadata": {
        "id": "HporkUFKja8V",
        "colab": {
          "base_uri": "https://localhost:8080/",
          "height": 310
        },
        "outputId": "90eb3495-beb0-4cf3-9ec6-ca970ce78160"
      },
      "execution_count": null,
      "outputs": [
        {
          "output_type": "stream",
          "name": "stderr",
          "text": [
            "<ipython-input-48-7ebe1b000bdd>:4: SettingWithCopyWarning: \n",
            "A value is trying to be set on a copy of a slice from a DataFrame\n",
            "\n",
            "See the caveats in the documentation: https://pandas.pydata.org/pandas-docs/stable/user_guide/indexing.html#returning-a-view-versus-a-copy\n",
            "  df.rename(columns={'review_text':'text', 'is_recommended':'label'},  inplace=True)\n"
          ]
        },
        {
          "output_type": "execute_result",
          "data": {
            "text/plain": [
              "                                                                                                                                                                                                                                                                                                                                                                                                                                                                      text  \\\n",
              "0  I use this with the Nudestix “Citrus Clean Balm & Make-Up Melt“ to double cleanse and it has completely changed my skin (for the better). The make-up melt is oil based and removes all of your makeup super easily. I follow-up with this water based cleanser, and I also use this just by itself when I’m not wearing make-up. It leaves the skin gently cleansed, but without stripping the skin. 10/10 recommend combining with the make-up melt. It’s perfection!   \n",
              "1                                                                                                                                                                                                                                                                                                       I bought this lip mask after reading the reviews and the hype. Unfortunately, it did not meet my expectations as vaseline petroleum jelly works way better for me.   \n",
              "2                                                                                                                                                                                         My review title says it all! I get so excited to get into bed and apply this lip mask. I do see a difference because I suffer from dry cracked lips. I drink a lot of water and apply lip balm daily but nothing helped until I started using this. untiluntistafted usinf this.   \n",
              "3                                                                                                                                                                                                                                   I’ve always loved this formula for a long time. I honestly don’t even use it for night time. I use it as an everyday lip balm. I love the texture. Gummy Bear is my second most favourite scent. Grapefruit is the best in my opinion.   \n",
              "4                                                                                                                                                                                                                                                    If you have dry cracked lips, this is a must have. After a few weeks of use I have learned I will always have by my bedside. I thought it was a little expensive but a little goes a long way. It is worth the price.   \n",
              "\n",
              "   label  rating  \n",
              "0    1.0       5  \n",
              "1    0.0       1  \n",
              "2    1.0       5  \n",
              "3    1.0       5  \n",
              "4    1.0       5  "
            ],
            "text/html": [
              "\n",
              "  <div id=\"df-820a1200-3dec-48d6-a08f-3505bf55a0ce\" class=\"colab-df-container\">\n",
              "    <div>\n",
              "<style scoped>\n",
              "    .dataframe tbody tr th:only-of-type {\n",
              "        vertical-align: middle;\n",
              "    }\n",
              "\n",
              "    .dataframe tbody tr th {\n",
              "        vertical-align: top;\n",
              "    }\n",
              "\n",
              "    .dataframe thead th {\n",
              "        text-align: right;\n",
              "    }\n",
              "</style>\n",
              "<table border=\"1\" class=\"dataframe\">\n",
              "  <thead>\n",
              "    <tr style=\"text-align: right;\">\n",
              "      <th></th>\n",
              "      <th>text</th>\n",
              "      <th>label</th>\n",
              "      <th>rating</th>\n",
              "    </tr>\n",
              "  </thead>\n",
              "  <tbody>\n",
              "    <tr>\n",
              "      <th>0</th>\n",
              "      <td>I use this with the Nudestix “Citrus Clean Balm &amp; Make-Up Melt“ to double cleanse and it has completely changed my skin (for the better). The make-up melt is oil based and removes all of your makeup super easily. I follow-up with this water based cleanser, and I also use this just by itself when I’m not wearing make-up. It leaves the skin gently cleansed, but without stripping the skin. 10/10 recommend combining with the make-up melt. It’s perfection!</td>\n",
              "      <td>1.0</td>\n",
              "      <td>5</td>\n",
              "    </tr>\n",
              "    <tr>\n",
              "      <th>1</th>\n",
              "      <td>I bought this lip mask after reading the reviews and the hype. Unfortunately, it did not meet my expectations as vaseline petroleum jelly works way better for me.</td>\n",
              "      <td>0.0</td>\n",
              "      <td>1</td>\n",
              "    </tr>\n",
              "    <tr>\n",
              "      <th>2</th>\n",
              "      <td>My review title says it all! I get so excited to get into bed and apply this lip mask. I do see a difference because I suffer from dry cracked lips. I drink a lot of water and apply lip balm daily but nothing helped until I started using this. untiluntistafted usinf this.</td>\n",
              "      <td>1.0</td>\n",
              "      <td>5</td>\n",
              "    </tr>\n",
              "    <tr>\n",
              "      <th>3</th>\n",
              "      <td>I’ve always loved this formula for a long time. I honestly don’t even use it for night time. I use it as an everyday lip balm. I love the texture. Gummy Bear is my second most favourite scent. Grapefruit is the best in my opinion.</td>\n",
              "      <td>1.0</td>\n",
              "      <td>5</td>\n",
              "    </tr>\n",
              "    <tr>\n",
              "      <th>4</th>\n",
              "      <td>If you have dry cracked lips, this is a must have. After a few weeks of use I have learned I will always have by my bedside. I thought it was a little expensive but a little goes a long way. It is worth the price.</td>\n",
              "      <td>1.0</td>\n",
              "      <td>5</td>\n",
              "    </tr>\n",
              "  </tbody>\n",
              "</table>\n",
              "</div>\n",
              "    <div class=\"colab-df-buttons\">\n",
              "\n",
              "  <div class=\"colab-df-container\">\n",
              "    <button class=\"colab-df-convert\" onclick=\"convertToInteractive('df-820a1200-3dec-48d6-a08f-3505bf55a0ce')\"\n",
              "            title=\"Convert this dataframe to an interactive table.\"\n",
              "            style=\"display:none;\">\n",
              "\n",
              "  <svg xmlns=\"http://www.w3.org/2000/svg\" height=\"24px\" viewBox=\"0 -960 960 960\">\n",
              "    <path d=\"M120-120v-720h720v720H120Zm60-500h600v-160H180v160Zm220 220h160v-160H400v160Zm0 220h160v-160H400v160ZM180-400h160v-160H180v160Zm440 0h160v-160H620v160ZM180-180h160v-160H180v160Zm440 0h160v-160H620v160Z\"/>\n",
              "  </svg>\n",
              "    </button>\n",
              "\n",
              "  <style>\n",
              "    .colab-df-container {\n",
              "      display:flex;\n",
              "      gap: 12px;\n",
              "    }\n",
              "\n",
              "    .colab-df-convert {\n",
              "      background-color: #E8F0FE;\n",
              "      border: none;\n",
              "      border-radius: 50%;\n",
              "      cursor: pointer;\n",
              "      display: none;\n",
              "      fill: #1967D2;\n",
              "      height: 32px;\n",
              "      padding: 0 0 0 0;\n",
              "      width: 32px;\n",
              "    }\n",
              "\n",
              "    .colab-df-convert:hover {\n",
              "      background-color: #E2EBFA;\n",
              "      box-shadow: 0px 1px 2px rgba(60, 64, 67, 0.3), 0px 1px 3px 1px rgba(60, 64, 67, 0.15);\n",
              "      fill: #174EA6;\n",
              "    }\n",
              "\n",
              "    .colab-df-buttons div {\n",
              "      margin-bottom: 4px;\n",
              "    }\n",
              "\n",
              "    [theme=dark] .colab-df-convert {\n",
              "      background-color: #3B4455;\n",
              "      fill: #D2E3FC;\n",
              "    }\n",
              "\n",
              "    [theme=dark] .colab-df-convert:hover {\n",
              "      background-color: #434B5C;\n",
              "      box-shadow: 0px 1px 3px 1px rgba(0, 0, 0, 0.15);\n",
              "      filter: drop-shadow(0px 1px 2px rgba(0, 0, 0, 0.3));\n",
              "      fill: #FFFFFF;\n",
              "    }\n",
              "  </style>\n",
              "\n",
              "    <script>\n",
              "      const buttonEl =\n",
              "        document.querySelector('#df-820a1200-3dec-48d6-a08f-3505bf55a0ce button.colab-df-convert');\n",
              "      buttonEl.style.display =\n",
              "        google.colab.kernel.accessAllowed ? 'block' : 'none';\n",
              "\n",
              "      async function convertToInteractive(key) {\n",
              "        const element = document.querySelector('#df-820a1200-3dec-48d6-a08f-3505bf55a0ce');\n",
              "        const dataTable =\n",
              "          await google.colab.kernel.invokeFunction('convertToInteractive',\n",
              "                                                    [key], {});\n",
              "        if (!dataTable) return;\n",
              "\n",
              "        const docLinkHtml = 'Like what you see? Visit the ' +\n",
              "          '<a target=\"_blank\" href=https://colab.research.google.com/notebooks/data_table.ipynb>data table notebook</a>'\n",
              "          + ' to learn more about interactive tables.';\n",
              "        element.innerHTML = '';\n",
              "        dataTable['output_type'] = 'display_data';\n",
              "        await google.colab.output.renderOutput(dataTable, element);\n",
              "        const docLink = document.createElement('div');\n",
              "        docLink.innerHTML = docLinkHtml;\n",
              "        element.appendChild(docLink);\n",
              "      }\n",
              "    </script>\n",
              "  </div>\n",
              "\n",
              "\n",
              "<div id=\"df-151eb075-eb7a-4c5c-b8ee-22558629366d\">\n",
              "  <button class=\"colab-df-quickchart\" onclick=\"quickchart('df-151eb075-eb7a-4c5c-b8ee-22558629366d')\"\n",
              "            title=\"Suggest charts\"\n",
              "            style=\"display:none;\">\n",
              "\n",
              "<svg xmlns=\"http://www.w3.org/2000/svg\" height=\"24px\"viewBox=\"0 0 24 24\"\n",
              "     width=\"24px\">\n",
              "    <g>\n",
              "        <path d=\"M19 3H5c-1.1 0-2 .9-2 2v14c0 1.1.9 2 2 2h14c1.1 0 2-.9 2-2V5c0-1.1-.9-2-2-2zM9 17H7v-7h2v7zm4 0h-2V7h2v10zm4 0h-2v-4h2v4z\"/>\n",
              "    </g>\n",
              "</svg>\n",
              "  </button>\n",
              "\n",
              "<style>\n",
              "  .colab-df-quickchart {\n",
              "      --bg-color: #E8F0FE;\n",
              "      --fill-color: #1967D2;\n",
              "      --hover-bg-color: #E2EBFA;\n",
              "      --hover-fill-color: #174EA6;\n",
              "      --disabled-fill-color: #AAA;\n",
              "      --disabled-bg-color: #DDD;\n",
              "  }\n",
              "\n",
              "  [theme=dark] .colab-df-quickchart {\n",
              "      --bg-color: #3B4455;\n",
              "      --fill-color: #D2E3FC;\n",
              "      --hover-bg-color: #434B5C;\n",
              "      --hover-fill-color: #FFFFFF;\n",
              "      --disabled-bg-color: #3B4455;\n",
              "      --disabled-fill-color: #666;\n",
              "  }\n",
              "\n",
              "  .colab-df-quickchart {\n",
              "    background-color: var(--bg-color);\n",
              "    border: none;\n",
              "    border-radius: 50%;\n",
              "    cursor: pointer;\n",
              "    display: none;\n",
              "    fill: var(--fill-color);\n",
              "    height: 32px;\n",
              "    padding: 0;\n",
              "    width: 32px;\n",
              "  }\n",
              "\n",
              "  .colab-df-quickchart:hover {\n",
              "    background-color: var(--hover-bg-color);\n",
              "    box-shadow: 0 1px 2px rgba(60, 64, 67, 0.3), 0 1px 3px 1px rgba(60, 64, 67, 0.15);\n",
              "    fill: var(--button-hover-fill-color);\n",
              "  }\n",
              "\n",
              "  .colab-df-quickchart-complete:disabled,\n",
              "  .colab-df-quickchart-complete:disabled:hover {\n",
              "    background-color: var(--disabled-bg-color);\n",
              "    fill: var(--disabled-fill-color);\n",
              "    box-shadow: none;\n",
              "  }\n",
              "\n",
              "  .colab-df-spinner {\n",
              "    border: 2px solid var(--fill-color);\n",
              "    border-color: transparent;\n",
              "    border-bottom-color: var(--fill-color);\n",
              "    animation:\n",
              "      spin 1s steps(1) infinite;\n",
              "  }\n",
              "\n",
              "  @keyframes spin {\n",
              "    0% {\n",
              "      border-color: transparent;\n",
              "      border-bottom-color: var(--fill-color);\n",
              "      border-left-color: var(--fill-color);\n",
              "    }\n",
              "    20% {\n",
              "      border-color: transparent;\n",
              "      border-left-color: var(--fill-color);\n",
              "      border-top-color: var(--fill-color);\n",
              "    }\n",
              "    30% {\n",
              "      border-color: transparent;\n",
              "      border-left-color: var(--fill-color);\n",
              "      border-top-color: var(--fill-color);\n",
              "      border-right-color: var(--fill-color);\n",
              "    }\n",
              "    40% {\n",
              "      border-color: transparent;\n",
              "      border-right-color: var(--fill-color);\n",
              "      border-top-color: var(--fill-color);\n",
              "    }\n",
              "    60% {\n",
              "      border-color: transparent;\n",
              "      border-right-color: var(--fill-color);\n",
              "    }\n",
              "    80% {\n",
              "      border-color: transparent;\n",
              "      border-right-color: var(--fill-color);\n",
              "      border-bottom-color: var(--fill-color);\n",
              "    }\n",
              "    90% {\n",
              "      border-color: transparent;\n",
              "      border-bottom-color: var(--fill-color);\n",
              "    }\n",
              "  }\n",
              "</style>\n",
              "\n",
              "  <script>\n",
              "    async function quickchart(key) {\n",
              "      const quickchartButtonEl =\n",
              "        document.querySelector('#' + key + ' button');\n",
              "      quickchartButtonEl.disabled = true;  // To prevent multiple clicks.\n",
              "      quickchartButtonEl.classList.add('colab-df-spinner');\n",
              "      try {\n",
              "        const charts = await google.colab.kernel.invokeFunction(\n",
              "            'suggestCharts', [key], {});\n",
              "      } catch (error) {\n",
              "        console.error('Error during call to suggestCharts:', error);\n",
              "      }\n",
              "      quickchartButtonEl.classList.remove('colab-df-spinner');\n",
              "      quickchartButtonEl.classList.add('colab-df-quickchart-complete');\n",
              "    }\n",
              "    (() => {\n",
              "      let quickchartButtonEl =\n",
              "        document.querySelector('#df-151eb075-eb7a-4c5c-b8ee-22558629366d button');\n",
              "      quickchartButtonEl.style.display =\n",
              "        google.colab.kernel.accessAllowed ? 'block' : 'none';\n",
              "    })();\n",
              "  </script>\n",
              "</div>\n",
              "\n",
              "    </div>\n",
              "  </div>\n"
            ],
            "application/vnd.google.colaboratory.intrinsic+json": {
              "type": "dataframe",
              "variable_name": "df"
            }
          },
          "metadata": {},
          "execution_count": 48
        }
      ]
    },
    {
      "cell_type": "code",
      "source": [
        "df.dropna(inplace=True)"
      ],
      "metadata": {
        "id": "G4dojxr2Sx4P"
      },
      "execution_count": null,
      "outputs": []
    },
    {
      "cell_type": "code",
      "source": [
        "df.describe()"
      ],
      "metadata": {
        "colab": {
          "base_uri": "https://localhost:8080/",
          "height": 300
        },
        "id": "lRlTrN40Ux5v",
        "outputId": "32cb57a8-419a-4fc0-ba70-cfe453884f94"
      },
      "execution_count": null,
      "outputs": [
        {
          "output_type": "execute_result",
          "data": {
            "text/plain": [
              "               label         rating\n",
              "count  924979.000000  924979.000000\n",
              "mean        0.839981       4.288920\n",
              "std         0.366624       1.154235\n",
              "min         0.000000       1.000000\n",
              "25%         1.000000       4.000000\n",
              "50%         1.000000       5.000000\n",
              "75%         1.000000       5.000000\n",
              "max         1.000000       5.000000"
            ],
            "text/html": [
              "\n",
              "  <div id=\"df-3bd6ab54-e21e-4dd1-9ac0-3818e63dae7c\" class=\"colab-df-container\">\n",
              "    <div>\n",
              "<style scoped>\n",
              "    .dataframe tbody tr th:only-of-type {\n",
              "        vertical-align: middle;\n",
              "    }\n",
              "\n",
              "    .dataframe tbody tr th {\n",
              "        vertical-align: top;\n",
              "    }\n",
              "\n",
              "    .dataframe thead th {\n",
              "        text-align: right;\n",
              "    }\n",
              "</style>\n",
              "<table border=\"1\" class=\"dataframe\">\n",
              "  <thead>\n",
              "    <tr style=\"text-align: right;\">\n",
              "      <th></th>\n",
              "      <th>label</th>\n",
              "      <th>rating</th>\n",
              "    </tr>\n",
              "  </thead>\n",
              "  <tbody>\n",
              "    <tr>\n",
              "      <th>count</th>\n",
              "      <td>924979.000000</td>\n",
              "      <td>924979.000000</td>\n",
              "    </tr>\n",
              "    <tr>\n",
              "      <th>mean</th>\n",
              "      <td>0.839981</td>\n",
              "      <td>4.288920</td>\n",
              "    </tr>\n",
              "    <tr>\n",
              "      <th>std</th>\n",
              "      <td>0.366624</td>\n",
              "      <td>1.154235</td>\n",
              "    </tr>\n",
              "    <tr>\n",
              "      <th>min</th>\n",
              "      <td>0.000000</td>\n",
              "      <td>1.000000</td>\n",
              "    </tr>\n",
              "    <tr>\n",
              "      <th>25%</th>\n",
              "      <td>1.000000</td>\n",
              "      <td>4.000000</td>\n",
              "    </tr>\n",
              "    <tr>\n",
              "      <th>50%</th>\n",
              "      <td>1.000000</td>\n",
              "      <td>5.000000</td>\n",
              "    </tr>\n",
              "    <tr>\n",
              "      <th>75%</th>\n",
              "      <td>1.000000</td>\n",
              "      <td>5.000000</td>\n",
              "    </tr>\n",
              "    <tr>\n",
              "      <th>max</th>\n",
              "      <td>1.000000</td>\n",
              "      <td>5.000000</td>\n",
              "    </tr>\n",
              "  </tbody>\n",
              "</table>\n",
              "</div>\n",
              "    <div class=\"colab-df-buttons\">\n",
              "\n",
              "  <div class=\"colab-df-container\">\n",
              "    <button class=\"colab-df-convert\" onclick=\"convertToInteractive('df-3bd6ab54-e21e-4dd1-9ac0-3818e63dae7c')\"\n",
              "            title=\"Convert this dataframe to an interactive table.\"\n",
              "            style=\"display:none;\">\n",
              "\n",
              "  <svg xmlns=\"http://www.w3.org/2000/svg\" height=\"24px\" viewBox=\"0 -960 960 960\">\n",
              "    <path d=\"M120-120v-720h720v720H120Zm60-500h600v-160H180v160Zm220 220h160v-160H400v160Zm0 220h160v-160H400v160ZM180-400h160v-160H180v160Zm440 0h160v-160H620v160ZM180-180h160v-160H180v160Zm440 0h160v-160H620v160Z\"/>\n",
              "  </svg>\n",
              "    </button>\n",
              "\n",
              "  <style>\n",
              "    .colab-df-container {\n",
              "      display:flex;\n",
              "      gap: 12px;\n",
              "    }\n",
              "\n",
              "    .colab-df-convert {\n",
              "      background-color: #E8F0FE;\n",
              "      border: none;\n",
              "      border-radius: 50%;\n",
              "      cursor: pointer;\n",
              "      display: none;\n",
              "      fill: #1967D2;\n",
              "      height: 32px;\n",
              "      padding: 0 0 0 0;\n",
              "      width: 32px;\n",
              "    }\n",
              "\n",
              "    .colab-df-convert:hover {\n",
              "      background-color: #E2EBFA;\n",
              "      box-shadow: 0px 1px 2px rgba(60, 64, 67, 0.3), 0px 1px 3px 1px rgba(60, 64, 67, 0.15);\n",
              "      fill: #174EA6;\n",
              "    }\n",
              "\n",
              "    .colab-df-buttons div {\n",
              "      margin-bottom: 4px;\n",
              "    }\n",
              "\n",
              "    [theme=dark] .colab-df-convert {\n",
              "      background-color: #3B4455;\n",
              "      fill: #D2E3FC;\n",
              "    }\n",
              "\n",
              "    [theme=dark] .colab-df-convert:hover {\n",
              "      background-color: #434B5C;\n",
              "      box-shadow: 0px 1px 3px 1px rgba(0, 0, 0, 0.15);\n",
              "      filter: drop-shadow(0px 1px 2px rgba(0, 0, 0, 0.3));\n",
              "      fill: #FFFFFF;\n",
              "    }\n",
              "  </style>\n",
              "\n",
              "    <script>\n",
              "      const buttonEl =\n",
              "        document.querySelector('#df-3bd6ab54-e21e-4dd1-9ac0-3818e63dae7c button.colab-df-convert');\n",
              "      buttonEl.style.display =\n",
              "        google.colab.kernel.accessAllowed ? 'block' : 'none';\n",
              "\n",
              "      async function convertToInteractive(key) {\n",
              "        const element = document.querySelector('#df-3bd6ab54-e21e-4dd1-9ac0-3818e63dae7c');\n",
              "        const dataTable =\n",
              "          await google.colab.kernel.invokeFunction('convertToInteractive',\n",
              "                                                    [key], {});\n",
              "        if (!dataTable) return;\n",
              "\n",
              "        const docLinkHtml = 'Like what you see? Visit the ' +\n",
              "          '<a target=\"_blank\" href=https://colab.research.google.com/notebooks/data_table.ipynb>data table notebook</a>'\n",
              "          + ' to learn more about interactive tables.';\n",
              "        element.innerHTML = '';\n",
              "        dataTable['output_type'] = 'display_data';\n",
              "        await google.colab.output.renderOutput(dataTable, element);\n",
              "        const docLink = document.createElement('div');\n",
              "        docLink.innerHTML = docLinkHtml;\n",
              "        element.appendChild(docLink);\n",
              "      }\n",
              "    </script>\n",
              "  </div>\n",
              "\n",
              "\n",
              "<div id=\"df-a3555abe-73c8-4263-8b0c-846036b974b3\">\n",
              "  <button class=\"colab-df-quickchart\" onclick=\"quickchart('df-a3555abe-73c8-4263-8b0c-846036b974b3')\"\n",
              "            title=\"Suggest charts\"\n",
              "            style=\"display:none;\">\n",
              "\n",
              "<svg xmlns=\"http://www.w3.org/2000/svg\" height=\"24px\"viewBox=\"0 0 24 24\"\n",
              "     width=\"24px\">\n",
              "    <g>\n",
              "        <path d=\"M19 3H5c-1.1 0-2 .9-2 2v14c0 1.1.9 2 2 2h14c1.1 0 2-.9 2-2V5c0-1.1-.9-2-2-2zM9 17H7v-7h2v7zm4 0h-2V7h2v10zm4 0h-2v-4h2v4z\"/>\n",
              "    </g>\n",
              "</svg>\n",
              "  </button>\n",
              "\n",
              "<style>\n",
              "  .colab-df-quickchart {\n",
              "      --bg-color: #E8F0FE;\n",
              "      --fill-color: #1967D2;\n",
              "      --hover-bg-color: #E2EBFA;\n",
              "      --hover-fill-color: #174EA6;\n",
              "      --disabled-fill-color: #AAA;\n",
              "      --disabled-bg-color: #DDD;\n",
              "  }\n",
              "\n",
              "  [theme=dark] .colab-df-quickchart {\n",
              "      --bg-color: #3B4455;\n",
              "      --fill-color: #D2E3FC;\n",
              "      --hover-bg-color: #434B5C;\n",
              "      --hover-fill-color: #FFFFFF;\n",
              "      --disabled-bg-color: #3B4455;\n",
              "      --disabled-fill-color: #666;\n",
              "  }\n",
              "\n",
              "  .colab-df-quickchart {\n",
              "    background-color: var(--bg-color);\n",
              "    border: none;\n",
              "    border-radius: 50%;\n",
              "    cursor: pointer;\n",
              "    display: none;\n",
              "    fill: var(--fill-color);\n",
              "    height: 32px;\n",
              "    padding: 0;\n",
              "    width: 32px;\n",
              "  }\n",
              "\n",
              "  .colab-df-quickchart:hover {\n",
              "    background-color: var(--hover-bg-color);\n",
              "    box-shadow: 0 1px 2px rgba(60, 64, 67, 0.3), 0 1px 3px 1px rgba(60, 64, 67, 0.15);\n",
              "    fill: var(--button-hover-fill-color);\n",
              "  }\n",
              "\n",
              "  .colab-df-quickchart-complete:disabled,\n",
              "  .colab-df-quickchart-complete:disabled:hover {\n",
              "    background-color: var(--disabled-bg-color);\n",
              "    fill: var(--disabled-fill-color);\n",
              "    box-shadow: none;\n",
              "  }\n",
              "\n",
              "  .colab-df-spinner {\n",
              "    border: 2px solid var(--fill-color);\n",
              "    border-color: transparent;\n",
              "    border-bottom-color: var(--fill-color);\n",
              "    animation:\n",
              "      spin 1s steps(1) infinite;\n",
              "  }\n",
              "\n",
              "  @keyframes spin {\n",
              "    0% {\n",
              "      border-color: transparent;\n",
              "      border-bottom-color: var(--fill-color);\n",
              "      border-left-color: var(--fill-color);\n",
              "    }\n",
              "    20% {\n",
              "      border-color: transparent;\n",
              "      border-left-color: var(--fill-color);\n",
              "      border-top-color: var(--fill-color);\n",
              "    }\n",
              "    30% {\n",
              "      border-color: transparent;\n",
              "      border-left-color: var(--fill-color);\n",
              "      border-top-color: var(--fill-color);\n",
              "      border-right-color: var(--fill-color);\n",
              "    }\n",
              "    40% {\n",
              "      border-color: transparent;\n",
              "      border-right-color: var(--fill-color);\n",
              "      border-top-color: var(--fill-color);\n",
              "    }\n",
              "    60% {\n",
              "      border-color: transparent;\n",
              "      border-right-color: var(--fill-color);\n",
              "    }\n",
              "    80% {\n",
              "      border-color: transparent;\n",
              "      border-right-color: var(--fill-color);\n",
              "      border-bottom-color: var(--fill-color);\n",
              "    }\n",
              "    90% {\n",
              "      border-color: transparent;\n",
              "      border-bottom-color: var(--fill-color);\n",
              "    }\n",
              "  }\n",
              "</style>\n",
              "\n",
              "  <script>\n",
              "    async function quickchart(key) {\n",
              "      const quickchartButtonEl =\n",
              "        document.querySelector('#' + key + ' button');\n",
              "      quickchartButtonEl.disabled = true;  // To prevent multiple clicks.\n",
              "      quickchartButtonEl.classList.add('colab-df-spinner');\n",
              "      try {\n",
              "        const charts = await google.colab.kernel.invokeFunction(\n",
              "            'suggestCharts', [key], {});\n",
              "      } catch (error) {\n",
              "        console.error('Error during call to suggestCharts:', error);\n",
              "      }\n",
              "      quickchartButtonEl.classList.remove('colab-df-spinner');\n",
              "      quickchartButtonEl.classList.add('colab-df-quickchart-complete');\n",
              "    }\n",
              "    (() => {\n",
              "      let quickchartButtonEl =\n",
              "        document.querySelector('#df-a3555abe-73c8-4263-8b0c-846036b974b3 button');\n",
              "      quickchartButtonEl.style.display =\n",
              "        google.colab.kernel.accessAllowed ? 'block' : 'none';\n",
              "    })();\n",
              "  </script>\n",
              "</div>\n",
              "\n",
              "    </div>\n",
              "  </div>\n"
            ],
            "application/vnd.google.colaboratory.intrinsic+json": {
              "type": "dataframe",
              "summary": "{\n  \"name\": \"df\",\n  \"rows\": 8,\n  \"fields\": [\n    {\n      \"column\": \"label\",\n      \"properties\": {\n        \"dtype\": \"number\",\n        \"std\": 327029.1987045281,\n        \"min\": 0.0,\n        \"max\": 924979.0,\n        \"num_unique_values\": 5,\n        \"samples\": [\n          0.8399812320063482,\n          1.0,\n          0.3666236588083149\n        ],\n        \"semantic_type\": \"\",\n        \"description\": \"\"\n      }\n    },\n    {\n      \"column\": \"rating\",\n      \"properties\": {\n        \"dtype\": \"number\",\n        \"std\": 327028.17660836875,\n        \"min\": 1.0,\n        \"max\": 924979.0,\n        \"num_unique_values\": 6,\n        \"samples\": [\n          924979.0,\n          4.288920072780031,\n          5.0\n        ],\n        \"semantic_type\": \"\",\n        \"description\": \"\"\n      }\n    }\n  ]\n}"
            }
          },
          "metadata": {},
          "execution_count": 50
        }
      ]
    },
    {
      "cell_type": "code",
      "source": [
        "df.duplicated().sum()"
      ],
      "metadata": {
        "colab": {
          "base_uri": "https://localhost:8080/"
        },
        "id": "zIIp3hRJgagw",
        "outputId": "ef9db81d-79ab-49e5-bc31-e87d3b4b5caa"
      },
      "execution_count": null,
      "outputs": [
        {
          "output_type": "execute_result",
          "data": {
            "text/plain": [
              "113160"
            ]
          },
          "metadata": {},
          "execution_count": 51
        }
      ]
    },
    {
      "cell_type": "code",
      "source": [
        "df.drop_duplicates(keep='first', inplace=True)"
      ],
      "metadata": {
        "id": "5x2fFIeJgdWg"
      },
      "execution_count": null,
      "outputs": []
    },
    {
      "cell_type": "code",
      "source": [
        "#Percentage of Positive/Negative\n",
        "print(\"Positive: \", round(df.label.value_counts()[1]/len(df)*100 , 2 ),\"%\")\n",
        "print(\"Negative: \", round(df.label.value_counts()[0]/len(df)*100, 2 ),\"%\")"
      ],
      "metadata": {
        "colab": {
          "base_uri": "https://localhost:8080/"
        },
        "id": "sAqVe7yVgx3y",
        "outputId": "fbcdc53b-b5fd-473b-854d-3beed17ad76f"
      },
      "execution_count": null,
      "outputs": [
        {
          "output_type": "stream",
          "name": "stdout",
          "text": [
            "Positive:  84.19 %\n",
            "Negative:  15.81 %\n"
          ]
        }
      ]
    },
    {
      "cell_type": "markdown",
      "source": [
        "**Class imbalance** in machine learning occurs when one class (positive) has significantly fewer instances than another class (negative) in the dataset.\n",
        "\n",
        "- Under-sampling: This involves reducing the number of instances in the majority class to match the number of instances in the minority class.\n",
        "- Over-sampling: This technique involves increasing the number of instances in the minority class to match the number of instances in the majority class.\n",
        "Combination of under-sampling and over-sampling: Sometimes, a combination of both under-sampling and over-sampling techniques can be used to balance the class distribution.\n",
        "-Combination of under-sampling and over-sampling: Sometimes, a combination of both under-sampling and over-sampling techniques can be used to balance the class distribution."
      ],
      "metadata": {
        "id": "hbD2aFOjg7TN"
      }
    },
    {
      "cell_type": "markdown",
      "source": [
        "**Over-sampling**"
      ],
      "metadata": {
        "id": "fFr3wrK_qXvX"
      }
    },
    {
      "cell_type": "code",
      "source": [
        "#SPECIFY THE DIRECTORT PATH IN GOOGLE DRIVE\n",
        "directory_path = '/content/drive/My Drive/Sephora/reviews_250-500.csv'\n",
        "df250 = pd.read_csv(directory_path)"
      ],
      "metadata": {
        "id": "HCLQH5kCk8a8"
      },
      "execution_count": null,
      "outputs": []
    },
    {
      "cell_type": "code",
      "source": [
        "#select columns\n",
        "df250 = df250[['review_text' , 'is_recommended' , 'rating']]\n",
        "df250.rename(columns={'review_text':'text', 'is_recommended':'label'},  inplace=True)\n",
        "df250.head()"
      ],
      "metadata": {
        "colab": {
          "base_uri": "https://localhost:8080/",
          "height": 258
        },
        "id": "IQKvjiKDnaYC",
        "outputId": "b3f5f77b-ca57-472d-8648-690c991259c9"
      },
      "execution_count": null,
      "outputs": [
        {
          "output_type": "execute_result",
          "data": {
            "text/plain": [
              "                                                                                                                                                                                                                                                                                                                                                                                                                                                                                                                                                            text  \\\n",
              "0                                                                                                                                                                                                                                                                                                                                                                                                       Used to swear by this product but hate the smell of the reformulation.  Love the price, but willing to spend more for a product that doesn’t smell gross   \n",
              "1                                                                                                                                                                                                                                                                                                                                          I’ve only been using this for a week and my skin is so much softer. It’s not as “harsh” on my skin as The Ordinary’s retinol- it took some getting used to but not this one. I’m not purging and my skin isn’t drying   \n",
              "2                                                                                                                                                                                                                       Why, why, why would you change the formula?!!! I have been using this for year. It was truly amazing. Constantly getting compliments on my skin. I am 40 years old and it was perfect. I opened my new bottle and thought I got a bad one. It was rancid. Ordered a second bottle and the same. I am so upset. Why would they change it.   \n",
              "3  I have used this product for years and it has been nothing short of awesome. Honestly, I am 44 and people think I am in my early 30s because of what this does for my skin. Hardly a wrinkle in sight. However, the latest package I bought in Feb 2023 contained serum that smelled rancid. Like spoiled milk. I tried it anyway and it felt thick and awful on my skin. I returned it to Sephora and learned that Inkey List REFORMULATED this product. I am SO upset. I really hope Inkey goes back to the old formulation because the new one is garbage.   \n",
              "4                                                                                                                                                                                                                                                                                                                                                                                                                                                                                                         Great product for anti-aging Also great for dark spots   \n",
              "\n",
              "   label  rating  \n",
              "0    0.0       2  \n",
              "1    1.0       5  \n",
              "2    0.0       1  \n",
              "3    0.0       1  \n",
              "4    1.0       5  "
            ],
            "text/html": [
              "\n",
              "  <div id=\"df-6f79c2b8-c733-4d5b-8758-2da169c58ca3\" class=\"colab-df-container\">\n",
              "    <div>\n",
              "<style scoped>\n",
              "    .dataframe tbody tr th:only-of-type {\n",
              "        vertical-align: middle;\n",
              "    }\n",
              "\n",
              "    .dataframe tbody tr th {\n",
              "        vertical-align: top;\n",
              "    }\n",
              "\n",
              "    .dataframe thead th {\n",
              "        text-align: right;\n",
              "    }\n",
              "</style>\n",
              "<table border=\"1\" class=\"dataframe\">\n",
              "  <thead>\n",
              "    <tr style=\"text-align: right;\">\n",
              "      <th></th>\n",
              "      <th>text</th>\n",
              "      <th>label</th>\n",
              "      <th>rating</th>\n",
              "    </tr>\n",
              "  </thead>\n",
              "  <tbody>\n",
              "    <tr>\n",
              "      <th>0</th>\n",
              "      <td>Used to swear by this product but hate the smell of the reformulation.  Love the price, but willing to spend more for a product that doesn’t smell gross</td>\n",
              "      <td>0.0</td>\n",
              "      <td>2</td>\n",
              "    </tr>\n",
              "    <tr>\n",
              "      <th>1</th>\n",
              "      <td>I’ve only been using this for a week and my skin is so much softer. It’s not as “harsh” on my skin as The Ordinary’s retinol- it took some getting used to but not this one. I’m not purging and my skin isn’t drying</td>\n",
              "      <td>1.0</td>\n",
              "      <td>5</td>\n",
              "    </tr>\n",
              "    <tr>\n",
              "      <th>2</th>\n",
              "      <td>Why, why, why would you change the formula?!!! I have been using this for year. It was truly amazing. Constantly getting compliments on my skin. I am 40 years old and it was perfect. I opened my new bottle and thought I got a bad one. It was rancid. Ordered a second bottle and the same. I am so upset. Why would they change it.</td>\n",
              "      <td>0.0</td>\n",
              "      <td>1</td>\n",
              "    </tr>\n",
              "    <tr>\n",
              "      <th>3</th>\n",
              "      <td>I have used this product for years and it has been nothing short of awesome. Honestly, I am 44 and people think I am in my early 30s because of what this does for my skin. Hardly a wrinkle in sight. However, the latest package I bought in Feb 2023 contained serum that smelled rancid. Like spoiled milk. I tried it anyway and it felt thick and awful on my skin. I returned it to Sephora and learned that Inkey List REFORMULATED this product. I am SO upset. I really hope Inkey goes back to the old formulation because the new one is garbage.</td>\n",
              "      <td>0.0</td>\n",
              "      <td>1</td>\n",
              "    </tr>\n",
              "    <tr>\n",
              "      <th>4</th>\n",
              "      <td>Great product for anti-aging Also great for dark spots</td>\n",
              "      <td>1.0</td>\n",
              "      <td>5</td>\n",
              "    </tr>\n",
              "  </tbody>\n",
              "</table>\n",
              "</div>\n",
              "    <div class=\"colab-df-buttons\">\n",
              "\n",
              "  <div class=\"colab-df-container\">\n",
              "    <button class=\"colab-df-convert\" onclick=\"convertToInteractive('df-6f79c2b8-c733-4d5b-8758-2da169c58ca3')\"\n",
              "            title=\"Convert this dataframe to an interactive table.\"\n",
              "            style=\"display:none;\">\n",
              "\n",
              "  <svg xmlns=\"http://www.w3.org/2000/svg\" height=\"24px\" viewBox=\"0 -960 960 960\">\n",
              "    <path d=\"M120-120v-720h720v720H120Zm60-500h600v-160H180v160Zm220 220h160v-160H400v160Zm0 220h160v-160H400v160ZM180-400h160v-160H180v160Zm440 0h160v-160H620v160ZM180-180h160v-160H180v160Zm440 0h160v-160H620v160Z\"/>\n",
              "  </svg>\n",
              "    </button>\n",
              "\n",
              "  <style>\n",
              "    .colab-df-container {\n",
              "      display:flex;\n",
              "      gap: 12px;\n",
              "    }\n",
              "\n",
              "    .colab-df-convert {\n",
              "      background-color: #E8F0FE;\n",
              "      border: none;\n",
              "      border-radius: 50%;\n",
              "      cursor: pointer;\n",
              "      display: none;\n",
              "      fill: #1967D2;\n",
              "      height: 32px;\n",
              "      padding: 0 0 0 0;\n",
              "      width: 32px;\n",
              "    }\n",
              "\n",
              "    .colab-df-convert:hover {\n",
              "      background-color: #E2EBFA;\n",
              "      box-shadow: 0px 1px 2px rgba(60, 64, 67, 0.3), 0px 1px 3px 1px rgba(60, 64, 67, 0.15);\n",
              "      fill: #174EA6;\n",
              "    }\n",
              "\n",
              "    .colab-df-buttons div {\n",
              "      margin-bottom: 4px;\n",
              "    }\n",
              "\n",
              "    [theme=dark] .colab-df-convert {\n",
              "      background-color: #3B4455;\n",
              "      fill: #D2E3FC;\n",
              "    }\n",
              "\n",
              "    [theme=dark] .colab-df-convert:hover {\n",
              "      background-color: #434B5C;\n",
              "      box-shadow: 0px 1px 3px 1px rgba(0, 0, 0, 0.15);\n",
              "      filter: drop-shadow(0px 1px 2px rgba(0, 0, 0, 0.3));\n",
              "      fill: #FFFFFF;\n",
              "    }\n",
              "  </style>\n",
              "\n",
              "    <script>\n",
              "      const buttonEl =\n",
              "        document.querySelector('#df-6f79c2b8-c733-4d5b-8758-2da169c58ca3 button.colab-df-convert');\n",
              "      buttonEl.style.display =\n",
              "        google.colab.kernel.accessAllowed ? 'block' : 'none';\n",
              "\n",
              "      async function convertToInteractive(key) {\n",
              "        const element = document.querySelector('#df-6f79c2b8-c733-4d5b-8758-2da169c58ca3');\n",
              "        const dataTable =\n",
              "          await google.colab.kernel.invokeFunction('convertToInteractive',\n",
              "                                                    [key], {});\n",
              "        if (!dataTable) return;\n",
              "\n",
              "        const docLinkHtml = 'Like what you see? Visit the ' +\n",
              "          '<a target=\"_blank\" href=https://colab.research.google.com/notebooks/data_table.ipynb>data table notebook</a>'\n",
              "          + ' to learn more about interactive tables.';\n",
              "        element.innerHTML = '';\n",
              "        dataTable['output_type'] = 'display_data';\n",
              "        await google.colab.output.renderOutput(dataTable, element);\n",
              "        const docLink = document.createElement('div');\n",
              "        docLink.innerHTML = docLinkHtml;\n",
              "        element.appendChild(docLink);\n",
              "      }\n",
              "    </script>\n",
              "  </div>\n",
              "\n",
              "\n",
              "<div id=\"df-27be2e7d-e019-462f-92bb-913fd14ae4a8\">\n",
              "  <button class=\"colab-df-quickchart\" onclick=\"quickchart('df-27be2e7d-e019-462f-92bb-913fd14ae4a8')\"\n",
              "            title=\"Suggest charts\"\n",
              "            style=\"display:none;\">\n",
              "\n",
              "<svg xmlns=\"http://www.w3.org/2000/svg\" height=\"24px\"viewBox=\"0 0 24 24\"\n",
              "     width=\"24px\">\n",
              "    <g>\n",
              "        <path d=\"M19 3H5c-1.1 0-2 .9-2 2v14c0 1.1.9 2 2 2h14c1.1 0 2-.9 2-2V5c0-1.1-.9-2-2-2zM9 17H7v-7h2v7zm4 0h-2V7h2v10zm4 0h-2v-4h2v4z\"/>\n",
              "    </g>\n",
              "</svg>\n",
              "  </button>\n",
              "\n",
              "<style>\n",
              "  .colab-df-quickchart {\n",
              "      --bg-color: #E8F0FE;\n",
              "      --fill-color: #1967D2;\n",
              "      --hover-bg-color: #E2EBFA;\n",
              "      --hover-fill-color: #174EA6;\n",
              "      --disabled-fill-color: #AAA;\n",
              "      --disabled-bg-color: #DDD;\n",
              "  }\n",
              "\n",
              "  [theme=dark] .colab-df-quickchart {\n",
              "      --bg-color: #3B4455;\n",
              "      --fill-color: #D2E3FC;\n",
              "      --hover-bg-color: #434B5C;\n",
              "      --hover-fill-color: #FFFFFF;\n",
              "      --disabled-bg-color: #3B4455;\n",
              "      --disabled-fill-color: #666;\n",
              "  }\n",
              "\n",
              "  .colab-df-quickchart {\n",
              "    background-color: var(--bg-color);\n",
              "    border: none;\n",
              "    border-radius: 50%;\n",
              "    cursor: pointer;\n",
              "    display: none;\n",
              "    fill: var(--fill-color);\n",
              "    height: 32px;\n",
              "    padding: 0;\n",
              "    width: 32px;\n",
              "  }\n",
              "\n",
              "  .colab-df-quickchart:hover {\n",
              "    background-color: var(--hover-bg-color);\n",
              "    box-shadow: 0 1px 2px rgba(60, 64, 67, 0.3), 0 1px 3px 1px rgba(60, 64, 67, 0.15);\n",
              "    fill: var(--button-hover-fill-color);\n",
              "  }\n",
              "\n",
              "  .colab-df-quickchart-complete:disabled,\n",
              "  .colab-df-quickchart-complete:disabled:hover {\n",
              "    background-color: var(--disabled-bg-color);\n",
              "    fill: var(--disabled-fill-color);\n",
              "    box-shadow: none;\n",
              "  }\n",
              "\n",
              "  .colab-df-spinner {\n",
              "    border: 2px solid var(--fill-color);\n",
              "    border-color: transparent;\n",
              "    border-bottom-color: var(--fill-color);\n",
              "    animation:\n",
              "      spin 1s steps(1) infinite;\n",
              "  }\n",
              "\n",
              "  @keyframes spin {\n",
              "    0% {\n",
              "      border-color: transparent;\n",
              "      border-bottom-color: var(--fill-color);\n",
              "      border-left-color: var(--fill-color);\n",
              "    }\n",
              "    20% {\n",
              "      border-color: transparent;\n",
              "      border-left-color: var(--fill-color);\n",
              "      border-top-color: var(--fill-color);\n",
              "    }\n",
              "    30% {\n",
              "      border-color: transparent;\n",
              "      border-left-color: var(--fill-color);\n",
              "      border-top-color: var(--fill-color);\n",
              "      border-right-color: var(--fill-color);\n",
              "    }\n",
              "    40% {\n",
              "      border-color: transparent;\n",
              "      border-right-color: var(--fill-color);\n",
              "      border-top-color: var(--fill-color);\n",
              "    }\n",
              "    60% {\n",
              "      border-color: transparent;\n",
              "      border-right-color: var(--fill-color);\n",
              "    }\n",
              "    80% {\n",
              "      border-color: transparent;\n",
              "      border-right-color: var(--fill-color);\n",
              "      border-bottom-color: var(--fill-color);\n",
              "    }\n",
              "    90% {\n",
              "      border-color: transparent;\n",
              "      border-bottom-color: var(--fill-color);\n",
              "    }\n",
              "  }\n",
              "</style>\n",
              "\n",
              "  <script>\n",
              "    async function quickchart(key) {\n",
              "      const quickchartButtonEl =\n",
              "        document.querySelector('#' + key + ' button');\n",
              "      quickchartButtonEl.disabled = true;  // To prevent multiple clicks.\n",
              "      quickchartButtonEl.classList.add('colab-df-spinner');\n",
              "      try {\n",
              "        const charts = await google.colab.kernel.invokeFunction(\n",
              "            'suggestCharts', [key], {});\n",
              "      } catch (error) {\n",
              "        console.error('Error during call to suggestCharts:', error);\n",
              "      }\n",
              "      quickchartButtonEl.classList.remove('colab-df-spinner');\n",
              "      quickchartButtonEl.classList.add('colab-df-quickchart-complete');\n",
              "    }\n",
              "    (() => {\n",
              "      let quickchartButtonEl =\n",
              "        document.querySelector('#df-27be2e7d-e019-462f-92bb-913fd14ae4a8 button');\n",
              "      quickchartButtonEl.style.display =\n",
              "        google.colab.kernel.accessAllowed ? 'block' : 'none';\n",
              "    })();\n",
              "  </script>\n",
              "</div>\n",
              "\n",
              "    </div>\n",
              "  </div>\n"
            ],
            "application/vnd.google.colaboratory.intrinsic+json": {
              "type": "dataframe",
              "variable_name": "df250"
            }
          },
          "metadata": {},
          "execution_count": 55
        }
      ]
    },
    {
      "cell_type": "code",
      "source": [
        "#Percentage of Positive/Negative\n",
        "df250['label'].value_counts()"
      ],
      "metadata": {
        "colab": {
          "base_uri": "https://localhost:8080/"
        },
        "id": "g2pJrA1NnxR2",
        "outputId": "541b59cc-6891-451c-c2b3-87c30d916614"
      },
      "execution_count": null,
      "outputs": [
        {
          "output_type": "execute_result",
          "data": {
            "text/plain": [
              "1.0    151316\n",
              "0.0     29423\n",
              "Name: label, dtype: int64"
            ]
          },
          "metadata": {},
          "execution_count": 56
        }
      ]
    },
    {
      "cell_type": "code",
      "source": [
        "#SPECIFY THE DIRECTORT PATH IN GOOGLE DRIVE\n",
        "directory_path = '/content/drive/My Drive/Sephora/reviews_750-1250.csv'\n",
        "df750 = pd.read_csv(directory_path)"
      ],
      "metadata": {
        "colab": {
          "base_uri": "https://localhost:8080/"
        },
        "id": "TmbCMxYoovtC",
        "outputId": "301aeed4-b28e-46d7-8e43-5a4d7b2dd859"
      },
      "execution_count": null,
      "outputs": [
        {
          "output_type": "stream",
          "name": "stderr",
          "text": [
            "<ipython-input-57-fbd3a4dd8072>:3: DtypeWarning: Columns (1) have mixed types. Specify dtype option on import or set low_memory=False.\n",
            "  df750 = pd.read_csv(directory_path)\n"
          ]
        }
      ]
    },
    {
      "cell_type": "code",
      "source": [
        "#select columns\n",
        "df750 = df750[['review_text' , 'is_recommended' , 'rating']]\n",
        "df750.rename(columns={'review_text':'text', 'is_recommended':'label'},  inplace=True)\n",
        "df750.head()"
      ],
      "metadata": {
        "colab": {
          "base_uri": "https://localhost:8080/",
          "height": 380
        },
        "id": "a4gmPNNXo-wi",
        "outputId": "8158fb44-89d3-424c-ff66-64e25602d1a2"
      },
      "execution_count": null,
      "outputs": [
        {
          "output_type": "stream",
          "name": "stderr",
          "text": [
            "<ipython-input-58-4f1fa315ddb1>:3: SettingWithCopyWarning: \n",
            "A value is trying to be set on a copy of a slice from a DataFrame\n",
            "\n",
            "See the caveats in the documentation: https://pandas.pydata.org/pandas-docs/stable/user_guide/indexing.html#returning-a-view-versus-a-copy\n",
            "  df750.rename(columns={'review_text':'text', 'is_recommended':'label'},  inplace=True)\n"
          ]
        },
        {
          "output_type": "execute_result",
          "data": {
            "text/plain": [
              "                                                                                                                                                                                                                                                                                                                                                                                                                                                                                                                                                                                                                                                                                                                                                                                                                                                                                                                                                                                                                                                                             text  \\\n",
              "0                                                                                                                                                                                                                                                                                                                                                                                                                                                                                       This was gifted by Supergoop! in exchange for an honest review.  The packaging is nice and seems like it will prevent any powder from getting out. My issue is that it’s very hard to know how much powder you are using.  Looking at the powder directly, it looks quite shimmery/glittery.  On the face it looks ok. Since it is hard to know how much you have used, it is easy to use too much and for your face to look very glittery. This is something to use as a 2nd spf because you would have to use a LOT for full primary spf. I think there are easier ways to reapply spf.   \n",
              "1                                                                                                                                                                                                                                                                                                                                                                                                                                                                                                                                                                                                                                                                                                                                                                                                                                                                                                                                                                                                                 I didn’t like it; too much product comes out without turning it   \n",
              "2  Y’all….I’m begging for everyone to read instructions. When you initially take this out of the package it will have a yellow tube in the middle of the brush holding in the powder. You need to take a pair of tweezers or something to pull it out. Once you pull it out the powder is now loose and you can twist the bottom, holding the brush upside down, and powder will fill the brush. I usually use this for touch ups in the summer. It is definitely not full coverage, just something to slip in the bag and take out for a nice touch of extra SPF. It’s not a powder foundation, nor will it super set your makeup. This is purely for touch ups after applying a good spf before makeup. I personally love it, it’s not messy and the cap holds on in my bag. It’s small enough to take to theme parks in the summer, or out by the beach. If you simply use it for touch ups it will last a very long time, if you are looking for an everyday, heavy duty powder - look for bare minerals or something that has SPF in it with bigger packaging/more coverage.   \n",
              "3                                                                                                                                                                                                                                                                                                                                                                                                                                                                                                                                                                                                                                                                                                                                                                                                                                                                                                                                         I have not figured out how to use this product up to now. I’ve been trying for the last couple of days without luck. Product not for me   \n",
              "4                                                                                                                                                                                                                                                                                                                                                                                                                                                                                                                                                                                                                                                                                                                                                                                                                                                                                                                                                     I’m at a loss as to how to use this thing!!! Confusing instructions, can’t get product out, can’t use it.   A real bummer!!   \n",
              "\n",
              "   label  rating  \n",
              "0    0.0       2  \n",
              "1    0.0       2  \n",
              "2    1.0       5  \n",
              "3    0.0       1  \n",
              "4    0.0       1  "
            ],
            "text/html": [
              "\n",
              "  <div id=\"df-b0f269c8-bb09-4ef9-b07d-876c76054fbb\" class=\"colab-df-container\">\n",
              "    <div>\n",
              "<style scoped>\n",
              "    .dataframe tbody tr th:only-of-type {\n",
              "        vertical-align: middle;\n",
              "    }\n",
              "\n",
              "    .dataframe tbody tr th {\n",
              "        vertical-align: top;\n",
              "    }\n",
              "\n",
              "    .dataframe thead th {\n",
              "        text-align: right;\n",
              "    }\n",
              "</style>\n",
              "<table border=\"1\" class=\"dataframe\">\n",
              "  <thead>\n",
              "    <tr style=\"text-align: right;\">\n",
              "      <th></th>\n",
              "      <th>text</th>\n",
              "      <th>label</th>\n",
              "      <th>rating</th>\n",
              "    </tr>\n",
              "  </thead>\n",
              "  <tbody>\n",
              "    <tr>\n",
              "      <th>0</th>\n",
              "      <td>This was gifted by Supergoop! in exchange for an honest review.  The packaging is nice and seems like it will prevent any powder from getting out. My issue is that it’s very hard to know how much powder you are using.  Looking at the powder directly, it looks quite shimmery/glittery.  On the face it looks ok. Since it is hard to know how much you have used, it is easy to use too much and for your face to look very glittery. This is something to use as a 2nd spf because you would have to use a LOT for full primary spf. I think there are easier ways to reapply spf.</td>\n",
              "      <td>0.0</td>\n",
              "      <td>2</td>\n",
              "    </tr>\n",
              "    <tr>\n",
              "      <th>1</th>\n",
              "      <td>I didn’t like it; too much product comes out without turning it</td>\n",
              "      <td>0.0</td>\n",
              "      <td>2</td>\n",
              "    </tr>\n",
              "    <tr>\n",
              "      <th>2</th>\n",
              "      <td>Y’all….I’m begging for everyone to read instructions. When you initially take this out of the package it will have a yellow tube in the middle of the brush holding in the powder. You need to take a pair of tweezers or something to pull it out. Once you pull it out the powder is now loose and you can twist the bottom, holding the brush upside down, and powder will fill the brush. I usually use this for touch ups in the summer. It is definitely not full coverage, just something to slip in the bag and take out for a nice touch of extra SPF. It’s not a powder foundation, nor will it super set your makeup. This is purely for touch ups after applying a good spf before makeup. I personally love it, it’s not messy and the cap holds on in my bag. It’s small enough to take to theme parks in the summer, or out by the beach. If you simply use it for touch ups it will last a very long time, if you are looking for an everyday, heavy duty powder - look for bare minerals or something that has SPF in it with bigger packaging/more coverage.</td>\n",
              "      <td>1.0</td>\n",
              "      <td>5</td>\n",
              "    </tr>\n",
              "    <tr>\n",
              "      <th>3</th>\n",
              "      <td>I have not figured out how to use this product up to now. I’ve been trying for the last couple of days without luck. Product not for me</td>\n",
              "      <td>0.0</td>\n",
              "      <td>1</td>\n",
              "    </tr>\n",
              "    <tr>\n",
              "      <th>4</th>\n",
              "      <td>I’m at a loss as to how to use this thing!!! Confusing instructions, can’t get product out, can’t use it.   A real bummer!!</td>\n",
              "      <td>0.0</td>\n",
              "      <td>1</td>\n",
              "    </tr>\n",
              "  </tbody>\n",
              "</table>\n",
              "</div>\n",
              "    <div class=\"colab-df-buttons\">\n",
              "\n",
              "  <div class=\"colab-df-container\">\n",
              "    <button class=\"colab-df-convert\" onclick=\"convertToInteractive('df-b0f269c8-bb09-4ef9-b07d-876c76054fbb')\"\n",
              "            title=\"Convert this dataframe to an interactive table.\"\n",
              "            style=\"display:none;\">\n",
              "\n",
              "  <svg xmlns=\"http://www.w3.org/2000/svg\" height=\"24px\" viewBox=\"0 -960 960 960\">\n",
              "    <path d=\"M120-120v-720h720v720H120Zm60-500h600v-160H180v160Zm220 220h160v-160H400v160Zm0 220h160v-160H400v160ZM180-400h160v-160H180v160Zm440 0h160v-160H620v160ZM180-180h160v-160H180v160Zm440 0h160v-160H620v160Z\"/>\n",
              "  </svg>\n",
              "    </button>\n",
              "\n",
              "  <style>\n",
              "    .colab-df-container {\n",
              "      display:flex;\n",
              "      gap: 12px;\n",
              "    }\n",
              "\n",
              "    .colab-df-convert {\n",
              "      background-color: #E8F0FE;\n",
              "      border: none;\n",
              "      border-radius: 50%;\n",
              "      cursor: pointer;\n",
              "      display: none;\n",
              "      fill: #1967D2;\n",
              "      height: 32px;\n",
              "      padding: 0 0 0 0;\n",
              "      width: 32px;\n",
              "    }\n",
              "\n",
              "    .colab-df-convert:hover {\n",
              "      background-color: #E2EBFA;\n",
              "      box-shadow: 0px 1px 2px rgba(60, 64, 67, 0.3), 0px 1px 3px 1px rgba(60, 64, 67, 0.15);\n",
              "      fill: #174EA6;\n",
              "    }\n",
              "\n",
              "    .colab-df-buttons div {\n",
              "      margin-bottom: 4px;\n",
              "    }\n",
              "\n",
              "    [theme=dark] .colab-df-convert {\n",
              "      background-color: #3B4455;\n",
              "      fill: #D2E3FC;\n",
              "    }\n",
              "\n",
              "    [theme=dark] .colab-df-convert:hover {\n",
              "      background-color: #434B5C;\n",
              "      box-shadow: 0px 1px 3px 1px rgba(0, 0, 0, 0.15);\n",
              "      filter: drop-shadow(0px 1px 2px rgba(0, 0, 0, 0.3));\n",
              "      fill: #FFFFFF;\n",
              "    }\n",
              "  </style>\n",
              "\n",
              "    <script>\n",
              "      const buttonEl =\n",
              "        document.querySelector('#df-b0f269c8-bb09-4ef9-b07d-876c76054fbb button.colab-df-convert');\n",
              "      buttonEl.style.display =\n",
              "        google.colab.kernel.accessAllowed ? 'block' : 'none';\n",
              "\n",
              "      async function convertToInteractive(key) {\n",
              "        const element = document.querySelector('#df-b0f269c8-bb09-4ef9-b07d-876c76054fbb');\n",
              "        const dataTable =\n",
              "          await google.colab.kernel.invokeFunction('convertToInteractive',\n",
              "                                                    [key], {});\n",
              "        if (!dataTable) return;\n",
              "\n",
              "        const docLinkHtml = 'Like what you see? Visit the ' +\n",
              "          '<a target=\"_blank\" href=https://colab.research.google.com/notebooks/data_table.ipynb>data table notebook</a>'\n",
              "          + ' to learn more about interactive tables.';\n",
              "        element.innerHTML = '';\n",
              "        dataTable['output_type'] = 'display_data';\n",
              "        await google.colab.output.renderOutput(dataTable, element);\n",
              "        const docLink = document.createElement('div');\n",
              "        docLink.innerHTML = docLinkHtml;\n",
              "        element.appendChild(docLink);\n",
              "      }\n",
              "    </script>\n",
              "  </div>\n",
              "\n",
              "\n",
              "<div id=\"df-7f4145fb-6625-4448-8bc5-497d692e7ef8\">\n",
              "  <button class=\"colab-df-quickchart\" onclick=\"quickchart('df-7f4145fb-6625-4448-8bc5-497d692e7ef8')\"\n",
              "            title=\"Suggest charts\"\n",
              "            style=\"display:none;\">\n",
              "\n",
              "<svg xmlns=\"http://www.w3.org/2000/svg\" height=\"24px\"viewBox=\"0 0 24 24\"\n",
              "     width=\"24px\">\n",
              "    <g>\n",
              "        <path d=\"M19 3H5c-1.1 0-2 .9-2 2v14c0 1.1.9 2 2 2h14c1.1 0 2-.9 2-2V5c0-1.1-.9-2-2-2zM9 17H7v-7h2v7zm4 0h-2V7h2v10zm4 0h-2v-4h2v4z\"/>\n",
              "    </g>\n",
              "</svg>\n",
              "  </button>\n",
              "\n",
              "<style>\n",
              "  .colab-df-quickchart {\n",
              "      --bg-color: #E8F0FE;\n",
              "      --fill-color: #1967D2;\n",
              "      --hover-bg-color: #E2EBFA;\n",
              "      --hover-fill-color: #174EA6;\n",
              "      --disabled-fill-color: #AAA;\n",
              "      --disabled-bg-color: #DDD;\n",
              "  }\n",
              "\n",
              "  [theme=dark] .colab-df-quickchart {\n",
              "      --bg-color: #3B4455;\n",
              "      --fill-color: #D2E3FC;\n",
              "      --hover-bg-color: #434B5C;\n",
              "      --hover-fill-color: #FFFFFF;\n",
              "      --disabled-bg-color: #3B4455;\n",
              "      --disabled-fill-color: #666;\n",
              "  }\n",
              "\n",
              "  .colab-df-quickchart {\n",
              "    background-color: var(--bg-color);\n",
              "    border: none;\n",
              "    border-radius: 50%;\n",
              "    cursor: pointer;\n",
              "    display: none;\n",
              "    fill: var(--fill-color);\n",
              "    height: 32px;\n",
              "    padding: 0;\n",
              "    width: 32px;\n",
              "  }\n",
              "\n",
              "  .colab-df-quickchart:hover {\n",
              "    background-color: var(--hover-bg-color);\n",
              "    box-shadow: 0 1px 2px rgba(60, 64, 67, 0.3), 0 1px 3px 1px rgba(60, 64, 67, 0.15);\n",
              "    fill: var(--button-hover-fill-color);\n",
              "  }\n",
              "\n",
              "  .colab-df-quickchart-complete:disabled,\n",
              "  .colab-df-quickchart-complete:disabled:hover {\n",
              "    background-color: var(--disabled-bg-color);\n",
              "    fill: var(--disabled-fill-color);\n",
              "    box-shadow: none;\n",
              "  }\n",
              "\n",
              "  .colab-df-spinner {\n",
              "    border: 2px solid var(--fill-color);\n",
              "    border-color: transparent;\n",
              "    border-bottom-color: var(--fill-color);\n",
              "    animation:\n",
              "      spin 1s steps(1) infinite;\n",
              "  }\n",
              "\n",
              "  @keyframes spin {\n",
              "    0% {\n",
              "      border-color: transparent;\n",
              "      border-bottom-color: var(--fill-color);\n",
              "      border-left-color: var(--fill-color);\n",
              "    }\n",
              "    20% {\n",
              "      border-color: transparent;\n",
              "      border-left-color: var(--fill-color);\n",
              "      border-top-color: var(--fill-color);\n",
              "    }\n",
              "    30% {\n",
              "      border-color: transparent;\n",
              "      border-left-color: var(--fill-color);\n",
              "      border-top-color: var(--fill-color);\n",
              "      border-right-color: var(--fill-color);\n",
              "    }\n",
              "    40% {\n",
              "      border-color: transparent;\n",
              "      border-right-color: var(--fill-color);\n",
              "      border-top-color: var(--fill-color);\n",
              "    }\n",
              "    60% {\n",
              "      border-color: transparent;\n",
              "      border-right-color: var(--fill-color);\n",
              "    }\n",
              "    80% {\n",
              "      border-color: transparent;\n",
              "      border-right-color: var(--fill-color);\n",
              "      border-bottom-color: var(--fill-color);\n",
              "    }\n",
              "    90% {\n",
              "      border-color: transparent;\n",
              "      border-bottom-color: var(--fill-color);\n",
              "    }\n",
              "  }\n",
              "</style>\n",
              "\n",
              "  <script>\n",
              "    async function quickchart(key) {\n",
              "      const quickchartButtonEl =\n",
              "        document.querySelector('#' + key + ' button');\n",
              "      quickchartButtonEl.disabled = true;  // To prevent multiple clicks.\n",
              "      quickchartButtonEl.classList.add('colab-df-spinner');\n",
              "      try {\n",
              "        const charts = await google.colab.kernel.invokeFunction(\n",
              "            'suggestCharts', [key], {});\n",
              "      } catch (error) {\n",
              "        console.error('Error during call to suggestCharts:', error);\n",
              "      }\n",
              "      quickchartButtonEl.classList.remove('colab-df-spinner');\n",
              "      quickchartButtonEl.classList.add('colab-df-quickchart-complete');\n",
              "    }\n",
              "    (() => {\n",
              "      let quickchartButtonEl =\n",
              "        document.querySelector('#df-7f4145fb-6625-4448-8bc5-497d692e7ef8 button');\n",
              "      quickchartButtonEl.style.display =\n",
              "        google.colab.kernel.accessAllowed ? 'block' : 'none';\n",
              "    })();\n",
              "  </script>\n",
              "</div>\n",
              "\n",
              "    </div>\n",
              "  </div>\n"
            ],
            "application/vnd.google.colaboratory.intrinsic+json": {
              "type": "dataframe",
              "variable_name": "df750"
            }
          },
          "metadata": {},
          "execution_count": 58
        }
      ]
    },
    {
      "cell_type": "code",
      "source": [
        "#Percentage of Positive/Negative\n",
        "df750['label'].value_counts()"
      ],
      "metadata": {
        "colab": {
          "base_uri": "https://localhost:8080/"
        },
        "id": "qL0fJ29KpIKX",
        "outputId": "d69eaad9-9e09-4156-cbf2-3129793b201f"
      },
      "execution_count": null,
      "outputs": [
        {
          "output_type": "execute_result",
          "data": {
            "text/plain": [
              "1.0    94797\n",
              "0.0    15624\n",
              "Name: label, dtype: int64"
            ]
          },
          "metadata": {},
          "execution_count": 59
        }
      ]
    },
    {
      "cell_type": "code",
      "source": [
        "# Concat both Dataframe based on Negative review ,and take negative ones\n",
        "df_conct = pd.concat([df250, df750], axis=0) #  axis=0 ,staking on top of each other.\n",
        "# selecting rows based on condition\n",
        "df_neg = df_conct[df_conct['label'] == 0]\n",
        "\n",
        "df_neg['label'].value_counts()"
      ],
      "metadata": {
        "colab": {
          "base_uri": "https://localhost:8080/"
        },
        "id": "Q3ZHfEdqpRXr",
        "outputId": "11de6546-25e3-4a83-b652-ad4f98ae4ffc"
      },
      "execution_count": null,
      "outputs": [
        {
          "output_type": "execute_result",
          "data": {
            "text/plain": [
              "0.0    45047\n",
              "Name: label, dtype: int64"
            ]
          },
          "metadata": {},
          "execution_count": 60
        }
      ]
    },
    {
      "cell_type": "code",
      "source": [
        "#concatenate dataframe by negative\n",
        "df = pd.concat([df, df_neg])\n",
        "df['label'].value_counts()"
      ],
      "metadata": {
        "colab": {
          "base_uri": "https://localhost:8080/"
        },
        "id": "fJJ7SeuFpdR3",
        "outputId": "da70bc92-65d8-4506-85eb-6af390f1487e"
      },
      "execution_count": null,
      "outputs": [
        {
          "output_type": "execute_result",
          "data": {
            "text/plain": [
              "1.0    683450\n",
              "0.0    173416\n",
              "Name: label, dtype: int64"
            ]
          },
          "metadata": {},
          "execution_count": 61
        }
      ]
    },
    {
      "cell_type": "code",
      "source": [
        "#Percentage of Positive/Negative\n",
        "print(\"Positive: \", round(df.label.value_counts()[1]/len(df)*100 , 2 ),\"%\")\n",
        "print(\"Negative: \", round(df.label.value_counts()[0]/len(df)*100, 2 ),\"%\")"
      ],
      "metadata": {
        "colab": {
          "base_uri": "https://localhost:8080/"
        },
        "id": "owR8cW6Jp6da",
        "outputId": "1b6ee500-124a-4e29-df5b-0ff844b68ee5"
      },
      "execution_count": null,
      "outputs": [
        {
          "output_type": "stream",
          "name": "stdout",
          "text": [
            "Positive:  79.76 %\n",
            "Negative:  20.24 %\n"
          ]
        }
      ]
    },
    {
      "cell_type": "markdown",
      "source": [
        "**Under Sampling - downsize the Majority class**"
      ],
      "metadata": {
        "id": "zrc6FUo4qMf1"
      }
    },
    {
      "cell_type": "markdown",
      "source": [
        "Selects all rows with label 0 (negative class) into df_neg. Then, it samples the same number of instances from the positive class (label 1) using the sample() function, ensuring that the same number of instances is taken from the positive class as there are in the negative class"
      ],
      "metadata": {
        "id": "lLFroAZlrpqL"
      }
    },
    {
      "cell_type": "code",
      "source": [
        "# Calculate the number of instances for each class to achieve 50% positive and 50% negative\n",
        " #calculate the minimum number of instances among positive and negative classes. This ensures that we sample an equal number of instances from each class to achieve a balanced dataset.\n",
        "num_instances = min(df['label'].value_counts())\n",
        "\n",
        "#he sample() function to randomly select num_instances instances from both positive and negative classes. The replace=True parameter allows sampling with replacement, meaning some instances might be selected multiple times, ensuring that both classes have the same number of instances.\n",
        "# Sample equal number of instances for each class\n",
        "df_pos = df[df['label'] == 1].sample(n=num_instances, replace=True)\n",
        "df_neg = df[df['label'] == 0].sample(n=num_instances, replace=True)\n",
        "\n",
        "# Merge the positive and negative class samples into a single DataFrame\n",
        "balanced_df = pd.concat([df_pos, df_neg])\n",
        "\n",
        "# Shuffle the rows of the merged DataFrame\n",
        "balanced_df = balanced_df.sample(frac=1).reset_index(drop=True)\n",
        "\n",
        "# Percentage of Positive/Negative in the balanced DataFrame\n",
        "print(\"Positive: \", round(balanced_df['label'].value_counts()[1]/len(balanced_df)*100, 2), \"%\")\n",
        "print(\"Negative: \", round(balanced_df['label'].value_counts()[0]/len(balanced_df)*100, 2), \"%\")\n"
      ],
      "metadata": {
        "colab": {
          "base_uri": "https://localhost:8080/"
        },
        "id": "XCbfrNn6rs4b",
        "outputId": "fbabd0c9-0ef0-4f86-cc04-dc70e75355b8"
      },
      "execution_count": null,
      "outputs": [
        {
          "output_type": "stream",
          "name": "stdout",
          "text": [
            "Positive:  50.0 %\n",
            "Negative:  50.0 %\n"
          ]
        }
      ]
    },
    {
      "cell_type": "markdown",
      "source": [
        "dataset currently has a balanced distribution of reviews, so we can proceed with the data exploration-Cleaning Data\n"
      ],
      "metadata": {
        "id": "3uZm6_Uvt9IS"
      }
    },
    {
      "cell_type": "code",
      "source": [
        "#Checking null values\n",
        "balanced_df.isnull().sum()"
      ],
      "metadata": {
        "colab": {
          "base_uri": "https://localhost:8080/"
        },
        "id": "gs8Be4iIz8p4",
        "outputId": "789650b9-a3a2-47cf-a2cd-bd32322c6754"
      },
      "execution_count": null,
      "outputs": [
        {
          "output_type": "execute_result",
          "data": {
            "text/plain": [
              "text      56\n",
              "label      0\n",
              "rating     0\n",
              "dtype: int64"
            ]
          },
          "metadata": {},
          "execution_count": 64
        }
      ]
    },
    {
      "cell_type": "code",
      "source": [
        "balanced_df.dropna(inplace=True)\n"
      ],
      "metadata": {
        "id": "2s3-oEHp0M58"
      },
      "execution_count": null,
      "outputs": []
    },
    {
      "cell_type": "code",
      "source": [
        "#Convert single column to int dtype.\n",
        "balanced_df['label'] = balanced_df['label'].astype('int')\n",
        "# ensure the casting happened\n",
        "balanced_df.info()"
      ],
      "metadata": {
        "colab": {
          "base_uri": "https://localhost:8080/"
        },
        "id": "zecKPPjf0V4Q",
        "outputId": "202f763c-86c5-4b0f-867b-09b9393b9ede"
      },
      "execution_count": null,
      "outputs": [
        {
          "output_type": "stream",
          "name": "stdout",
          "text": [
            "<class 'pandas.core.frame.DataFrame'>\n",
            "RangeIndex: 346832 entries, 0 to 346831\n",
            "Data columns (total 3 columns):\n",
            " #   Column  Non-Null Count   Dtype \n",
            "---  ------  --------------   ----- \n",
            " 0   text    346776 non-null  object\n",
            " 1   label   346832 non-null  int64 \n",
            " 2   rating  346832 non-null  int64 \n",
            "dtypes: int64(2), object(1)\n",
            "memory usage: 7.9+ MB\n"
          ]
        }
      ]
    },
    {
      "cell_type": "code",
      "source": [
        "pd.set_option('display.max_colwidth', None)\n",
        "balanced_df.head(2)"
      ],
      "metadata": {
        "colab": {
          "base_uri": "https://localhost:8080/",
          "height": 129
        },
        "id": "9ktlE6LH0mfH",
        "outputId": "f85fe372-6d3a-4fb6-8d17-e1cd4932bce5"
      },
      "execution_count": null,
      "outputs": [
        {
          "output_type": "execute_result",
          "data": {
            "text/plain": [
              "                                                                                                                                                                                                                                                                                                                                      text  \\\n",
              "0                                                                                                   i really saw such a difference in my skin after using this! there’s no fragrance which is a plus since i’m very sensitive to fragrance in skincare products. my blemishes went away after a few times using this! definitely recommend   \n",
              "1  Weird, watery formula with too much fragrance for my liking. I said appreciate how emollient it was on my dry skin - it felt nice. I would not recommend based on the watery consistency (did not wear well under my makeup) and the fragrance. If those things don’t bother you, then this is a good sunscreen that gets the job done.   \n",
              "\n",
              "   label  rating  \n",
              "0      1       5  \n",
              "1      0       3  "
            ],
            "text/html": [
              "\n",
              "  <div id=\"df-df8f33e0-8bc2-431c-bf8f-27fb1604d3b0\" class=\"colab-df-container\">\n",
              "    <div>\n",
              "<style scoped>\n",
              "    .dataframe tbody tr th:only-of-type {\n",
              "        vertical-align: middle;\n",
              "    }\n",
              "\n",
              "    .dataframe tbody tr th {\n",
              "        vertical-align: top;\n",
              "    }\n",
              "\n",
              "    .dataframe thead th {\n",
              "        text-align: right;\n",
              "    }\n",
              "</style>\n",
              "<table border=\"1\" class=\"dataframe\">\n",
              "  <thead>\n",
              "    <tr style=\"text-align: right;\">\n",
              "      <th></th>\n",
              "      <th>text</th>\n",
              "      <th>label</th>\n",
              "      <th>rating</th>\n",
              "    </tr>\n",
              "  </thead>\n",
              "  <tbody>\n",
              "    <tr>\n",
              "      <th>0</th>\n",
              "      <td>i really saw such a difference in my skin after using this! there’s no fragrance which is a plus since i’m very sensitive to fragrance in skincare products. my blemishes went away after a few times using this! definitely recommend</td>\n",
              "      <td>1</td>\n",
              "      <td>5</td>\n",
              "    </tr>\n",
              "    <tr>\n",
              "      <th>1</th>\n",
              "      <td>Weird, watery formula with too much fragrance for my liking. I said appreciate how emollient it was on my dry skin - it felt nice. I would not recommend based on the watery consistency (did not wear well under my makeup) and the fragrance. If those things don’t bother you, then this is a good sunscreen that gets the job done.</td>\n",
              "      <td>0</td>\n",
              "      <td>3</td>\n",
              "    </tr>\n",
              "  </tbody>\n",
              "</table>\n",
              "</div>\n",
              "    <div class=\"colab-df-buttons\">\n",
              "\n",
              "  <div class=\"colab-df-container\">\n",
              "    <button class=\"colab-df-convert\" onclick=\"convertToInteractive('df-df8f33e0-8bc2-431c-bf8f-27fb1604d3b0')\"\n",
              "            title=\"Convert this dataframe to an interactive table.\"\n",
              "            style=\"display:none;\">\n",
              "\n",
              "  <svg xmlns=\"http://www.w3.org/2000/svg\" height=\"24px\" viewBox=\"0 -960 960 960\">\n",
              "    <path d=\"M120-120v-720h720v720H120Zm60-500h600v-160H180v160Zm220 220h160v-160H400v160Zm0 220h160v-160H400v160ZM180-400h160v-160H180v160Zm440 0h160v-160H620v160ZM180-180h160v-160H180v160Zm440 0h160v-160H620v160Z\"/>\n",
              "  </svg>\n",
              "    </button>\n",
              "\n",
              "  <style>\n",
              "    .colab-df-container {\n",
              "      display:flex;\n",
              "      gap: 12px;\n",
              "    }\n",
              "\n",
              "    .colab-df-convert {\n",
              "      background-color: #E8F0FE;\n",
              "      border: none;\n",
              "      border-radius: 50%;\n",
              "      cursor: pointer;\n",
              "      display: none;\n",
              "      fill: #1967D2;\n",
              "      height: 32px;\n",
              "      padding: 0 0 0 0;\n",
              "      width: 32px;\n",
              "    }\n",
              "\n",
              "    .colab-df-convert:hover {\n",
              "      background-color: #E2EBFA;\n",
              "      box-shadow: 0px 1px 2px rgba(60, 64, 67, 0.3), 0px 1px 3px 1px rgba(60, 64, 67, 0.15);\n",
              "      fill: #174EA6;\n",
              "    }\n",
              "\n",
              "    .colab-df-buttons div {\n",
              "      margin-bottom: 4px;\n",
              "    }\n",
              "\n",
              "    [theme=dark] .colab-df-convert {\n",
              "      background-color: #3B4455;\n",
              "      fill: #D2E3FC;\n",
              "    }\n",
              "\n",
              "    [theme=dark] .colab-df-convert:hover {\n",
              "      background-color: #434B5C;\n",
              "      box-shadow: 0px 1px 3px 1px rgba(0, 0, 0, 0.15);\n",
              "      filter: drop-shadow(0px 1px 2px rgba(0, 0, 0, 0.3));\n",
              "      fill: #FFFFFF;\n",
              "    }\n",
              "  </style>\n",
              "\n",
              "    <script>\n",
              "      const buttonEl =\n",
              "        document.querySelector('#df-df8f33e0-8bc2-431c-bf8f-27fb1604d3b0 button.colab-df-convert');\n",
              "      buttonEl.style.display =\n",
              "        google.colab.kernel.accessAllowed ? 'block' : 'none';\n",
              "\n",
              "      async function convertToInteractive(key) {\n",
              "        const element = document.querySelector('#df-df8f33e0-8bc2-431c-bf8f-27fb1604d3b0');\n",
              "        const dataTable =\n",
              "          await google.colab.kernel.invokeFunction('convertToInteractive',\n",
              "                                                    [key], {});\n",
              "        if (!dataTable) return;\n",
              "\n",
              "        const docLinkHtml = 'Like what you see? Visit the ' +\n",
              "          '<a target=\"_blank\" href=https://colab.research.google.com/notebooks/data_table.ipynb>data table notebook</a>'\n",
              "          + ' to learn more about interactive tables.';\n",
              "        element.innerHTML = '';\n",
              "        dataTable['output_type'] = 'display_data';\n",
              "        await google.colab.output.renderOutput(dataTable, element);\n",
              "        const docLink = document.createElement('div');\n",
              "        docLink.innerHTML = docLinkHtml;\n",
              "        element.appendChild(docLink);\n",
              "      }\n",
              "    </script>\n",
              "  </div>\n",
              "\n",
              "\n",
              "<div id=\"df-da41aff1-c7c6-4a57-b19f-6b72da83bf0e\">\n",
              "  <button class=\"colab-df-quickchart\" onclick=\"quickchart('df-da41aff1-c7c6-4a57-b19f-6b72da83bf0e')\"\n",
              "            title=\"Suggest charts\"\n",
              "            style=\"display:none;\">\n",
              "\n",
              "<svg xmlns=\"http://www.w3.org/2000/svg\" height=\"24px\"viewBox=\"0 0 24 24\"\n",
              "     width=\"24px\">\n",
              "    <g>\n",
              "        <path d=\"M19 3H5c-1.1 0-2 .9-2 2v14c0 1.1.9 2 2 2h14c1.1 0 2-.9 2-2V5c0-1.1-.9-2-2-2zM9 17H7v-7h2v7zm4 0h-2V7h2v10zm4 0h-2v-4h2v4z\"/>\n",
              "    </g>\n",
              "</svg>\n",
              "  </button>\n",
              "\n",
              "<style>\n",
              "  .colab-df-quickchart {\n",
              "      --bg-color: #E8F0FE;\n",
              "      --fill-color: #1967D2;\n",
              "      --hover-bg-color: #E2EBFA;\n",
              "      --hover-fill-color: #174EA6;\n",
              "      --disabled-fill-color: #AAA;\n",
              "      --disabled-bg-color: #DDD;\n",
              "  }\n",
              "\n",
              "  [theme=dark] .colab-df-quickchart {\n",
              "      --bg-color: #3B4455;\n",
              "      --fill-color: #D2E3FC;\n",
              "      --hover-bg-color: #434B5C;\n",
              "      --hover-fill-color: #FFFFFF;\n",
              "      --disabled-bg-color: #3B4455;\n",
              "      --disabled-fill-color: #666;\n",
              "  }\n",
              "\n",
              "  .colab-df-quickchart {\n",
              "    background-color: var(--bg-color);\n",
              "    border: none;\n",
              "    border-radius: 50%;\n",
              "    cursor: pointer;\n",
              "    display: none;\n",
              "    fill: var(--fill-color);\n",
              "    height: 32px;\n",
              "    padding: 0;\n",
              "    width: 32px;\n",
              "  }\n",
              "\n",
              "  .colab-df-quickchart:hover {\n",
              "    background-color: var(--hover-bg-color);\n",
              "    box-shadow: 0 1px 2px rgba(60, 64, 67, 0.3), 0 1px 3px 1px rgba(60, 64, 67, 0.15);\n",
              "    fill: var(--button-hover-fill-color);\n",
              "  }\n",
              "\n",
              "  .colab-df-quickchart-complete:disabled,\n",
              "  .colab-df-quickchart-complete:disabled:hover {\n",
              "    background-color: var(--disabled-bg-color);\n",
              "    fill: var(--disabled-fill-color);\n",
              "    box-shadow: none;\n",
              "  }\n",
              "\n",
              "  .colab-df-spinner {\n",
              "    border: 2px solid var(--fill-color);\n",
              "    border-color: transparent;\n",
              "    border-bottom-color: var(--fill-color);\n",
              "    animation:\n",
              "      spin 1s steps(1) infinite;\n",
              "  }\n",
              "\n",
              "  @keyframes spin {\n",
              "    0% {\n",
              "      border-color: transparent;\n",
              "      border-bottom-color: var(--fill-color);\n",
              "      border-left-color: var(--fill-color);\n",
              "    }\n",
              "    20% {\n",
              "      border-color: transparent;\n",
              "      border-left-color: var(--fill-color);\n",
              "      border-top-color: var(--fill-color);\n",
              "    }\n",
              "    30% {\n",
              "      border-color: transparent;\n",
              "      border-left-color: var(--fill-color);\n",
              "      border-top-color: var(--fill-color);\n",
              "      border-right-color: var(--fill-color);\n",
              "    }\n",
              "    40% {\n",
              "      border-color: transparent;\n",
              "      border-right-color: var(--fill-color);\n",
              "      border-top-color: var(--fill-color);\n",
              "    }\n",
              "    60% {\n",
              "      border-color: transparent;\n",
              "      border-right-color: var(--fill-color);\n",
              "    }\n",
              "    80% {\n",
              "      border-color: transparent;\n",
              "      border-right-color: var(--fill-color);\n",
              "      border-bottom-color: var(--fill-color);\n",
              "    }\n",
              "    90% {\n",
              "      border-color: transparent;\n",
              "      border-bottom-color: var(--fill-color);\n",
              "    }\n",
              "  }\n",
              "</style>\n",
              "\n",
              "  <script>\n",
              "    async function quickchart(key) {\n",
              "      const quickchartButtonEl =\n",
              "        document.querySelector('#' + key + ' button');\n",
              "      quickchartButtonEl.disabled = true;  // To prevent multiple clicks.\n",
              "      quickchartButtonEl.classList.add('colab-df-spinner');\n",
              "      try {\n",
              "        const charts = await google.colab.kernel.invokeFunction(\n",
              "            'suggestCharts', [key], {});\n",
              "      } catch (error) {\n",
              "        console.error('Error during call to suggestCharts:', error);\n",
              "      }\n",
              "      quickchartButtonEl.classList.remove('colab-df-spinner');\n",
              "      quickchartButtonEl.classList.add('colab-df-quickchart-complete');\n",
              "    }\n",
              "    (() => {\n",
              "      let quickchartButtonEl =\n",
              "        document.querySelector('#df-da41aff1-c7c6-4a57-b19f-6b72da83bf0e button');\n",
              "      quickchartButtonEl.style.display =\n",
              "        google.colab.kernel.accessAllowed ? 'block' : 'none';\n",
              "    })();\n",
              "  </script>\n",
              "</div>\n",
              "\n",
              "    </div>\n",
              "  </div>\n"
            ],
            "application/vnd.google.colaboratory.intrinsic+json": {
              "type": "dataframe",
              "variable_name": "balanced_df"
            }
          },
          "metadata": {},
          "execution_count": 66
        }
      ]
    },
    {
      "cell_type": "markdown",
      "source": [
        "# Visualize Data"
      ],
      "metadata": {
        "id": "UtFvkVsu1Uql"
      }
    },
    {
      "cell_type": "code",
      "source": [
        "balanced_df['label'].value_counts()"
      ],
      "metadata": {
        "colab": {
          "base_uri": "https://localhost:8080/"
        },
        "id": "QRicEyFB1Rmd",
        "outputId": "c4c5a378-db77-43b0-b3c5-e98bb66f2b2b"
      },
      "execution_count": null,
      "outputs": [
        {
          "output_type": "execute_result",
          "data": {
            "text/plain": [
              "1    173416\n",
              "0    173416\n",
              "Name: label, dtype: int64"
            ]
          },
          "metadata": {},
          "execution_count": 67
        }
      ]
    },
    {
      "cell_type": "code",
      "source": [
        "plt.figure(figsize=(8, 6))\n",
        "sns.countplot(x='label', data=balanced_df)\n",
        "plt.title('Distribution of Reviews')\n",
        "plt.xlabel('Review')\n",
        "plt.ylabel('Count')\n",
        "plt.show()"
      ],
      "metadata": {
        "colab": {
          "base_uri": "https://localhost:8080/",
          "height": 564
        },
        "id": "JsrfvU8H2M-r",
        "outputId": "d66f0b73-e4c7-4c90-b1c8-4be4289d2190"
      },
      "execution_count": null,
      "outputs": [
        {
          "output_type": "display_data",
          "data": {
            "text/plain": [
              "<Figure size 800x600 with 1 Axes>"
            ],
            "image/png": "[encoded data removed]"
          },
          "metadata": {}
        }
      ]
    },
    {
      "cell_type": "code",
      "source": [
        "# Create subplots with 1 row and 2 columns\n",
        "fig, axs = plt.subplots(1, 2, figsize=(15, 5))\n",
        "\n",
        "# Plot the first pie chart for the original DataFrame 'df'\n",
        "colors = ['#AB47BC', '#6495ED']\n",
        "axs[0].pie(df['label'].value_counts(), labels=['Positive', 'Negative'], autopct='%.2f%%', explode=[0.01, 0.01], colors=colors)\n",
        "axs[0].set_title('Distribution of target - Original')\n",
        "axs[0].set_ylabel('Sentiment')\n",
        "\n",
        "# Plot the second pie chart for the balanced DataFrame 'balanced_df'\n",
        "axs[1].pie(balanced_df['label'].value_counts(), labels=['Positive', 'Negative'], autopct='%.2f%%', explode=[0.01, 0.01], colors=colors)\n",
        "axs[1].set_title('Distribution of target - Balanced')\n",
        "axs[1].set_ylabel('Sentiment')\n",
        "\n",
        "plt.show()\n"
      ],
      "metadata": {
        "colab": {
          "base_uri": "https://localhost:8080/",
          "height": 444
        },
        "id": "J8uVEeRm2bj-",
        "outputId": "f61184a0-2b1f-4934-8a8c-c5d19a6acb8e"
      },
      "execution_count": null,
      "outputs": [
        {
          "output_type": "display_data",
          "data": {
            "text/plain": [
              "<Figure size 1500x500 with 2 Axes>"
            ],
            "image/png": "[encoded data removed]"
          },
          "metadata": {}
        }
      ]
    },
    {
      "cell_type": "code",
      "source": [
        "balanced_df['text'] = balanced_df['text'].fillna('')\n",
        "\n"
      ],
      "metadata": {
        "id": "zm-aQPDZlku2"
      },
      "execution_count": null,
      "outputs": []
    },
    {
      "cell_type": "code",
      "source": [
        "# Add a new column 'text_word_count' containing the number of words in each text\n",
        "balanced_df['text_word_count'] = balanced_df['text'].apply(lambda x: len(x.split()))\n",
        "\n",
        "# Set the style of seaborn\n",
        "sns.set(style=\"whitegrid\")\n",
        "\n",
        "# Plot the distribution of word counts\n",
        "plt.figure(figsize=(12, 4))\n",
        "sns.histplot(data=balanced_df, x='text_word_count', bins=50, color='#6495ED', kde=True)\n",
        "plt.title(\"Distribution of Word Counts in Text\")\n",
        "plt.xlabel(\"Word Count\")\n",
        "plt.ylabel(\"Frequency\")\n",
        "plt.show()\n"
      ],
      "metadata": {
        "colab": {
          "base_uri": "https://localhost:8080/",
          "height": 419
        },
        "id": "bQVhVd-m6BQW",
        "outputId": "3d39e5f9-22d9-4e89-ba78-154bfa98814c"
      },
      "execution_count": null,
      "outputs": [
        {
          "output_type": "display_data",
          "data": {
            "text/plain": [
              "<Figure size 1200x400 with 1 Axes>"
            ],
            "image/png": "[encoded data removed]"
          },
          "metadata": {}
        }
      ]
    },
    {
      "cell_type": "code",
      "source": [
        "\n",
        "# Add a new column 'text_word_count' containing the number of words in each text\n",
        "balanced_df['text_word_count'] = balanced_df['text'].apply(lambda x: len(x.split()))\n",
        "\n",
        "# Set the style of seaborn\n",
        "sns.set(style=\"whitegrid\")\n",
        "\n",
        "# Define custom colors for each class\n",
        "custom_colors = {0: '#33FF57', 1: '#FF5733'}  # Red for negative, green for positive\n",
        "\n",
        "# Plot the distribution of word counts with hue for labels\n",
        "plt.figure(figsize=(12, 6))\n",
        "sns.histplot(data=balanced_df, x='text_word_count', bins=50, hue='label', multiple=\"stack\", palette=custom_colors, kde=True)\n",
        "plt.title(\"Distribution of Word Counts in Text by Label\")\n",
        "plt.xlabel(\"Word Count\")\n",
        "plt.ylabel(\"Frequency\")\n",
        "plt.legend(title=\"Label\", labels=['Negative', 'Positive'])\n",
        "plt.show()\n"
      ],
      "metadata": {
        "colab": {
          "base_uri": "https://localhost:8080/",
          "height": 573
        },
        "id": "AgHU3zYb9zyV",
        "outputId": "ec141449-bb15-4a34-bc8e-e031ece83f86"
      },
      "execution_count": null,
      "outputs": [
        {
          "output_type": "display_data",
          "data": {
            "text/plain": [
              "<Figure size 1200x600 with 1 Axes>"
            ],
            "image/png": "[encoded data removed]"
          },
          "metadata": {}
        }
      ]
    },
    {
      "cell_type": "markdown",
      "source": [
        "# **Text pre-processing **"
      ],
      "metadata": {
        "id": "u1xgR_CTNgRq"
      }
    },
    {
      "cell_type": "code",
      "source": [
        "# Before preprocessing\n",
        "print(\"Before Preprocessing:\")\n",
        "print(balanced_df.iloc[2])"
      ],
      "metadata": {
        "colab": {
          "base_uri": "https://localhost:8080/"
        },
        "id": "gqpEXJgBEqo7",
        "outputId": "4227c31e-7b2a-4444-b72d-ffef44409cd1"
      },
      "execution_count": null,
      "outputs": [
        {
          "output_type": "stream",
          "name": "stdout",
          "text": [
            "Before Preprocessing:\n",
            "text               I basically purchased this oil for it’s vitamin C and turmeric benefits for skim brightening and treating some of my hyperpigmentation. Although I liked the product in the sense that it felt good on my skin and kept me hydrated but unfortunately I did not see any of brightening or vitamin C advantage of it. I used the whole bottle and applied it religiously for 3 months, every morning but saw nothing. My 20$ vitamin c serum which I was using before this helped me more than this. Also vitamin C is way down the product list.\n",
            "label                                                                                                                                                                                                                                                                                                                                                                                                                                                                                                                                                             0\n",
            "rating                                                                                                                                                                                                                                                                                                                                                                                                                                                                                                                                                            2\n",
            "text_word_count                                                                                                                                                                                                                                                                                                                                                                                                                                                                                                                                                  97\n",
            "Name: 2, dtype: object\n"
          ]
        }
      ]
    },
    {
      "cell_type": "code",
      "source": [
        "#remove extra characters\n",
        "balanced_df['text']=balanced_df['text'].str.replace('[^\\w\\s]','')"
      ],
      "metadata": {
        "colab": {
          "base_uri": "https://localhost:8080/"
        },
        "id": "xEokosfGkRpo",
        "outputId": "be128c8a-7c12-449b-a472-65bdfb5197a4"
      },
      "execution_count": null,
      "outputs": [
        {
          "output_type": "stream",
          "name": "stderr",
          "text": [
            "<ipython-input-75-20e2a22e61d8>:2: FutureWarning: The default value of regex will change from True to False in a future version.\n",
            "  balanced_df['text']=balanced_df['text'].str.replace('[^\\w\\s]','')\n"
          ]
        }
      ]
    },
    {
      "cell_type": "code",
      "source": [
        "from bs4 import BeautifulSoup\n",
        "\n",
        "# Define strip_html function\n",
        "def strip_html(text):\n",
        "    soup = BeautifulSoup(text, \"html.parser\")\n",
        "    return soup.get_text()"
      ],
      "metadata": {
        "id": "vJUnabBWB9Lw"
      },
      "execution_count": null,
      "outputs": []
    },
    {
      "cell_type": "code",
      "source": [
        "# Apply strip_html function to the 'text' column\n",
        "balanced_df['text'] = balanced_df['text'].apply(strip_html)"
      ],
      "metadata": {
        "id": "a2a1S9boCAHm"
      },
      "execution_count": null,
      "outputs": []
    },
    {
      "cell_type": "code",
      "source": [
        "def remove_between_square_brackets(text):\n",
        "    # Regular expression to remove text between square brackets\n",
        "    return re.sub(r'\\[.*?\\]', '', text)"
      ],
      "metadata": {
        "id": "7w62LOpYDMMV"
      },
      "execution_count": null,
      "outputs": []
    },
    {
      "cell_type": "code",
      "source": [
        "# Define denoise_text function\n",
        "def denoise_text(text):\n",
        "    text = strip_html(text)\n",
        "    text = remove_between_square_brackets(text)\n",
        "    return text\n",
        "\n",
        "# Apply denoise_text function to the 'text' column\n",
        "balanced_df['text'] = balanced_df['text'].apply(denoise_text)"
      ],
      "metadata": {
        "id": "diG4FcYZCPsT"
      },
      "execution_count": null,
      "outputs": []
    },
    {
      "cell_type": "code",
      "source": [
        "#remove digit\n",
        "balanced_df['text']=balanced_df['text'].str.replace(r'\\d+', '')"
      ],
      "metadata": {
        "colab": {
          "base_uri": "https://localhost:8080/"
        },
        "id": "DEfoNPZHuJh_",
        "outputId": "a6f8d7cb-807d-4a6f-a683-748166efccfe"
      },
      "execution_count": null,
      "outputs": [
        {
          "output_type": "stream",
          "name": "stderr",
          "text": [
            "<ipython-input-80-282960dd7a1d>:2: FutureWarning: The default value of regex will change from True to False in a future version.\n",
            "  balanced_df['text']=balanced_df['text'].str.replace(r'\\d+', '')\n"
          ]
        }
      ]
    },
    {
      "cell_type": "code",
      "source": [
        "#remove running spaces\n",
        "balanced_df['text']=balanced_df['text'].str.replace(r'^\\s+|\\s+$', '')"
      ],
      "metadata": {
        "colab": {
          "base_uri": "https://localhost:8080/"
        },
        "id": "qsDvrO3EuZ5E",
        "outputId": "5365f160-6f53-43ff-f0bb-dff3a8fd4531"
      },
      "execution_count": null,
      "outputs": [
        {
          "output_type": "stream",
          "name": "stderr",
          "text": [
            "<ipython-input-81-d3b497210d21>:2: FutureWarning: The default value of regex will change from True to False in a future version.\n",
            "  balanced_df['text']=balanced_df['text'].str.replace(r'^\\s+|\\s+$', '')\n"
          ]
        }
      ]
    },
    {
      "cell_type": "code",
      "source": [
        "#remove running special_characters\n",
        "balanced_df['text']=balanced_df['text'].str.replace(r'[^a-zA-z0-9\\s]', '')"
      ],
      "metadata": {
        "colab": {
          "base_uri": "https://localhost:8080/"
        },
        "id": "skS5aenPEnqJ",
        "outputId": "1cb4d87e-02d1-414e-cfb6-2e81f3fa0334"
      },
      "execution_count": null,
      "outputs": [
        {
          "output_type": "stream",
          "name": "stderr",
          "text": [
            "<ipython-input-82-971d9185d47f>:2: FutureWarning: The default value of regex will change from True to False in a future version.\n",
            "  balanced_df['text']=balanced_df['text'].str.replace(r'[^a-zA-z0-9\\s]', '')\n"
          ]
        }
      ]
    },
    {
      "cell_type": "code",
      "source": [
        "#make the text lowercase\n",
        "balanced_df['text']=balanced_df['text'].str.lower()"
      ],
      "metadata": {
        "id": "5gqHzRYEuuOo"
      },
      "execution_count": null,
      "outputs": []
    },
    {
      "cell_type": "code",
      "source": [
        "import nltk\n",
        "nltk.download('stopwords')\n",
        "from nltk.corpus import stopwords\n",
        "stopwords_list = stopwords.words('english')\n",
        "balanced_df['text']=balanced_df['text'].apply(lambda x: ' '.join([word for word in x.split() if word not in stopwords_list]))\n"
      ],
      "metadata": {
        "colab": {
          "base_uri": "https://localhost:8080/"
        },
        "id": "idXxsQ7E6PqB",
        "outputId": "1f73a36e-4de8-4ef1-c259-81c57ab74498"
      },
      "execution_count": null,
      "outputs": [
        {
          "output_type": "stream",
          "name": "stderr",
          "text": [
            "[nltk_data] Downloading package stopwords to /root/nltk_data...\n",
            "[nltk_data]   Unzipping corpora/stopwords.zip.\n"
          ]
        }
      ]
    },
    {
      "cell_type": "code",
      "source": [
        "# Remove leading and trailing spaces\n",
        "balanced_df['text']=balanced_df['text'].str.strip()"
      ],
      "metadata": {
        "id": "7nFr7LLq6HbY"
      },
      "execution_count": null,
      "outputs": []
    },
    {
      "cell_type": "code",
      "source": [
        "import nltk\n",
        "from nltk.stem import PorterStemmer\n",
        "\n",
        "# Define the simple_stemmer function\n",
        "def simple_stemmer(text):\n",
        "    ps = nltk.porter.PorterStemmer()\n",
        "    stemmed_text = ' '.join([ps.stem(word) for word in text.split()])\n",
        "    return stemmed_text\n",
        "\n",
        "\n",
        "# Apply the simple_stemmer function to the 'text' column\n",
        "balanced_df['text'] = balanced_df['text'].apply(simple_stemmer)\n"
      ],
      "metadata": {
        "id": "QSGcc7eEGyb9"
      },
      "execution_count": null,
      "outputs": []
    },
    {
      "cell_type": "code",
      "source": [
        "import nltk\n",
        "nltk.download('wordnet')\n",
        "from nltk.stem import WordNetLemmatizer\n",
        "lemmatizer = WordNetLemmatizer()\n",
        "balanced_df['text'] =balanced_df['text'].apply(lambda x: ' '.join([lemmatizer.lemmatize(word) for word in x.split()]))\n"
      ],
      "metadata": {
        "colab": {
          "base_uri": "https://localhost:8080/"
        },
        "id": "fYJ7agrf6aZL",
        "outputId": "76f3a4d9-e551-4a58-84c1-b86832a28898"
      },
      "execution_count": null,
      "outputs": [
        {
          "output_type": "stream",
          "name": "stderr",
          "text": [
            "[nltk_data] Downloading package wordnet to /root/nltk_data...\n"
          ]
        }
      ]
    },
    {
      "cell_type": "code",
      "source": [
        "import re\n",
        "\n",
        "# Define the remove_repeated_chars function\n",
        "def remove_repeated_chars(text):\n",
        "    # Define the regex pattern to match consecutive repeated characters\n",
        "    pattern = re.compile(r'(.)\\1{2,}')  # Matches 2 or more consecutive repetitions of the same character\n",
        "\n",
        "    # Replace consecutive repeated characters with a single occurrence\n",
        "    cleaned_text = pattern.sub(r'\\1', text)\n",
        "\n",
        "    return cleaned_text\n",
        "\n",
        "# Apply the remove_repeated_chars function to the 'text' column\n",
        "balanced_df['text'] = balanced_df['text'].apply(remove_repeated_chars)\n"
      ],
      "metadata": {
        "id": "pnS1Bz33HFc4"
      },
      "execution_count": null,
      "outputs": []
    },
    {
      "cell_type": "code",
      "source": [
        "# After preprocessing\n",
        "balanced_df['text_word_count'] = balanced_df['text'].apply(lambda x: len(x.split()))\n",
        "print(\"\\nAfter Preprocessing:\")\n",
        "print(balanced_df.iloc[2])"
      ],
      "metadata": {
        "colab": {
          "base_uri": "https://localhost:8080/"
        },
        "id": "SWZ1vOfd071_",
        "outputId": "5cce7a40-8527-413b-cb1a-c498850e1d19"
      },
      "execution_count": null,
      "outputs": [
        {
          "output_type": "stream",
          "name": "stdout",
          "text": [
            "\n",
            "After Preprocessing:\n",
            "text               basic purchas oil vitamin c turmer benefit skim brighten treat hyperpigment although like product sen felt good skin kept hydrat unfortun see brighten vitamin c advantag use whole bottl appli religi month everi morn saw noth vitamin c serum use help also vitamin c way product list\n",
            "label                                                                                                                                                                                                                                                                                                      0\n",
            "rating                                                                                                                                                                                                                                                                                                     2\n",
            "text_word_count                                                                                                                                                                                                                                                                                           47\n",
            "Name: 2, dtype: object\n"
          ]
        }
      ]
    },
    {
      "cell_type": "code",
      "source": [
        "df.info()\n"
      ],
      "metadata": {
        "colab": {
          "base_uri": "https://localhost:8080/"
        },
        "id": "0PFAaNuA2UQU",
        "outputId": "22c5eb83-4f67-4453-d244-477546bb3dc9"
      },
      "execution_count": null,
      "outputs": [
        {
          "output_type": "stream",
          "name": "stdout",
          "text": [
            "<class 'pandas.core.frame.DataFrame'>\n",
            "Int64Index: 856866 entries, 0 to 119248\n",
            "Data columns (total 3 columns):\n",
            " #   Column  Non-Null Count   Dtype  \n",
            "---  ------  --------------   -----  \n",
            " 0   text    856808 non-null  object \n",
            " 1   label   856866 non-null  float64\n",
            " 2   rating  856866 non-null  int64  \n",
            "dtypes: float64(1), int64(1), object(1)\n",
            "memory usage: 26.1+ MB\n"
          ]
        }
      ]
    },
    {
      "cell_type": "code",
      "source": [
        "from google.colab import drive\n",
        "drive.mount('/content/drive')"
      ],
      "metadata": {
        "colab": {
          "base_uri": "https://localhost:8080/"
        },
        "id": "jBjq5vxezWcb",
        "outputId": "8c5dab53-c573-4ede-b19a-2aebce52c1b6"
      },
      "execution_count": null,
      "outputs": [
        {
          "output_type": "stream",
          "name": "stdout",
          "text": [
            "Drive already mounted at /content/drive; to attempt to forcibly remount, call drive.mount(\"/content/drive\", force_remount=True).\n"
          ]
        }
      ]
    },
    {
      "cell_type": "code",
      "source": [
        "\n",
        "from google.colab import drive\n",
        "\n",
        "# Mount Google Drive\n",
        "drive.mount('/content/drive')\n",
        "\n",
        "# Create a folder in the root directory\n",
        "!mkdir -p \"/content/drive/My Drive/NLP\""
      ],
      "metadata": {
        "colab": {
          "base_uri": "https://localhost:8080/"
        },
        "id": "4brUk8kyze-B",
        "outputId": "5a6ca5c8-6243-462f-ce80-70bb38151b87"
      },
      "execution_count": null,
      "outputs": [
        {
          "output_type": "stream",
          "name": "stdout",
          "text": [
            "Drive already mounted at /content/drive; to attempt to forcibly remount, call drive.mount(\"/content/drive\", force_remount=True).\n"
          ]
        }
      ]
    },
    {
      "cell_type": "code",
      "source": [
        "# Save the DataFrame to a CSV file\n",
        "balanced_df.to_csv('balanced_df.csv', index=False)\n"
      ],
      "metadata": {
        "id": "G_dW87yH0Ol_"
      },
      "execution_count": null,
      "outputs": []
    },
    {
      "cell_type": "code",
      "source": [
        "balanced_df.head(5)"
      ],
      "metadata": {
        "colab": {
          "base_uri": "https://localhost:8080/",
          "height": 224
        },
        "id": "8RebE2fzSkfQ",
        "outputId": "5a7a66a9-2e8d-4977-90a4-3697fc1241f3"
      },
      "execution_count": null,
      "outputs": [
        {
          "output_type": "execute_result",
          "data": {
            "text/plain": [
              "                                                                                                                                                                                                                                                                                        text  \\\n",
              "0                                                                                                                                                         realli saw differ skin use there fragranc plu sinc im sensit fragranc skincar product blemish went away time use definit recommend   \n",
              "1                                                                                                 weird wateri formula much fragranc like said appreci emolli dri skin felt nice would recommend base wateri consist wear well makeup fragranc thing dont bother good sunscreen get job done   \n",
              "2  basic purchas oil vitamin c turmer benefit skim brighten treat hyperpigment although like product sen felt good skin kept hydrat unfortun see brighten vitamin c advantag use whole bottl appli religi month everi morn saw noth vitamin c serum use help also vitamin c way product list   \n",
              "3                                                                                                                                                         product obvious bit pricey love smell great amaz light airi whip textur calm hydrat skin make break moisturis order second contain   \n",
              "4                                                                                        unfortun product irrit skin first use think fairli toler skin experienc burn sensat face product took back sephora employe said wasnt uncommon complaint peopl love basic didnt work lot peopl rave   \n",
              "\n",
              "   label  rating  text_word_count  \n",
              "0      1       5               21  \n",
              "1      0       3               30  \n",
              "2      0       2               47  \n",
              "3      1       5               21  \n",
              "4      0       1               31  "
            ],
            "text/html": [
              "\n",
              "  <div id=\"df-fb15e1d4-54fc-48c7-ab5c-b0754ad8fd08\" class=\"colab-df-container\">\n",
              "    <div>\n",
              "<style scoped>\n",
              "    .dataframe tbody tr th:only-of-type {\n",
              "        vertical-align: middle;\n",
              "    }\n",
              "\n",
              "    .dataframe tbody tr th {\n",
              "        vertical-align: top;\n",
              "    }\n",
              "\n",
              "    .dataframe thead th {\n",
              "        text-align: right;\n",
              "    }\n",
              "</style>\n",
              "<table border=\"1\" class=\"dataframe\">\n",
              "  <thead>\n",
              "    <tr style=\"text-align: right;\">\n",
              "      <th></th>\n",
              "      <th>text</th>\n",
              "      <th>label</th>\n",
              "      <th>rating</th>\n",
              "      <th>text_word_count</th>\n",
              "    </tr>\n",
              "  </thead>\n",
              "  <tbody>\n",
              "    <tr>\n",
              "      <th>0</th>\n",
              "      <td>realli saw differ skin use there fragranc plu sinc im sensit fragranc skincar product blemish went away time use definit recommend</td>\n",
              "      <td>1</td>\n",
              "      <td>5</td>\n",
              "      <td>21</td>\n",
              "    </tr>\n",
              "    <tr>\n",
              "      <th>1</th>\n",
              "      <td>weird wateri formula much fragranc like said appreci emolli dri skin felt nice would recommend base wateri consist wear well makeup fragranc thing dont bother good sunscreen get job done</td>\n",
              "      <td>0</td>\n",
              "      <td>3</td>\n",
              "      <td>30</td>\n",
              "    </tr>\n",
              "    <tr>\n",
              "      <th>2</th>\n",
              "      <td>basic purchas oil vitamin c turmer benefit skim brighten treat hyperpigment although like product sen felt good skin kept hydrat unfortun see brighten vitamin c advantag use whole bottl appli religi month everi morn saw noth vitamin c serum use help also vitamin c way product list</td>\n",
              "      <td>0</td>\n",
              "      <td>2</td>\n",
              "      <td>47</td>\n",
              "    </tr>\n",
              "    <tr>\n",
              "      <th>3</th>\n",
              "      <td>product obvious bit pricey love smell great amaz light airi whip textur calm hydrat skin make break moisturis order second contain</td>\n",
              "      <td>1</td>\n",
              "      <td>5</td>\n",
              "      <td>21</td>\n",
              "    </tr>\n",
              "    <tr>\n",
              "      <th>4</th>\n",
              "      <td>unfortun product irrit skin first use think fairli toler skin experienc burn sensat face product took back sephora employe said wasnt uncommon complaint peopl love basic didnt work lot peopl rave</td>\n",
              "      <td>0</td>\n",
              "      <td>1</td>\n",
              "      <td>31</td>\n",
              "    </tr>\n",
              "  </tbody>\n",
              "</table>\n",
              "</div>\n",
              "    <div class=\"colab-df-buttons\">\n",
              "\n",
              "  <div class=\"colab-df-container\">\n",
              "    <button class=\"colab-df-convert\" onclick=\"convertToInteractive('df-fb15e1d4-54fc-48c7-ab5c-b0754ad8fd08')\"\n",
              "            title=\"Convert this dataframe to an interactive table.\"\n",
              "            style=\"display:none;\">\n",
              "\n",
              "  <svg xmlns=\"http://www.w3.org/2000/svg\" height=\"24px\" viewBox=\"0 -960 960 960\">\n",
              "    <path d=\"M120-120v-720h720v720H120Zm60-500h600v-160H180v160Zm220 220h160v-160H400v160Zm0 220h160v-160H400v160ZM180-400h160v-160H180v160Zm440 0h160v-160H620v160ZM180-180h160v-160H180v160Zm440 0h160v-160H620v160Z\"/>\n",
              "  </svg>\n",
              "    </button>\n",
              "\n",
              "  <style>\n",
              "    .colab-df-container {\n",
              "      display:flex;\n",
              "      gap: 12px;\n",
              "    }\n",
              "\n",
              "    .colab-df-convert {\n",
              "      background-color: #E8F0FE;\n",
              "      border: none;\n",
              "      border-radius: 50%;\n",
              "      cursor: pointer;\n",
              "      display: none;\n",
              "      fill: #1967D2;\n",
              "      height: 32px;\n",
              "      padding: 0 0 0 0;\n",
              "      width: 32px;\n",
              "    }\n",
              "\n",
              "    .colab-df-convert:hover {\n",
              "      background-color: #E2EBFA;\n",
              "      box-shadow: 0px 1px 2px rgba(60, 64, 67, 0.3), 0px 1px 3px 1px rgba(60, 64, 67, 0.15);\n",
              "      fill: #174EA6;\n",
              "    }\n",
              "\n",
              "    .colab-df-buttons div {\n",
              "      margin-bottom: 4px;\n",
              "    }\n",
              "\n",
              "    [theme=dark] .colab-df-convert {\n",
              "      background-color: #3B4455;\n",
              "      fill: #D2E3FC;\n",
              "    }\n",
              "\n",
              "    [theme=dark] .colab-df-convert:hover {\n",
              "      background-color: #434B5C;\n",
              "      box-shadow: 0px 1px 3px 1px rgba(0, 0, 0, 0.15);\n",
              "      filter: drop-shadow(0px 1px 2px rgba(0, 0, 0, 0.3));\n",
              "      fill: #FFFFFF;\n",
              "    }\n",
              "  </style>\n",
              "\n",
              "    <script>\n",
              "      const buttonEl =\n",
              "        document.querySelector('#df-fb15e1d4-54fc-48c7-ab5c-b0754ad8fd08 button.colab-df-convert');\n",
              "      buttonEl.style.display =\n",
              "        google.colab.kernel.accessAllowed ? 'block' : 'none';\n",
              "\n",
              "      async function convertToInteractive(key) {\n",
              "        const element = document.querySelector('#df-fb15e1d4-54fc-48c7-ab5c-b0754ad8fd08');\n",
              "        const dataTable =\n",
              "          await google.colab.kernel.invokeFunction('convertToInteractive',\n",
              "                                                    [key], {});\n",
              "        if (!dataTable) return;\n",
              "\n",
              "        const docLinkHtml = 'Like what you see? Visit the ' +\n",
              "          '<a target=\"_blank\" href=https://colab.research.google.com/notebooks/data_table.ipynb>data table notebook</a>'\n",
              "          + ' to learn more about interactive tables.';\n",
              "        element.innerHTML = '';\n",
              "        dataTable['output_type'] = 'display_data';\n",
              "        await google.colab.output.renderOutput(dataTable, element);\n",
              "        const docLink = document.createElement('div');\n",
              "        docLink.innerHTML = docLinkHtml;\n",
              "        element.appendChild(docLink);\n",
              "      }\n",
              "    </script>\n",
              "  </div>\n",
              "\n",
              "\n",
              "<div id=\"df-5c40ff0a-ee55-4fda-8368-5101158e85e6\">\n",
              "  <button class=\"colab-df-quickchart\" onclick=\"quickchart('df-5c40ff0a-ee55-4fda-8368-5101158e85e6')\"\n",
              "            title=\"Suggest charts\"\n",
              "            style=\"display:none;\">\n",
              "\n",
              "<svg xmlns=\"http://www.w3.org/2000/svg\" height=\"24px\"viewBox=\"0 0 24 24\"\n",
              "     width=\"24px\">\n",
              "    <g>\n",
              "        <path d=\"M19 3H5c-1.1 0-2 .9-2 2v14c0 1.1.9 2 2 2h14c1.1 0 2-.9 2-2V5c0-1.1-.9-2-2-2zM9 17H7v-7h2v7zm4 0h-2V7h2v10zm4 0h-2v-4h2v4z\"/>\n",
              "    </g>\n",
              "</svg>\n",
              "  </button>\n",
              "\n",
              "<style>\n",
              "  .colab-df-quickchart {\n",
              "      --bg-color: #E8F0FE;\n",
              "      --fill-color: #1967D2;\n",
              "      --hover-bg-color: #E2EBFA;\n",
              "      --hover-fill-color: #174EA6;\n",
              "      --disabled-fill-color: #AAA;\n",
              "      --disabled-bg-color: #DDD;\n",
              "  }\n",
              "\n",
              "  [theme=dark] .colab-df-quickchart {\n",
              "      --bg-color: #3B4455;\n",
              "      --fill-color: #D2E3FC;\n",
              "      --hover-bg-color: #434B5C;\n",
              "      --hover-fill-color: #FFFFFF;\n",
              "      --disabled-bg-color: #3B4455;\n",
              "      --disabled-fill-color: #666;\n",
              "  }\n",
              "\n",
              "  .colab-df-quickchart {\n",
              "    background-color: var(--bg-color);\n",
              "    border: none;\n",
              "    border-radius: 50%;\n",
              "    cursor: pointer;\n",
              "    display: none;\n",
              "    fill: var(--fill-color);\n",
              "    height: 32px;\n",
              "    padding: 0;\n",
              "    width: 32px;\n",
              "  }\n",
              "\n",
              "  .colab-df-quickchart:hover {\n",
              "    background-color: var(--hover-bg-color);\n",
              "    box-shadow: 0 1px 2px rgba(60, 64, 67, 0.3), 0 1px 3px 1px rgba(60, 64, 67, 0.15);\n",
              "    fill: var(--button-hover-fill-color);\n",
              "  }\n",
              "\n",
              "  .colab-df-quickchart-complete:disabled,\n",
              "  .colab-df-quickchart-complete:disabled:hover {\n",
              "    background-color: var(--disabled-bg-color);\n",
              "    fill: var(--disabled-fill-color);\n",
              "    box-shadow: none;\n",
              "  }\n",
              "\n",
              "  .colab-df-spinner {\n",
              "    border: 2px solid var(--fill-color);\n",
              "    border-color: transparent;\n",
              "    border-bottom-color: var(--fill-color);\n",
              "    animation:\n",
              "      spin 1s steps(1) infinite;\n",
              "  }\n",
              "\n",
              "  @keyframes spin {\n",
              "    0% {\n",
              "      border-color: transparent;\n",
              "      border-bottom-color: var(--fill-color);\n",
              "      border-left-color: var(--fill-color);\n",
              "    }\n",
              "    20% {\n",
              "      border-color: transparent;\n",
              "      border-left-color: var(--fill-color);\n",
              "      border-top-color: var(--fill-color);\n",
              "    }\n",
              "    30% {\n",
              "      border-color: transparent;\n",
              "      border-left-color: var(--fill-color);\n",
              "      border-top-color: var(--fill-color);\n",
              "      border-right-color: var(--fill-color);\n",
              "    }\n",
              "    40% {\n",
              "      border-color: transparent;\n",
              "      border-right-color: var(--fill-color);\n",
              "      border-top-color: var(--fill-color);\n",
              "    }\n",
              "    60% {\n",
              "      border-color: transparent;\n",
              "      border-right-color: var(--fill-color);\n",
              "    }\n",
              "    80% {\n",
              "      border-color: transparent;\n",
              "      border-right-color: var(--fill-color);\n",
              "      border-bottom-color: var(--fill-color);\n",
              "    }\n",
              "    90% {\n",
              "      border-color: transparent;\n",
              "      border-bottom-color: var(--fill-color);\n",
              "    }\n",
              "  }\n",
              "</style>\n",
              "\n",
              "  <script>\n",
              "    async function quickchart(key) {\n",
              "      const quickchartButtonEl =\n",
              "        document.querySelector('#' + key + ' button');\n",
              "      quickchartButtonEl.disabled = true;  // To prevent multiple clicks.\n",
              "      quickchartButtonEl.classList.add('colab-df-spinner');\n",
              "      try {\n",
              "        const charts = await google.colab.kernel.invokeFunction(\n",
              "            'suggestCharts', [key], {});\n",
              "      } catch (error) {\n",
              "        console.error('Error during call to suggestCharts:', error);\n",
              "      }\n",
              "      quickchartButtonEl.classList.remove('colab-df-spinner');\n",
              "      quickchartButtonEl.classList.add('colab-df-quickchart-complete');\n",
              "    }\n",
              "    (() => {\n",
              "      let quickchartButtonEl =\n",
              "        document.querySelector('#df-5c40ff0a-ee55-4fda-8368-5101158e85e6 button');\n",
              "      quickchartButtonEl.style.display =\n",
              "        google.colab.kernel.accessAllowed ? 'block' : 'none';\n",
              "    })();\n",
              "  </script>\n",
              "</div>\n",
              "\n",
              "    </div>\n",
              "  </div>\n"
            ],
            "application/vnd.google.colaboratory.intrinsic+json": {
              "type": "dataframe",
              "variable_name": "balanced_df"
            }
          },
          "metadata": {},
          "execution_count": 91
        }
      ]
    },
    {
      "cell_type": "markdown",
      "source": [
        "**Train | Validation | Test Sets**"
      ],
      "metadata": {
        "id": "ysDMdN5_LUPj"
      }
    },
    {
      "cell_type": "code",
      "source": [
        " from sklearn.model_selection import train_test_split\n",
        "\n",
        "# Split the dataset into training and test sets (90% training, 10% test)\n",
        "train_data, test_data = train_test_split(balanced_df, test_size=0.1, random_state=42)\n",
        "\n",
        "# Split the training data into training and validation sets (80% training, 20% validation)\n",
        "train_data, validation_data = train_test_split(train_data, test_size=0.2, random_state=42)\n",
        "\n",
        "# Display the sizes of the datasets\n",
        "print(\"Training data size:\", len(train_data))\n",
        "print(\"Validation data size:\", len(validation_data))\n",
        "print(\"Test data size:\", len(test_data))\n"
      ],
      "metadata": {
        "colab": {
          "base_uri": "https://localhost:8080/"
        },
        "id": "JPQkDaYGL4Nn",
        "outputId": "8cb2287d-fc43-4ee8-bda5-00c6d2a85620"
      },
      "execution_count": null,
      "outputs": [
        {
          "output_type": "stream",
          "name": "stdout",
          "text": [
            "Training data size: 249718\n",
            "Validation data size: 62430\n",
            "Test data size: 34684\n"
          ]
        }
      ]
    },
    {
      "cell_type": "markdown",
      "source": [
        "**Initialize Tiny-BERT Model and Tokenize**"
      ],
      "metadata": {
        "id": "fJ091RFDLuRW"
      }
    },
    {
      "cell_type": "code",
      "source": [
        "from transformers import BertTokenizer, BertForSequenceClassification\n",
        "from transformers import Trainer, TrainingArguments\n",
        "from tensorflow.keras.callbacks import ModelCheckpoint\n",
        "\n",
        "#model_name = \"bert-base-uncased\"\n",
        "#tokenizer = BertTokenizer.from_pretrained(model_name)\n",
        "#model = BertForSequenceClassification.from_pretrained(model_name)\n",
        "# Load DistilBERT tokenizer and model\n",
        "#model_name = \"distilbert-base-uncased\"\n",
        "#tokenizer = DistilBertTokenizer.from_pretrained(model_name)\n",
        "#model = DistilBertForSequenceClassification.from_pretrained(model_name)\n",
        "\n",
        "\n",
        "model_name = \"prajjwal1/bert-tiny\"\n",
        "tokenizer = BertTokenizer.from_pretrained(model_name)\n",
        "model = BertForSequenceClassification.from_pretrained(model_name)"
      ],
      "metadata": {
        "colab": {
          "base_uri": "https://localhost:8080/",
          "height": 252,
          "referenced_widgets": [
            "9483a02c11414a4694763b1baa7b0ef7",
            "67e553d89cec495ea0f888e3814fa4eb",
            "8f3e5a8c3a664f1dbf9ea4695d30217d",
            "08edce7932ca4260b4761a6153b66b65",
            "36b39a8832304f24927fa61b48f2cf36",
            "2f3219f12e394fb2a6bb7900b8d1e51a",
            "2dc48b49703e43729721ce6701abb807",
            "327a372fcb30490dbe24f105bc0bf885",
            "e07b14374f1547fc9c89461c21ad0fbe",
            "23a75266128141719a2ba1a2fbb9068d",
            "f2bd3c8322e24ab8a3237ecc37473ec0",
            "5081800cbe514b7a954e733a407cc359",
            "cf1d95a4d7ed4814826fedb7983feed1",
            "c214514c36474847aab9e9827fb65735",
            "bba55054bab64a069c64df4b3300613f",
            "34fbca91f4ac4bcba4bdf7a921a49ba9",
            "f1c378934539404fad8230df8aa591eb",
            "eb32a0e7525e4e33b273948bc95ced65",
            "81e6a624ceb245d98f86bc10e46dd24a",
            "4cfb9fb8f392403bac0425a3243fa771",
            "44048f945c0941c2ab277be8992d53f0",
            "80ea573ab54645e68297f2945f12f6f5",
            "f57c9f7eaab8434bab13135aef11f4a9",
            "b4d78f20a2824430a1c6483de97a8da2",
            "e26323ac046546c7b38eaa89d607bd14",
            "0fa12ab7de2a4b3983142cf4c83e9cac",
            "79794188a7554a8d8fed390b6dac2f02",
            "14dee9ef75894c20bd235567bbb73bc2",
            "fd4e4c240c9f43beadf38c9e31491f05",
            "59edba30f0af4058b7791a2efb97c92f",
            "380221267a2f4701b5399407d34cbc1d",
            "d5a02aa16c7147158613aa440e01f738",
            "9e7299807e6e46c5a58483245c50defc"
          ]
        },
        "id": "Nb_W2Yac3FCl",
        "outputId": "1933a7de-5ba3-409a-f904-df01dc3a9cb5"
      },
      "execution_count": null,
      "outputs": [
        {
          "output_type": "stream",
          "name": "stderr",
          "text": [
            "/usr/local/lib/python3.10/dist-packages/huggingface_hub/utils/_token.py:88: UserWarning: \n",
            "The secret `HF_TOKEN` does not exist in your Colab secrets.\n",
            "To authenticate with the Hugging Face Hub, create a token in your settings tab (https://huggingface.co/settings/tokens), set it as secret in your Google Colab and restart your session.\n",
            "You will be able to reuse this secret in all of your notebooks.\n",
            "Please note that authentication is recommended but still optional to access public models or datasets.\n",
            "  warnings.warn(\n"
          ]
        },
        {
          "output_type": "display_data",
          "data": {
            "text/plain": [
              "vocab.txt:   0%|          | 0.00/232k [00:00<?, ?B/s]"
            ],
            "application/vnd.jupyter.widget-view+json": {
              "version_major": 2,
              "version_minor": 0,
              "model_id": "9483a02c11414a4694763b1baa7b0ef7"
            }
          },
          "metadata": {}
        },
        {
          "output_type": "display_data",
          "data": {
            "text/plain": [
              "config.json:   0%|          | 0.00/285 [00:00<?, ?B/s]"
            ],
            "application/vnd.jupyter.widget-view+json": {
              "version_major": 2,
              "version_minor": 0,
              "model_id": "5081800cbe514b7a954e733a407cc359"
            }
          },
          "metadata": {}
        },
        {
          "output_type": "display_data",
          "data": {
            "text/plain": [
              "pytorch_model.bin:   0%|          | 0.00/17.8M [00:00<?, ?B/s]"
            ],
            "application/vnd.jupyter.widget-view+json": {
              "version_major": 2,
              "version_minor": 0,
              "model_id": "f57c9f7eaab8434bab13135aef11f4a9"
            }
          },
          "metadata": {}
        },
        {
          "output_type": "stream",
          "name": "stderr",
          "text": [
            "Some weights of BertForSequenceClassification were not initialized from the model checkpoint at prajjwal1/bert-tiny and are newly initialized: ['classifier.bias', 'classifier.weight']\n",
            "You should probably TRAIN this model on a down-stream task to be able to use it for predictions and inference.\n"
          ]
        }
      ]
    },
    {
      "cell_type": "code",
      "source": [
        " #Initialize ModelCheckpoint callback\n",
        "checkpoint = ModelCheckpoint(filepath='model_checkpoint_{epoch}.h5', save_best_only=False)"
      ],
      "metadata": {
        "id": "eON1mChnYp73"
      },
      "execution_count": null,
      "outputs": []
    },
    {
      "cell_type": "code",
      "source": [
        "# Define hyperparameters\n",
        "batch_size = 8\n",
        "learning_rate = 1e-5\n",
        "epochs = 3\n",
        "max_length = 128\n",
        "patience = 3"
      ],
      "metadata": {
        "id": "VYLZESwkL12r"
      },
      "execution_count": null,
      "outputs": []
    },
    {
      "cell_type": "code",
      "source": [
        "# Initialize ModelCheckpoint callback\n",
        "checkpoint = ModelCheckpoint(filepath='model_checkpoint1_{epoch}.h5',\n",
        "                             monitor='val_loss',\n",
        "                             save_best_only=False,\n",
        "                             mode='auto')"
      ],
      "metadata": {
        "id": "HGHB4qsSZwTO"
      },
      "execution_count": null,
      "outputs": []
    },
    {
      "cell_type": "code",
      "source": [
        "# Display the sizes of the datasets\n",
        "print(\"Training data size:\", len(train_data))"
      ],
      "metadata": {
        "colab": {
          "base_uri": "https://localhost:8080/"
        },
        "id": "R1ZzN3chPLIP",
        "outputId": "0780bdaf-96a2-473c-819d-d9a73718b326"
      },
      "execution_count": null,
      "outputs": [
        {
          "output_type": "stream",
          "name": "stdout",
          "text": [
            "Training data size: 249674\n"
          ]
        }
      ]
    },
    {
      "cell_type": "code",
      "source": [
        "!nvidia-smi"
      ],
      "metadata": {
        "colab": {
          "base_uri": "https://localhost:8080/"
        },
        "id": "C-UMEtLxP6Fm",
        "outputId": "9358688f-e4de-4d5c-85c7-1e05c85a0c25"
      },
      "execution_count": null,
      "outputs": [
        {
          "output_type": "stream",
          "name": "stdout",
          "text": [
            "Mon Mar 18 16:33:53 2024       \n",
            "+---------------------------------------------------------------------------------------+\n",
            "| NVIDIA-SMI 535.104.05             Driver Version: 535.104.05   CUDA Version: 12.2     |\n",
            "|-----------------------------------------+----------------------+----------------------+\n",
            "| GPU  Name                 Persistence-M | Bus-Id        Disp.A | Volatile Uncorr. ECC |\n",
            "| Fan  Temp   Perf          Pwr:Usage/Cap |         Memory-Usage | GPU-Util  Compute M. |\n",
            "|                                         |                      |               MIG M. |\n",
            "|=========================================+======================+======================|\n",
            "|   0  Tesla T4                       Off | 00000000:00:04.0 Off |                    0 |\n",
            "| N/A   40C    P8              10W /  70W |      3MiB / 15360MiB |      0%      Default |\n",
            "|                                         |                      |                  N/A |\n",
            "+-----------------------------------------+----------------------+----------------------+\n",
            "                                                                                         \n",
            "+---------------------------------------------------------------------------------------+\n",
            "| Processes:                                                                            |\n",
            "|  GPU   GI   CI        PID   Type   Process name                            GPU Memory |\n",
            "|        ID   ID                                                             Usage      |\n",
            "|=======================================================================================|\n",
            "|  No running processes found                                                           |\n",
            "+---------------------------------------------------------------------------------------+\n"
          ]
        }
      ]
    },
    {
      "cell_type": "code",
      "source": [
        "#Tokenize the input data using the tokenizer\n",
        "\n",
        "train_inputs = tokenizer(train_data['text'].tolist(), padding=True, truncation=True, max_length=max_length, return_tensors=\"pt\")\n",
        "train_labels = torch.tensor(train_data['label'].tolist())\n",
        "\n",
        "validation_inputs = tokenizer(validation_data['text'].tolist(), padding=True, truncation=True, max_length=max_length, return_tensors=\"pt\")\n",
        "validation_labels = torch.tensor(validation_data['label'].tolist())\n",
        "\n"
      ],
      "metadata": {
        "id": "nxl8tKX0TYZG"
      },
      "execution_count": null,
      "outputs": []
    },
    {
      "cell_type": "code",
      "source": [
        "# Create DataLoader for training and validation sets\n",
        "train_dataset = TensorDataset(train_inputs['input_ids'], train_inputs['attention_mask'], train_labels)\n",
        "train_dataloader = DataLoader(train_dataset, batch_size=batch_size, shuffle=True)\n",
        "validation_dataset = TensorDataset(validation_inputs['input_ids'], validation_inputs['attention_mask'], validation_labels)\n",
        "validation_dataloader = DataLoader(validation_dataset, batch_size=batch_size)"
      ],
      "metadata": {
        "id": "KdKsaOZsVir6"
      },
      "execution_count": null,
      "outputs": []
    },
    {
      "cell_type": "markdown",
      "source": [
        "**Define Optimizer**"
      ],
      "metadata": {
        "id": "FQBPaWLfM_eX"
      }
    },
    {
      "cell_type": "code",
      "source": [
        "\n",
        "# Define the optimizer for training the mode\n",
        "\n",
        "optimizer = AdamW(model.parameters(), lr=learning_rate)"
      ],
      "metadata": {
        "colab": {
          "base_uri": "https://localhost:8080/"
        },
        "id": "dRFn_mpJVl44",
        "outputId": "9cb309af-aba2-44a9-e13f-f4ed83758c7c"
      },
      "execution_count": null,
      "outputs": [
        {
          "output_type": "stream",
          "name": "stderr",
          "text": [
            "/usr/local/lib/python3.10/dist-packages/transformers/optimization.py:429: FutureWarning: This implementation of AdamW is deprecated and will be removed in a future version. Use the PyTorch implementation torch.optim.AdamW instead, or set `no_deprecation_warning=True` to disable this warning\n",
            "  warnings.warn(\n"
          ]
        }
      ]
    },
    {
      "cell_type": "code",
      "source": [],
      "metadata": {
        "id": "f_jpLgzcND0r"
      },
      "execution_count": null,
      "outputs": []
    },
    {
      "cell_type": "code",
      "source": [
        "from tqdm import tqdm"
      ],
      "metadata": {
        "id": "wCSlvWvfNrWC"
      },
      "execution_count": null,
      "outputs": []
    },
    {
      "cell_type": "code",
      "source": [
        "# Training loop\n",
        "for epoch in range(epochs):\n",
        "    # Training\n",
        "    model.train()\n",
        "    train_loss = 0\n",
        "    num_batches = len(train_dataloader)\n",
        "    with tqdm(total=num_batches, desc=f'Epoch {epoch + 1}/{epochs}', unit='batch') as pbar:\n",
        "        for batch in train_dataloader:\n",
        "            input_ids, attention_mask, labels = batch\n",
        "            optimizer.zero_grad()\n",
        "            outputs = model(input_ids, attention_mask=attention_mask, labels=labels)\n",
        "            loss = outputs.loss\n",
        "            loss.backward()\n",
        "            optimizer.step()\n",
        "            train_loss += loss.item()\n",
        "            pbar.update(1)  # Update progress bar\n",
        "            pbar.set_postfix({'loss': train_loss / (num_batches+1)})  # Update loss in progress bar\n"
      ],
      "metadata": {
        "id": "TTAnCQ-8Voe7",
        "colab": {
          "base_uri": "https://localhost:8080/"
        },
        "outputId": "e5b346b5-c34d-4f94-92f6-f45876151cc9"
      },
      "execution_count": null,
      "outputs": [
        {
          "output_type": "stream",
          "name": "stderr",
          "text": [
            "Epoch 1/3: 100%|██████████| 31215/31215 [25:58<00:00, 20.02batch/s, loss=0.373]\n",
            "Epoch 2/3: 100%|██████████| 31215/31215 [26:20<00:00, 19.74batch/s, loss=0.302]\n",
            "Epoch 3/3: 100%|██████████| 31215/31215 [26:21<00:00, 19.74batch/s, loss=0.282]\n"
          ]
        }
      ]
    },
    {
      "cell_type": "code",
      "source": [
        "# Validation\n",
        "model.eval()\n",
        "val_loss = 0\n",
        "with torch.no_grad():\n",
        "    for batch in validation_dataloader:\n",
        "        input_ids, attention_mask, labels = batch\n",
        "        outputs = model(input_ids, attention_mask=attention_mask, labels=labels)\n",
        "        loss = outputs.loss\n",
        "        val_loss += loss.item()\n",
        "\n",
        "# Compute average validation loss\n",
        "avg_val_loss = val_loss / len(validation_dataloader)\n",
        "print(f'Validation Loss: {avg_val_loss}')\n"
      ],
      "metadata": {
        "id": "H7kwrs0nW1v4",
        "colab": {
          "base_uri": "https://localhost:8080/"
        },
        "outputId": "67ac849a-2ece-4f64-fdbe-4820474b917b"
      },
      "execution_count": null,
      "outputs": [
        {
          "output_type": "stream",
          "name": "stdout",
          "text": [
            "Validation Loss: 0.27074665502641015\n"
          ]
        }
      ]
    },
    {
      "cell_type": "code",
      "source": [
        "torch.save(model.state_dict(), 'model_checkpoint1.pth')"
      ],
      "metadata": {
        "id": "Vh1y5A6endjZ"
      },
      "execution_count": null,
      "outputs": []
    },
    {
      "cell_type": "code",
      "source": [
        "# Load the saved model's state dictionary\n",
        "state_dict = torch.load('model_checkpoint1.pth')\n",
        "\n",
        "# Load the state dictionary into the model\n",
        "model.load_state_dict(state_dict)\n",
        "\n",
        "# Set the model to evaluation mode\n",
        "model.eval()"
      ],
      "metadata": {
        "colab": {
          "base_uri": "https://localhost:8080/"
        },
        "id": "NTzv8ltlpCv0",
        "outputId": "5bf295d1-5cc5-4fbb-d01f-8675bbca035d"
      },
      "execution_count": null,
      "outputs": [
        {
          "output_type": "execute_result",
          "data": {
            "text/plain": [
              "BertForSequenceClassification(\n",
              "  (bert): BertModel(\n",
              "    (embeddings): BertEmbeddings(\n",
              "      (word_embeddings): Embedding(30522, 128, padding_idx=0)\n",
              "      (position_embeddings): Embedding(512, 128)\n",
              "      (token_type_embeddings): Embedding(2, 128)\n",
              "      (LayerNorm): LayerNorm((128,), eps=1e-12, elementwise_affine=True)\n",
              "      (dropout): Dropout(p=0.1, inplace=False)\n",
              "    )\n",
              "    (encoder): BertEncoder(\n",
              "      (layer): ModuleList(\n",
              "        (0-1): 2 x BertLayer(\n",
              "          (attention): BertAttention(\n",
              "            (self): BertSelfAttention(\n",
              "              (query): Linear(in_features=128, out_features=128, bias=True)\n",
              "              (key): Linear(in_features=128, out_features=128, bias=True)\n",
              "              (value): Linear(in_features=128, out_features=128, bias=True)\n",
              "              (dropout): Dropout(p=0.1, inplace=False)\n",
              "            )\n",
              "            (output): BertSelfOutput(\n",
              "              (dense): Linear(in_features=128, out_features=128, bias=True)\n",
              "              (LayerNorm): LayerNorm((128,), eps=1e-12, elementwise_affine=True)\n",
              "              (dropout): Dropout(p=0.1, inplace=False)\n",
              "            )\n",
              "          )\n",
              "          (intermediate): BertIntermediate(\n",
              "            (dense): Linear(in_features=128, out_features=512, bias=True)\n",
              "            (intermediate_act_fn): GELUActivation()\n",
              "          )\n",
              "          (output): BertOutput(\n",
              "            (dense): Linear(in_features=512, out_features=128, bias=True)\n",
              "            (LayerNorm): LayerNorm((128,), eps=1e-12, elementwise_affine=True)\n",
              "            (dropout): Dropout(p=0.1, inplace=False)\n",
              "          )\n",
              "        )\n",
              "      )\n",
              "    )\n",
              "    (pooler): BertPooler(\n",
              "      (dense): Linear(in_features=128, out_features=128, bias=True)\n",
              "      (activation): Tanh()\n",
              "    )\n",
              "  )\n",
              "  (dropout): Dropout(p=0.1, inplace=False)\n",
              "  (classifier): Linear(in_features=128, out_features=2, bias=True)\n",
              ")"
            ]
          },
          "metadata": {},
          "execution_count": 106
        }
      ]
    },
    {
      "cell_type": "code",
      "source": [
        "# Tokenize test_data\n",
        "test_inputs = tokenizer(test_data['text'].tolist(), padding=True, truncation=True, return_tensors=\"pt\")\n",
        "test_labels = torch.tensor(test_data['label'].tolist())\n"
      ],
      "metadata": {
        "colab": {
          "base_uri": "https://localhost:8080/"
        },
        "id": "DQxyvwnypKgc",
        "outputId": "526c4f44-4521-424d-d082-a757b60b4772"
      },
      "execution_count": null,
      "outputs": [
        {
          "output_type": "stream",
          "name": "stderr",
          "text": [
            "Asking to truncate to max_length but no maximum length is provided and the model has no predefined maximum length. Default to no truncation.\n"
          ]
        }
      ]
    },
    {
      "cell_type": "code",
      "source": [
        "# Create a PyTorch DataLoader for the test dataset\n",
        "test_dataset = TensorDataset(test_inputs['input_ids'], test_inputs['attention_mask'], test_labels)\n",
        "test_dataloader = DataLoader(test_dataset, batch_size=16)"
      ],
      "metadata": {
        "id": "9Jrm9qWapczp"
      },
      "execution_count": null,
      "outputs": []
    },
    {
      "cell_type": "code",
      "source": [
        "# Lists to store true labels and predicted labels\n",
        "from sklearn.metrics import accuracy_score, precision_score, recall_score, f1_score\n",
        "\n",
        "y_true = []\n",
        "y_pred = []\n",
        "\n",
        "# Iterate over batches of test data\n",
        "for batch in test_dataloader:\n",
        "    input_ids, attention_mask, labels = batch\n",
        "    with torch.no_grad():\n",
        "        # Forward pass\n",
        "        outputs = model(input_ids, attention_mask=attention_mask)\n",
        "        logits = outputs.logits\n",
        "        # Convert logits to predicted labels\n",
        "        batch_predictions = torch.argmax(logits, dim=1)\n",
        "        # Append true and predicted labels to lists\n",
        "        y_true.extend(labels.cpu().numpy())\n",
        "        y_pred.extend(batch_predictions.cpu().numpy())\n",
        "\n",
        "# Compute evaluation metrics\n",
        "accuracy = accuracy_score(y_true, y_pred)\n",
        "precision = precision_score(y_true, y_pred)\n",
        "recall = recall_score(y_true, y_pred)\n",
        "f1 = f1_score(y_true, y_pred)\n",
        "\n",
        "# Print evaluation metrics\n",
        "print(\"Accuracy:\", accuracy)\n",
        "print(\"Precision:\", precision)\n",
        "print(\"Recall:\", recall)\n",
        "print(\"F1 Score:\", f1)"
      ],
      "metadata": {
        "colab": {
          "base_uri": "https://localhost:8080/"
        },
        "id": "eLrvWNPXpiOg",
        "outputId": "23c3f2f6-75c8-4098-b772-b151a348e368"
      },
      "execution_count": null,
      "outputs": [
        {
          "output_type": "stream",
          "name": "stdout",
          "text": [
            "Accuracy: 0.8888536500980279\n",
            "Precision: 0.8864663805436338\n",
            "Recall: 0.8922359175210229\n",
            "F1 Score: 0.8893417917731148\n"
          ]
        }
      ]
    },
    {
      "cell_type": "code",
      "source": [
        "\n",
        "index_test =1\n",
        "text = test_data[\"text\"].iloc[index_test]\n",
        "actual_label = test_data[\"label\"].iloc[index_test]\n",
        "\n",
        "# Print the text and actual label\n",
        "print(\"Test Data Record:\")\n",
        "print(\"Text:\", text)\n",
        "print(\"Actual Label:\", actual_label)\n",
        "\n",
        "# Tokenize the text\n",
        "inputs = tokenizer(text, return_tensors=\"pt\")\n",
        "\n",
        "# Perform inference\n",
        "with torch.no_grad():\n",
        "    outputs = model(**inputs)\n",
        "\n",
        "# Get the predicted label\n",
        "predicted_label = torch.argmax(outputs.logits, dim=1).item()\n",
        "\n",
        "# Print the predicted label\n",
        "print(\"Predicted Label:\", predicted_label)\n"
      ],
      "metadata": {
        "colab": {
          "base_uri": "https://localhost:8080/"
        },
        "id": "fDw0uQOhakq-",
        "outputId": "bf971c97-af15-433b-e376-f57c065b697f"
      },
      "execution_count": null,
      "outputs": [
        {
          "output_type": "stream",
          "name": "stdout",
          "text": [
            "Test Data Record:\n",
            "Text: receiv moistur gift innisfre exchang opinion absorb well skin combin skin suitabl use summer winter may moistur enough\n",
            "Actual Label: 1\n",
            "Predicted Label: 1\n"
          ]
        }
      ]
    },
    {
      "cell_type": "code",
      "source": [
        "\n",
        "index_test =40\n",
        "text = test_data[\"text\"].iloc[index_test]\n",
        "actual_label = test_data[\"label\"].iloc[index_test]\n",
        "\n",
        "# Print the text and actual label\n",
        "print(\"Test Data Record:\")\n",
        "print(\"Text:\", text)\n",
        "print(\"Actual Label:\", actual_label)\n",
        "\n",
        "# Tokenize the text\n",
        "inputs = tokenizer(text, return_tensors=\"pt\")\n",
        "\n",
        "# Perform inference\n",
        "with torch.no_grad():\n",
        "    outputs = model(**inputs)\n",
        "\n",
        "# Get the predicted label\n",
        "predicted_label = torch.argmax(outputs.logits, dim=1).item()\n",
        "\n",
        "# Print the predicted label\n",
        "print(\"Predicted Label:\", predicted_label)\n"
      ],
      "metadata": {
        "colab": {
          "base_uri": "https://localhost:8080/"
        },
        "id": "7yB2BEzweBOc",
        "outputId": "cb51b1bf-4623-4624-d1d3-3d5b4af3609b"
      },
      "execution_count": null,
      "outputs": [
        {
          "output_type": "stream",
          "name": "stdout",
          "text": [
            "Test Data Record:\n",
            "Text: product alway pill matter wear ive tri everi way could think still sit top skin ball blend touch face appreci clean ingredi brand make good product would pas one\n",
            "Actual Label: 0\n",
            "Predicted Label: 0\n"
          ]
        }
      ]
    },
    {
      "cell_type": "markdown",
      "metadata": {
        "id": "jP8nWCjT_Xgv"
      },
      "source": [
        "**Inference**"
      ]
    },
    {
      "cell_type": "code",
      "source": [
        "import torch\n",
        "from transformers import AutoTokenizer, AutoModelForSequenceClassification\n",
        "\n",
        "# Load the pretrained tokenizer and model\n",
        "model_name = \"prajjwal1/bert-tiny\"\n",
        "tokenizer = AutoTokenizer.from_pretrained(model_name)\n",
        "model = AutoModelForSequenceClassification.from_pretrained(model_name)\n",
        "\n",
        "# Load the saved model's state dictionary\n",
        "state_dict = torch.load('model_checkpoint1.pth')\n",
        "\n",
        "# Load the state dictionary into the model\n",
        "model.load_state_dict(state_dict)\n",
        "\n",
        "# Set the model to evaluation mode\n",
        "model.eval()\n",
        "\n",
        "# Example test data\n",
        "test_text = \"love moistur much make skin feel hydrat smooth clog pore caus breakout kept skin soft nourish day long would definit recommend\"\n",
        "\n",
        "# Tokenize the test text\n",
        "inputs = tokenizer(test_text, return_tensors=\"pt\")\n",
        "\n",
        "# Perform inference\n",
        "with torch.no_grad():\n",
        "    outputs = model(**inputs)\n",
        "\n",
        "# Get the predicted label\n",
        "predicted_label = torch.argmax(outputs.logits, dim=1).item()\n",
        "\n",
        "# Output the prediction\n",
        "print(\"Predicted label:\", predicted_label)\n"
      ],
      "metadata": {
        "colab": {
          "base_uri": "https://localhost:8080/"
        },
        "id": "O4DbcKVfcdQ6",
        "outputId": "8201674d-4257-4ec9-b42e-061e4958f3b8"
      },
      "execution_count": null,
      "outputs": [
        {
          "output_type": "stream",
          "name": "stderr",
          "text": [
            "Some weights of BertForSequenceClassification were not initialized from the model checkpoint at prajjwal1/bert-tiny and are newly initialized: ['classifier.bias', 'classifier.weight']\n",
            "You should probably TRAIN this model on a down-stream task to be able to use it for predictions and inference.\n"
          ]
        },
        {
          "output_type": "stream",
          "name": "stdout",
          "text": [
            "Predicted label: 1\n"
          ]
        }
      ]
    },
    {
      "cell_type": "code",
      "source": [],
      "metadata": {
        "id": "PmyHNDjff69D"
      },
      "execution_count": null,
      "outputs": []
    }
  ],
  "metadata": {
    "accelerator": "GPU",
    "colab": {
      "gpuType": "T4",
      "machine_shape": "hm",
      "provenance": []
    },
    "kernelspec": {
      "display_name": "Python 3",
      "name": "python3"
    },
    "language_info": {
      "name": "python"
    },
    "widgets": {
      "application/vnd.jupyter.widget-state+json": {
        "9483a02c11414a4694763b1baa7b0ef7": {
          "model_module": "@jupyter-widgets/controls",
          "model_name": "HBoxModel",
          "model_module_version": "1.5.0",
          "state": {
            "_dom_classes": [],
            "_model_module": "@jupyter-widgets/controls",
            "_model_module_version": "1.5.0",
            "_model_name": "HBoxModel",
            "_view_count": null,
            "_view_module": "@jupyter-widgets/controls",
            "_view_module_version": "1.5.0",
            "_view_name": "HBoxView",
            "box_style": "",
            "children": [
              "IPY_MODEL_67e553d89cec495ea0f888e3814fa4eb",
              "IPY_MODEL_8f3e5a8c3a664f1dbf9ea4695d30217d",
              "IPY_MODEL_08edce7932ca4260b4761a6153b66b65"
            ],
            "layout": "IPY_MODEL_36b39a8832304f24927fa61b48f2cf36"
          }
        },
        "67e553d89cec495ea0f888e3814fa4eb": {
          "model_module": "@jupyter-widgets/controls",
          "model_name": "HTMLModel",
          "model_module_version": "1.5.0",
          "state": {
            "_dom_classes": [],
            "_model_module": "@jupyter-widgets/controls",
            "_model_module_version": "1.5.0",
            "_model_name": "HTMLModel",
            "_view_count": null,
            "_view_module": "@jupyter-widgets/controls",
            "_view_module_version": "1.5.0",
            "_view_name": "HTMLView",
            "description": "",
            "description_tooltip": null,
            "layout": "IPY_MODEL_2f3219f12e394fb2a6bb7900b8d1e51a",
            "placeholder": "​",
            "style": "IPY_MODEL_2dc48b49703e43729721ce6701abb807",
            "value": "vocab.txt: 100%"
          }
        },
        "8f3e5a8c3a664f1dbf9ea4695d30217d": {
          "model_module": "@jupyter-widgets/controls",
          "model_name": "FloatProgressModel",
          "model_module_version": "1.5.0",
          "state": {
            "_dom_classes": [],
            "_model_module": "@jupyter-widgets/controls",
            "_model_module_version": "1.5.0",
            "_model_name": "FloatProgressModel",
            "_view_count": null,
            "_view_module": "@jupyter-widgets/controls",
            "_view_module_version": "1.5.0",
            "_view_name": "ProgressView",
            "bar_style": "success",
            "description": "",
            "description_tooltip": null,
            "layout": "IPY_MODEL_327a372fcb30490dbe24f105bc0bf885",
            "max": 231508,
            "min": 0,
            "orientation": "horizontal",
            "style": "IPY_MODEL_e07b14374f1547fc9c89461c21ad0fbe",
            "value": 231508
          }
        },
        "08edce7932ca4260b4761a6153b66b65": {
          "model_module": "@jupyter-widgets/controls",
          "model_name": "HTMLModel",
          "model_module_version": "1.5.0",
          "state": {
            "_dom_classes": [],
            "_model_module": "@jupyter-widgets/controls",
            "_model_module_version": "1.5.0",
            "_model_name": "HTMLModel",
            "_view_count": null,
            "_view_module": "@jupyter-widgets/controls",
            "_view_module_version": "1.5.0",
            "_view_name": "HTMLView",
            "description": "",
            "description_tooltip": null,
            "layout": "IPY_MODEL_23a75266128141719a2ba1a2fbb9068d",
            "placeholder": "​",
            "style": "IPY_MODEL_f2bd3c8322e24ab8a3237ecc37473ec0",
            "value": " 232k/232k [00:00&lt;00:00, 4.03MB/s]"
          }
        },
        "36b39a8832304f24927fa61b48f2cf36": {
          "model_module": "@jupyter-widgets/base",
          "model_name": "LayoutModel",
          "model_module_version": "1.2.0",
          "state": {
            "_model_module": "@jupyter-widgets/base",
            "_model_module_version": "1.2.0",
            "_model_name": "LayoutModel",
            "_view_count": null,
            "_view_module": "@jupyter-widgets/base",
            "_view_module_version": "1.2.0",
            "_view_name": "LayoutView",
            "align_content": null,
            "align_items": null,
            "align_self": null,
            "border": null,
            "bottom": null,
            "display": null,
            "flex": null,
            "flex_flow": null,
            "grid_area": null,
            "grid_auto_columns": null,
            "grid_auto_flow": null,
            "grid_auto_rows": null,
            "grid_column": null,
            "grid_gap": null,
            "grid_row": null,
            "grid_template_areas": null,
            "grid_template_columns": null,
            "grid_template_rows": null,
            "height": null,
            "justify_content": null,
            "justify_items": null,
            "left": null,
            "margin": null,
            "max_height": null,
            "max_width": null,
            "min_height": null,
            "min_width": null,
            "object_fit": null,
            "object_position": null,
            "order": null,
            "overflow": null,
            "overflow_x": null,
            "overflow_y": null,
            "padding": null,
            "right": null,
            "top": null,
            "visibility": null,
            "width": null
          }
        },
        "2f3219f12e394fb2a6bb7900b8d1e51a": {
          "model_module": "@jupyter-widgets/base",
          "model_name": "LayoutModel",
          "model_module_version": "1.2.0",
          "state": {
            "_model_module": "@jupyter-widgets/base",
            "_model_module_version": "1.2.0",
            "_model_name": "LayoutModel",
            "_view_count": null,
            "_view_module": "@jupyter-widgets/base",
            "_view_module_version": "1.2.0",
            "_view_name": "LayoutView",
            "align_content": null,
            "align_items": null,
            "align_self": null,
            "border": null,
            "bottom": null,
            "display": null,
            "flex": null,
            "flex_flow": null,
            "grid_area": null,
            "grid_auto_columns": null,
            "grid_auto_flow": null,
            "grid_auto_rows": null,
            "grid_column": null,
            "grid_gap": null,
            "grid_row": null,
            "grid_template_areas": null,
            "grid_template_columns": null,
            "grid_template_rows": null,
            "height": null,
            "justify_content": null,
            "justify_items": null,
            "left": null,
            "margin": null,
            "max_height": null,
            "max_width": null,
            "min_height": null,
            "min_width": null,
            "object_fit": null,
            "object_position": null,
            "order": null,
            "overflow": null,
            "overflow_x": null,
            "overflow_y": null,
            "padding": null,
            "right": null,
            "top": null,
            "visibility": null,
            "width": null
          }
        },
        "2dc48b49703e43729721ce6701abb807": {
          "model_module": "@jupyter-widgets/controls",
          "model_name": "DescriptionStyleModel",
          "model_module_version": "1.5.0",
          "state": {
            "_model_module": "@jupyter-widgets/controls",
            "_model_module_version": "1.5.0",
            "_model_name": "DescriptionStyleModel",
            "_view_count": null,
            "_view_module": "@jupyter-widgets/base",
            "_view_module_version": "1.2.0",
            "_view_name": "StyleView",
            "description_width": ""
          }
        },
        "327a372fcb30490dbe24f105bc0bf885": {
          "model_module": "@jupyter-widgets/base",
          "model_name": "LayoutModel",
          "model_module_version": "1.2.0",
          "state": {
            "_model_module": "@jupyter-widgets/base",
            "_model_module_version": "1.2.0",
            "_model_name": "LayoutModel",
            "_view_count": null,
            "_view_module": "@jupyter-widgets/base",
            "_view_module_version": "1.2.0",
            "_view_name": "LayoutView",
            "align_content": null,
            "align_items": null,
            "align_self": null,
            "border": null,
            "bottom": null,
            "display": null,
            "flex": null,
            "flex_flow": null,
            "grid_area": null,
            "grid_auto_columns": null,
            "grid_auto_flow": null,
            "grid_auto_rows": null,
            "grid_column": null,
            "grid_gap": null,
            "grid_row": null,
            "grid_template_areas": null,
            "grid_template_columns": null,
            "grid_template_rows": null,
            "height": null,
            "justify_content": null,
            "justify_items": null,
            "left": null,
            "margin": null,
            "max_height": null,
            "max_width": null,
            "min_height": null,
            "min_width": null,
            "object_fit": null,
            "object_position": null,
            "order": null,
            "overflow": null,
            "overflow_x": null,
            "overflow_y": null,
            "padding": null,
            "right": null,
            "top": null,
            "visibility": null,
            "width": null
          }
        },
        "e07b14374f1547fc9c89461c21ad0fbe": {
          "model_module": "@jupyter-widgets/controls",
          "model_name": "ProgressStyleModel",
          "model_module_version": "1.5.0",
          "state": {
            "_model_module": "@jupyter-widgets/controls",
            "_model_module_version": "1.5.0",
            "_model_name": "ProgressStyleModel",
            "_view_count": null,
            "_view_module": "@jupyter-widgets/base",
            "_view_module_version": "1.2.0",
            "_view_name": "StyleView",
            "bar_color": null,
            "description_width": ""
          }
        },
        "23a75266128141719a2ba1a2fbb9068d": {
          "model_module": "@jupyter-widgets/base",
          "model_name": "LayoutModel",
          "model_module_version": "1.2.0",
          "state": {
            "_model_module": "@jupyter-widgets/base",
            "_model_module_version": "1.2.0",
            "_model_name": "LayoutModel",
            "_view_count": null,
            "_view_module": "@jupyter-widgets/base",
            "_view_module_version": "1.2.0",
            "_view_name": "LayoutView",
            "align_content": null,
            "align_items": null,
            "align_self": null,
            "border": null,
            "bottom": null,
            "display": null,
            "flex": null,
            "flex_flow": null,
            "grid_area": null,
            "grid_auto_columns": null,
            "grid_auto_flow": null,
            "grid_auto_rows": null,
            "grid_column": null,
            "grid_gap": null,
            "grid_row": null,
            "grid_template_areas": null,
            "grid_template_columns": null,
            "grid_template_rows": null,
            "height": null,
            "justify_content": null,
            "justify_items": null,
            "left": null,
            "margin": null,
            "max_height": null,
            "max_width": null,
            "min_height": null,
            "min_width": null,
            "object_fit": null,
            "object_position": null,
            "order": null,
            "overflow": null,
            "overflow_x": null,
            "overflow_y": null,
            "padding": null,
            "right": null,
            "top": null,
            "visibility": null,
            "width": null
          }
        },
        "f2bd3c8322e24ab8a3237ecc37473ec0": {
          "model_module": "@jupyter-widgets/controls",
          "model_name": "DescriptionStyleModel",
          "model_module_version": "1.5.0",
          "state": {
            "_model_module": "@jupyter-widgets/controls",
            "_model_module_version": "1.5.0",
            "_model_name": "DescriptionStyleModel",
            "_view_count": null,
            "_view_module": "@jupyter-widgets/base",
            "_view_module_version": "1.2.0",
            "_view_name": "StyleView",
            "description_width": ""
          }
        },
        "5081800cbe514b7a954e733a407cc359": {
          "model_module": "@jupyter-widgets/controls",
          "model_name": "HBoxModel",
          "model_module_version": "1.5.0",
          "state": {
            "_dom_classes": [],
            "_model_module": "@jupyter-widgets/controls",
            "_model_module_version": "1.5.0",
            "_model_name": "HBoxModel",
            "_view_count": null,
            "_view_module": "@jupyter-widgets/controls",
            "_view_module_version": "1.5.0",
            "_view_name": "HBoxView",
            "box_style": "",
            "children": [
              "IPY_MODEL_cf1d95a4d7ed4814826fedb7983feed1",
              "IPY_MODEL_c214514c36474847aab9e9827fb65735",
              "IPY_MODEL_bba55054bab64a069c64df4b3300613f"
            ],
            "layout": "IPY_MODEL_34fbca91f4ac4bcba4bdf7a921a49ba9"
          }
        },
        "cf1d95a4d7ed4814826fedb7983feed1": {
          "model_module": "@jupyter-widgets/controls",
          "model_name": "HTMLModel",
          "model_module_version": "1.5.0",
          "state": {
            "_dom_classes": [],
            "_model_module": "@jupyter-widgets/controls",
            "_model_module_version": "1.5.0",
            "_model_name": "HTMLModel",
            "_view_count": null,
            "_view_module": "@jupyter-widgets/controls",
            "_view_module_version": "1.5.0",
            "_view_name": "HTMLView",
            "description": "",
            "description_tooltip": null,
            "layout": "IPY_MODEL_f1c378934539404fad8230df8aa591eb",
            "placeholder": "​",
            "style": "IPY_MODEL_eb32a0e7525e4e33b273948bc95ced65",
            "value": "config.json: 100%"
          }
        },
        "c214514c36474847aab9e9827fb65735": {
          "model_module": "@jupyter-widgets/controls",
          "model_name": "FloatProgressModel",
          "model_module_version": "1.5.0",
          "state": {
            "_dom_classes": [],
            "_model_module": "@jupyter-widgets/controls",
            "_model_module_version": "1.5.0",
            "_model_name": "FloatProgressModel",
            "_view_count": null,
            "_view_module": "@jupyter-widgets/controls",
            "_view_module_version": "1.5.0",
            "_view_name": "ProgressView",
            "bar_style": "success",
            "description": "",
            "description_tooltip": null,
            "layout": "IPY_MODEL_81e6a624ceb245d98f86bc10e46dd24a",
            "max": 285,
            "min": 0,
            "orientation": "horizontal",
            "style": "IPY_MODEL_4cfb9fb8f392403bac0425a3243fa771",
            "value": 285
          }
        },
        "bba55054bab64a069c64df4b3300613f": {
          "model_module": "@jupyter-widgets/controls",
          "model_name": "HTMLModel",
          "model_module_version": "1.5.0",
          "state": {
            "_dom_classes": [],
            "_model_module": "@jupyter-widgets/controls",
            "_model_module_version": "1.5.0",
            "_model_name": "HTMLModel",
            "_view_count": null,
            "_view_module": "@jupyter-widgets/controls",
            "_view_module_version": "1.5.0",
            "_view_name": "HTMLView",
            "description": "",
            "description_tooltip": null,
            "layout": "IPY_MODEL_44048f945c0941c2ab277be8992d53f0",
            "placeholder": "​",
            "style": "IPY_MODEL_80ea573ab54645e68297f2945f12f6f5",
            "value": " 285/285 [00:00&lt;00:00, 24.1kB/s]"
          }
        },
        "34fbca91f4ac4bcba4bdf7a921a49ba9": {
          "model_module": "@jupyter-widgets/base",
          "model_name": "LayoutModel",
          "model_module_version": "1.2.0",
          "state": {
            "_model_module": "@jupyter-widgets/base",
            "_model_module_version": "1.2.0",
            "_model_name": "LayoutModel",
            "_view_count": null,
            "_view_module": "@jupyter-widgets/base",
            "_view_module_version": "1.2.0",
            "_view_name": "LayoutView",
            "align_content": null,
            "align_items": null,
            "align_self": null,
            "border": null,
            "bottom": null,
            "display": null,
            "flex": null,
            "flex_flow": null,
            "grid_area": null,
            "grid_auto_columns": null,
            "grid_auto_flow": null,
            "grid_auto_rows": null,
            "grid_column": null,
            "grid_gap": null,
            "grid_row": null,
            "grid_template_areas": null,
            "grid_template_columns": null,
            "grid_template_rows": null,
            "height": null,
            "justify_content": null,
            "justify_items": null,
            "left": null,
            "margin": null,
            "max_height": null,
            "max_width": null,
            "min_height": null,
            "min_width": null,
            "object_fit": null,
            "object_position": null,
            "order": null,
            "overflow": null,
            "overflow_x": null,
            "overflow_y": null,
            "padding": null,
            "right": null,
            "top": null,
            "visibility": null,
            "width": null
          }
        },
        "f1c378934539404fad8230df8aa591eb": {
          "model_module": "@jupyter-widgets/base",
          "model_name": "LayoutModel",
          "model_module_version": "1.2.0",
          "state": {
            "_model_module": "@jupyter-widgets/base",
            "_model_module_version": "1.2.0",
            "_model_name": "LayoutModel",
            "_view_count": null,
            "_view_module": "@jupyter-widgets/base",
            "_view_module_version": "1.2.0",
            "_view_name": "LayoutView",
            "align_content": null,
            "align_items": null,
            "align_self": null,
            "border": null,
            "bottom": null,
            "display": null,
            "flex": null,
            "flex_flow": null,
            "grid_area": null,
            "grid_auto_columns": null,
            "grid_auto_flow": null,
            "grid_auto_rows": null,
            "grid_column": null,
            "grid_gap": null,
            "grid_row": null,
            "grid_template_areas": null,
            "grid_template_columns": null,
            "grid_template_rows": null,
            "height": null,
            "justify_content": null,
            "justify_items": null,
            "left": null,
            "margin": null,
            "max_height": null,
            "max_width": null,
            "min_height": null,
            "min_width": null,
            "object_fit": null,
            "object_position": null,
            "order": null,
            "overflow": null,
            "overflow_x": null,
            "overflow_y": null,
            "padding": null,
            "right": null,
            "top": null,
            "visibility": null,
            "width": null
          }
        },
        "eb32a0e7525e4e33b273948bc95ced65": {
          "model_module": "@jupyter-widgets/controls",
          "model_name": "DescriptionStyleModel",
          "model_module_version": "1.5.0",
          "state": {
            "_model_module": "@jupyter-widgets/controls",
            "_model_module_version": "1.5.0",
            "_model_name": "DescriptionStyleModel",
            "_view_count": null,
            "_view_module": "@jupyter-widgets/base",
            "_view_module_version": "1.2.0",
            "_view_name": "StyleView",
            "description_width": ""
          }
        },
        "81e6a624ceb245d98f86bc10e46dd24a": {
          "model_module": "@jupyter-widgets/base",
          "model_name": "LayoutModel",
          "model_module_version": "1.2.0",
          "state": {
            "_model_module": "@jupyter-widgets/base",
            "_model_module_version": "1.2.0",
            "_model_name": "LayoutModel",
            "_view_count": null,
            "_view_module": "@jupyter-widgets/base",
            "_view_module_version": "1.2.0",
            "_view_name": "LayoutView",
            "align_content": null,
            "align_items": null,
            "align_self": null,
            "border": null,
            "bottom": null,
            "display": null,
            "flex": null,
            "flex_flow": null,
            "grid_area": null,
            "grid_auto_columns": null,
            "grid_auto_flow": null,
            "grid_auto_rows": null,
            "grid_column": null,
            "grid_gap": null,
            "grid_row": null,
            "grid_template_areas": null,
            "grid_template_columns": null,
            "grid_template_rows": null,
            "height": null,
            "justify_content": null,
            "justify_items": null,
            "left": null,
            "margin": null,
            "max_height": null,
            "max_width": null,
            "min_height": null,
            "min_width": null,
            "object_fit": null,
            "object_position": null,
            "order": null,
            "overflow": null,
            "overflow_x": null,
            "overflow_y": null,
            "padding": null,
            "right": null,
            "top": null,
            "visibility": null,
            "width": null
          }
        },
        "4cfb9fb8f392403bac0425a3243fa771": {
          "model_module": "@jupyter-widgets/controls",
          "model_name": "ProgressStyleModel",
          "model_module_version": "1.5.0",
          "state": {
            "_model_module": "@jupyter-widgets/controls",
            "_model_module_version": "1.5.0",
            "_model_name": "ProgressStyleModel",
            "_view_count": null,
            "_view_module": "@jupyter-widgets/base",
            "_view_module_version": "1.2.0",
            "_view_name": "StyleView",
            "bar_color": null,
            "description_width": ""
          }
        },
        "44048f945c0941c2ab277be8992d53f0": {
          "model_module": "@jupyter-widgets/base",
          "model_name": "LayoutModel",
          "model_module_version": "1.2.0",
          "state": {
            "_model_module": "@jupyter-widgets/base",
            "_model_module_version": "1.2.0",
            "_model_name": "LayoutModel",
            "_view_count": null,
            "_view_module": "@jupyter-widgets/base",
            "_view_module_version": "1.2.0",
            "_view_name": "LayoutView",
            "align_content": null,
            "align_items": null,
            "align_self": null,
            "border": null,
            "bottom": null,
            "display": null,
            "flex": null,
            "flex_flow": null,
            "grid_area": null,
            "grid_auto_columns": null,
            "grid_auto_flow": null,
            "grid_auto_rows": null,
            "grid_column": null,
            "grid_gap": null,
            "grid_row": null,
            "grid_template_areas": null,
            "grid_template_columns": null,
            "grid_template_rows": null,
            "height": null,
            "justify_content": null,
            "justify_items": null,
            "left": null,
            "margin": null,
            "max_height": null,
            "max_width": null,
            "min_height": null,
            "min_width": null,
            "object_fit": null,
            "object_position": null,
            "order": null,
            "overflow": null,
            "overflow_x": null,
            "overflow_y": null,
            "padding": null,
            "right": null,
            "top": null,
            "visibility": null,
            "width": null
          }
        },
        "80ea573ab54645e68297f2945f12f6f5": {
          "model_module": "@jupyter-widgets/controls",
          "model_name": "DescriptionStyleModel",
          "model_module_version": "1.5.0",
          "state": {
            "_model_module": "@jupyter-widgets/controls",
            "_model_module_version": "1.5.0",
            "_model_name": "DescriptionStyleModel",
            "_view_count": null,
            "_view_module": "@jupyter-widgets/base",
            "_view_module_version": "1.2.0",
            "_view_name": "StyleView",
            "description_width": ""
          }
        },
        "f57c9f7eaab8434bab13135aef11f4a9": {
          "model_module": "@jupyter-widgets/controls",
          "model_name": "HBoxModel",
          "model_module_version": "1.5.0",
          "state": {
            "_dom_classes": [],
            "_model_module": "@jupyter-widgets/controls",
            "_model_module_version": "1.5.0",
            "_model_name": "HBoxModel",
            "_view_count": null,
            "_view_module": "@jupyter-widgets/controls",
            "_view_module_version": "1.5.0",
            "_view_name": "HBoxView",
            "box_style": "",
            "children": [
              "IPY_MODEL_b4d78f20a2824430a1c6483de97a8da2",
              "IPY_MODEL_e26323ac046546c7b38eaa89d607bd14",
              "IPY_MODEL_0fa12ab7de2a4b3983142cf4c83e9cac"
            ],
            "layout": "IPY_MODEL_79794188a7554a8d8fed390b6dac2f02"
          }
        },
        "b4d78f20a2824430a1c6483de97a8da2": {
          "model_module": "@jupyter-widgets/controls",
          "model_name": "HTMLModel",
          "model_module_version": "1.5.0",
          "state": {
            "_dom_classes": [],
            "_model_module": "@jupyter-widgets/controls",
            "_model_module_version": "1.5.0",
            "_model_name": "HTMLModel",
            "_view_count": null,
            "_view_module": "@jupyter-widgets/controls",
            "_view_module_version": "1.5.0",
            "_view_name": "HTMLView",
            "description": "",
            "description_tooltip": null,
            "layout": "IPY_MODEL_14dee9ef75894c20bd235567bbb73bc2",
            "placeholder": "​",
            "style": "IPY_MODEL_fd4e4c240c9f43beadf38c9e31491f05",
            "value": "pytorch_model.bin: 100%"
          }
        },
        "e26323ac046546c7b38eaa89d607bd14": {
          "model_module": "@jupyter-widgets/controls",
          "model_name": "FloatProgressModel",
          "model_module_version": "1.5.0",
          "state": {
            "_dom_classes": [],
            "_model_module": "@jupyter-widgets/controls",
            "_model_module_version": "1.5.0",
            "_model_name": "FloatProgressModel",
            "_view_count": null,
            "_view_module": "@jupyter-widgets/controls",
            "_view_module_version": "1.5.0",
            "_view_name": "ProgressView",
            "bar_style": "success",
            "description": "",
            "description_tooltip": null,
            "layout": "IPY_MODEL_59edba30f0af4058b7791a2efb97c92f",
            "max": 17756393,
            "min": 0,
            "orientation": "horizontal",
            "style": "IPY_MODEL_380221267a2f4701b5399407d34cbc1d",
            "value": 17756393
          }
        },
        "0fa12ab7de2a4b3983142cf4c83e9cac": {
          "model_module": "@jupyter-widgets/controls",
          "model_name": "HTMLModel",
          "model_module_version": "1.5.0",
          "state": {
            "_dom_classes": [],
            "_model_module": "@jupyter-widgets/controls",
            "_model_module_version": "1.5.0",
            "_model_name": "HTMLModel",
            "_view_count": null,
            "_view_module": "@jupyter-widgets/controls",
            "_view_module_version": "1.5.0",
            "_view_name": "HTMLView",
            "description": "",
            "description_tooltip": null,
            "layout": "IPY_MODEL_d5a02aa16c7147158613aa440e01f738",
            "placeholder": "​",
            "style": "IPY_MODEL_9e7299807e6e46c5a58483245c50defc",
            "value": " 17.8M/17.8M [00:00&lt;00:00, 54.1MB/s]"
          }
        },
        "79794188a7554a8d8fed390b6dac2f02": {
          "model_module": "@jupyter-widgets/base",
          "model_name": "LayoutModel",
          "model_module_version": "1.2.0",
          "state": {
            "_model_module": "@jupyter-widgets/base",
            "_model_module_version": "1.2.0",
            "_model_name": "LayoutModel",
            "_view_count": null,
            "_view_module": "@jupyter-widgets/base",
            "_view_module_version": "1.2.0",
            "_view_name": "LayoutView",
            "align_content": null,
            "align_items": null,
            "align_self": null,
            "border": null,
            "bottom": null,
            "display": null,
            "flex": null,
            "flex_flow": null,
            "grid_area": null,
            "grid_auto_columns": null,
            "grid_auto_flow": null,
            "grid_auto_rows": null,
            "grid_column": null,
            "grid_gap": null,
            "grid_row": null,
            "grid_template_areas": null,
            "grid_template_columns": null,
            "grid_template_rows": null,
            "height": null,
            "justify_content": null,
            "justify_items": null,
            "left": null,
            "margin": null,
            "max_height": null,
            "max_width": null,
            "min_height": null,
            "min_width": null,
            "object_fit": null,
            "object_position": null,
            "order": null,
            "overflow": null,
            "overflow_x": null,
            "overflow_y": null,
            "padding": null,
            "right": null,
            "top": null,
            "visibility": null,
            "width": null
          }
        },
        "14dee9ef75894c20bd235567bbb73bc2": {
          "model_module": "@jupyter-widgets/base",
          "model_name": "LayoutModel",
          "model_module_version": "1.2.0",
          "state": {
            "_model_module": "@jupyter-widgets/base",
            "_model_module_version": "1.2.0",
            "_model_name": "LayoutModel",
            "_view_count": null,
            "_view_module": "@jupyter-widgets/base",
            "_view_module_version": "1.2.0",
            "_view_name": "LayoutView",
            "align_content": null,
            "align_items": null,
            "align_self": null,
            "border": null,
            "bottom": null,
            "display": null,
            "flex": null,
            "flex_flow": null,
            "grid_area": null,
            "grid_auto_columns": null,
            "grid_auto_flow": null,
            "grid_auto_rows": null,
            "grid_column": null,
            "grid_gap": null,
            "grid_row": null,
            "grid_template_areas": null,
            "grid_template_columns": null,
            "grid_template_rows": null,
            "height": null,
            "justify_content": null,
            "justify_items": null,
            "left": null,
            "margin": null,
            "max_height": null,
            "max_width": null,
            "min_height": null,
            "min_width": null,
            "object_fit": null,
            "object_position": null,
            "order": null,
            "overflow": null,
            "overflow_x": null,
            "overflow_y": null,
            "padding": null,
            "right": null,
            "top": null,
            "visibility": null,
            "width": null
          }
        },
        "fd4e4c240c9f43beadf38c9e31491f05": {
          "model_module": "@jupyter-widgets/controls",
          "model_name": "DescriptionStyleModel",
          "model_module_version": "1.5.0",
          "state": {
            "_model_module": "@jupyter-widgets/controls",
            "_model_module_version": "1.5.0",
            "_model_name": "DescriptionStyleModel",
            "_view_count": null,
            "_view_module": "@jupyter-widgets/base",
            "_view_module_version": "1.2.0",
            "_view_name": "StyleView",
            "description_width": ""
          }
        },
        "59edba30f0af4058b7791a2efb97c92f": {
          "model_module": "@jupyter-widgets/base",
          "model_name": "LayoutModel",
          "model_module_version": "1.2.0",
          "state": {
            "_model_module": "@jupyter-widgets/base",
            "_model_module_version": "1.2.0",
            "_model_name": "LayoutModel",
            "_view_count": null,
            "_view_module": "@jupyter-widgets/base",
            "_view_module_version": "1.2.0",
            "_view_name": "LayoutView",
            "align_content": null,
            "align_items": null,
            "align_self": null,
            "border": null,
            "bottom": null,
            "display": null,
            "flex": null,
            "flex_flow": null,
            "grid_area": null,
            "grid_auto_columns": null,
            "grid_auto_flow": null,
            "grid_auto_rows": null,
            "grid_column": null,
            "grid_gap": null,
            "grid_row": null,
            "grid_template_areas": null,
            "grid_template_columns": null,
            "grid_template_rows": null,
            "height": null,
            "justify_content": null,
            "justify_items": null,
            "left": null,
            "margin": null,
            "max_height": null,
            "max_width": null,
            "min_height": null,
            "min_width": null,
            "object_fit": null,
            "object_position": null,
            "order": null,
            "overflow": null,
            "overflow_x": null,
            "overflow_y": null,
            "padding": null,
            "right": null,
            "top": null,
            "visibility": null,
            "width": null
          }
        },
        "380221267a2f4701b5399407d34cbc1d": {
          "model_module": "@jupyter-widgets/controls",
          "model_name": "ProgressStyleModel",
          "model_module_version": "1.5.0",
          "state": {
            "_model_module": "@jupyter-widgets/controls",
            "_model_module_version": "1.5.0",
            "_model_name": "ProgressStyleModel",
            "_view_count": null,
            "_view_module": "@jupyter-widgets/base",
            "_view_module_version": "1.2.0",
            "_view_name": "StyleView",
            "bar_color": null,
            "description_width": ""
          }
        },
        "d5a02aa16c7147158613aa440e01f738": {
          "model_module": "@jupyter-widgets/base",
          "model_name": "LayoutModel",
          "model_module_version": "1.2.0",
          "state": {
            "_model_module": "@jupyter-widgets/base",
            "_model_module_version": "1.2.0",
            "_model_name": "LayoutModel",
            "_view_count": null,
            "_view_module": "@jupyter-widgets/base",
            "_view_module_version": "1.2.0",
            "_view_name": "LayoutView",
            "align_content": null,
            "align_items": null,
            "align_self": null,
            "border": null,
            "bottom": null,
            "display": null,
            "flex": null,
            "flex_flow": null,
            "grid_area": null,
            "grid_auto_columns": null,
            "grid_auto_flow": null,
            "grid_auto_rows": null,
            "grid_column": null,
            "grid_gap": null,
            "grid_row": null,
            "grid_template_areas": null,
            "grid_template_columns": null,
            "grid_template_rows": null,
            "height": null,
            "justify_content": null,
            "justify_items": null,
            "left": null,
            "margin": null,
            "max_height": null,
            "max_width": null,
            "min_height": null,
            "min_width": null,
            "object_fit": null,
            "object_position": null,
            "order": null,
            "overflow": null,
            "overflow_x": null,
            "overflow_y": null,
            "padding": null,
            "right": null,
            "top": null,
            "visibility": null,
            "width": null
          }
        },
        "9e7299807e6e46c5a58483245c50defc": {
          "model_module": "@jupyter-widgets/controls",
          "model_name": "DescriptionStyleModel",
          "model_module_version": "1.5.0",
          "state": {
            "_model_module": "@jupyter-widgets/controls",
            "_model_module_version": "1.5.0",
            "_model_name": "DescriptionStyleModel",
            "_view_count": null,
            "_view_module": "@jupyter-widgets/base",
            "_view_module_version": "1.2.0",
            "_view_name": "StyleView",
            "description_width": ""
          }
        }
      }
    }
  },
  "nbformat": 4,
  "nbformat_minor": 0
}
